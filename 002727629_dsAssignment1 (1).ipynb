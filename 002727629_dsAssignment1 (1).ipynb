{
  "nbformat": 4,
  "nbformat_minor": 0,
  "metadata": {
    "colab": {
      "provenance": [],
      "collapsed_sections": [
        "oGLyIEhaTspa",
        "vcenApwITVFb",
        "EntmoIACN2cP",
        "GusEJp19OhJm",
        "r5RDm36wPbbw",
        "a2Y8U3dxTj8_",
        "ncKLa78YWp93",
        "pXtRSXhncjl6",
        "QH0z8Dj5g8TP",
        "o475z4ndVbMI",
        "vq6vabqJhM5N",
        "IaTcvh-vh9Ha"
      ]
    },
    "kernelspec": {
      "name": "python3",
      "display_name": "Python 3"
    },
    "language_info": {
      "name": "python"
    }
  },
  "cells": [
    {
      "cell_type": "markdown",
      "source": [
        "ML Data Cleaning and Feature Selection\n",
        "\n",
        "In this assignment, you will use a dataset for predictive learning and check the quality of the data and determine which features are important.\n",
        "\n",
        "Answer the following questions:\n",
        "\n",
        "* What are the data types? (Only numeric and categorical)\n",
        "\n",
        "* Are there missing values?\n",
        "\n",
        "* What are the likely distributions of the numeric variables?\n",
        "\n",
        "* Which independent variables are useful to predict a target (dependent variable)? (Use at least three methods)\n",
        "\n",
        "* Which independent variables have missing data? How much? \n",
        "\n",
        "* Do the training and test sets have the same data?\n",
        "\n",
        "* In the predictor variables independent of all the other predictor variables?\n",
        "\n",
        "* Which predictor variables are the most important?\n",
        "\n",
        "* Do the ranges of the predictor variables make sense?\n",
        "\n",
        "* What are the distributions of the predictor variables?   \n",
        "\n",
        "* Remove outliers and keep outliers (does if have an effect of the final predictive model)?\n",
        "\n",
        "* Remove 1%, 5%, and 10% of your data randomly and impute the values back using at least 3 imputation methods. How well did the methods recover the missing values?  That is remove some data, check the % error on residuals for numeric data and check for bias and variance of the error.\n",
        "\n",
        "For categorical data, calculate the accuracy and a confusion matrix.\n",
        "\n",
        "Scoring Rubric\n",
        "\n",
        "Are my answers supported with data? (20 Points)\n",
        "\n",
        "Tables, graphs, and charts must support your evaluation/answers.\n",
        "\n",
        "It MUST run in Google Collab. You will also save the Google Collab notebook as a .ipynb notebook and upload that to Canvas . (5 Points)\n",
        "\n",
        " \n",
        "\n",
        "Public dataset (5 Points)\n",
        "\n",
        "Pick a public dataset that can be used for Regression or Classification. You MUST get approval for your dataset from the TAs.\n",
        "\n",
        " \n",
        "\n",
        "What code is yours and what have you adapted? (5 Points)\n",
        "\n",
        "You must explain what code you wrote and what you have done that is different. Failure to cite ANY code will result in a zero for this section.\n",
        "\n",
        " \n",
        "\n",
        "Did I explain my code clearly? (15 Points) Your code review score will be scaled to a range of 0 to 10 and be used for this score.\n",
        "\n",
        " \n",
        "\n",
        "Did I explain my licensing clearly? (5 Points) Failure to cite a clear license will result in a zero for this section.\n",
        "\n",
        " \n",
        "\n",
        "Answers to listed questions (45 Points)\n",
        "\n",
        " \n",
        "\n",
        "* Which independent variables are useful to predict a target (dependent variable)?\n",
        "\n",
        "* Which independent variable have missing data? How much? \n",
        "\n",
        "* Do the training and test sets have the same data?\n",
        "\n",
        "* In the predictor variables independent of all the other predictor variables?\n",
        "\n",
        "* Which predictor variables are the most important?\n",
        "\n",
        "* Do the ranges of the predictor variables make sense?\n",
        "\n",
        "* What are the distributions of the predictor variables?   \n",
        "\n",
        "Notes:\n",
        "\n",
        "Normality - When we talk about normality what we mean is that the data should look like a normal distribution. This is important because several statistic tests rely on this (e.g. t-statistics). In this exercise we'll just check univariate normality for 'SalePrice' (which is a limited approach). Remember that univariate normality doesn't ensure multivariate normality (which is what we would like to have), but it helps. Another detail to take into account is that in big samples (>200 observations) normality is not such an issue. However, if we solve normality, we avoid a lot of other problems (e.g. heteroscedacity) so that's the main reason why we are doing this analysis.\n",
        "\n",
        "Homoscedasticity - I just hope I wrote it right. Homoscedasticity refers to the 'assumption that dependent variable(s) exhibit equal levels of variance across the range of predictor variable(s)' (Hair et al., 2013) Links to an external site.. Homoscedasticity is desirable because we want the error term to be the same across all values of the independent variables.\n",
        "\n",
        "Linearity- The most common way to assess linearity is to examine scatter plots and search for linear patterns. If patterns are not linear, it would be worthwhile to explore data transformations. However, we'll not get into this because most of the scatter plots we've seen appear to have linear relationships.\n",
        "\n",
        "Absence of correlated errors - Correlated errors, like the definition suggests, happen when one error is correlated to another. For instance, if one positive error makes a negative error systematically, it means that there's a relationship between these variables. This occurs often in time series, where some patterns are time related. We'll also not get into this. However, if you detect something, try to add a variable that can explain the effect you're getting. That's the most common solution for correlated errors.\n",
        "\n",
        "DATA SET:\n",
        "This is a dataset of top 100 games of each category of games on Google Play Store along with their ratings and other data like price and number of installs.\n",
        "The dataset consists of features like Rank, Title, Total ratings, installs, average rating, growth for 30 days, 60 days, price, category, 5,4,3,2,1 ratings and paid.\n",
        "\n"
      ],
      "metadata": {
        "id": "rVPq3_r1Mi01"
      }
    },
    {
      "cell_type": "code",
      "execution_count": 1169,
      "metadata": {
        "id": "tnZWZt3oqYIO"
      },
      "outputs": [],
      "source": [
        "# Import Libraries\n",
        "import pandas as pd\n",
        "import numpy as np\n",
        "import matplotlib.pyplot as plt\n",
        "import seaborn as sns\n",
        "from sklearn.preprocessing import LabelEncoder\n",
        "from sklearn.model_selection import train_test_split"
      ]
    },
    {
      "cell_type": "code",
      "source": [
        "#reading the dataset\n",
        "ds = pd.read_csv(\"https://raw.githubusercontent.com/Niharika-Santhoshini-Karri/Datascience_Assignment1/main/android-games.csv\")"
      ],
      "metadata": {
        "id": "YbjwKzwLrEX_"
      },
      "execution_count": 1170,
      "outputs": []
    },
    {
      "cell_type": "code",
      "source": [
        "ds"
      ],
      "metadata": {
        "colab": {
          "base_uri": "https://localhost:8080/",
          "height": 728
        },
        "id": "cqkXfsF8rWeZ",
        "outputId": "c2cb27a1-871a-4825-b2c6-ff7e77d53e1c"
      },
      "execution_count": 1171,
      "outputs": [
        {
          "output_type": "execute_result",
          "data": {
            "text/plain": [
              "      rank                                         title  total ratings  \\\n",
              "0        1                Garena Free Fire- World Series       86273129   \n",
              "1        2                        PUBG MOBILE - Traverse       37276732   \n",
              "2        3                     Mobile Legends: Bang Bang       26663595   \n",
              "3        4                                   Brawl Stars       17971552   \n",
              "4        5  Sniper 3D: Fun Free Online FPS Shooting Game       14464235   \n",
              "...    ...                                           ...            ...   \n",
              "1725    96                 زوايا - لعبة ستحرك زوايا عقلك         112408   \n",
              "1726    97     Bible Word Puzzle - Free Bible Word Games         111595   \n",
              "1727    98                  Scrabble® GO - New Word Game         110723   \n",
              "1728    99      Word Nut: Word Puzzle Games & Crosswords         109530   \n",
              "1729   100                                  Pinturillo 2         108917   \n",
              "\n",
              "     installs  average rating  growth (30 days)  growth (60 days)  price  \\\n",
              "0     500.0 M               4               2.1               6.9    0.0   \n",
              "1     500.0 M               4               1.8               3.6    0.0   \n",
              "2     100.0 M               4               1.5               3.2    0.0   \n",
              "3     100.0 M               4               1.4               4.4    0.0   \n",
              "4     500.0 M               4               0.8               1.5    0.0   \n",
              "...       ...             ...               ...               ...    ...   \n",
              "1725    1.0 M               4               0.9               1.8    0.0   \n",
              "1726    1.0 M               4               0.9               2.3    0.0   \n",
              "1727   10.0 M               4               0.9               1.9    0.0   \n",
              "1728    5.0 M               4               1.9               4.1    0.0   \n",
              "1729   10.0 M               3               1.1               2.5    0.0   \n",
              "\n",
              "         category  5 star ratings  4 star ratings  3 star ratings  \\\n",
              "0     GAME ACTION        63546766         4949507         3158756   \n",
              "1     GAME ACTION        28339753         2164478         1253185   \n",
              "2     GAME ACTION        18777988         1812094         1050600   \n",
              "3     GAME ACTION        13018610         1552950          774012   \n",
              "4     GAME ACTION         9827328         2124154         1047741   \n",
              "...           ...             ...             ...             ...   \n",
              "1725    GAME WORD          101036            3607            3237   \n",
              "1726    GAME WORD           88950           14856            4297   \n",
              "1727    GAME WORD           64184           18332            9385   \n",
              "1728    GAME WORD           99987            4766            1469   \n",
              "1729    GAME WORD           50813           16480           11825   \n",
              "\n",
              "      2 star ratings  1 star ratings   paid  \n",
              "0            2122183        12495915  False  \n",
              "1             809821         4709492  False  \n",
              "2             713912         4308998  False  \n",
              "3             406184         2219794  False  \n",
              "4             380670         1084340  False  \n",
              "...              ...             ...    ...  \n",
              "1725            1229            3297  False  \n",
              "1726            1385            2103  False  \n",
              "1727            6688           12132  False  \n",
              "1728             953            2353  False  \n",
              "1729            6166           23631  False  \n",
              "\n",
              "[1730 rows x 15 columns]"
            ],
            "text/html": [
              "\n",
              "  <div id=\"df-27058342-c0cf-46ac-8364-b85136474148\">\n",
              "    <div class=\"colab-df-container\">\n",
              "      <div>\n",
              "<style scoped>\n",
              "    .dataframe tbody tr th:only-of-type {\n",
              "        vertical-align: middle;\n",
              "    }\n",
              "\n",
              "    .dataframe tbody tr th {\n",
              "        vertical-align: top;\n",
              "    }\n",
              "\n",
              "    .dataframe thead th {\n",
              "        text-align: right;\n",
              "    }\n",
              "</style>\n",
              "<table border=\"1\" class=\"dataframe\">\n",
              "  <thead>\n",
              "    <tr style=\"text-align: right;\">\n",
              "      <th></th>\n",
              "      <th>rank</th>\n",
              "      <th>title</th>\n",
              "      <th>total ratings</th>\n",
              "      <th>installs</th>\n",
              "      <th>average rating</th>\n",
              "      <th>growth (30 days)</th>\n",
              "      <th>growth (60 days)</th>\n",
              "      <th>price</th>\n",
              "      <th>category</th>\n",
              "      <th>5 star ratings</th>\n",
              "      <th>4 star ratings</th>\n",
              "      <th>3 star ratings</th>\n",
              "      <th>2 star ratings</th>\n",
              "      <th>1 star ratings</th>\n",
              "      <th>paid</th>\n",
              "    </tr>\n",
              "  </thead>\n",
              "  <tbody>\n",
              "    <tr>\n",
              "      <th>0</th>\n",
              "      <td>1</td>\n",
              "      <td>Garena Free Fire- World Series</td>\n",
              "      <td>86273129</td>\n",
              "      <td>500.0 M</td>\n",
              "      <td>4</td>\n",
              "      <td>2.1</td>\n",
              "      <td>6.9</td>\n",
              "      <td>0.0</td>\n",
              "      <td>GAME ACTION</td>\n",
              "      <td>63546766</td>\n",
              "      <td>4949507</td>\n",
              "      <td>3158756</td>\n",
              "      <td>2122183</td>\n",
              "      <td>12495915</td>\n",
              "      <td>False</td>\n",
              "    </tr>\n",
              "    <tr>\n",
              "      <th>1</th>\n",
              "      <td>2</td>\n",
              "      <td>PUBG MOBILE - Traverse</td>\n",
              "      <td>37276732</td>\n",
              "      <td>500.0 M</td>\n",
              "      <td>4</td>\n",
              "      <td>1.8</td>\n",
              "      <td>3.6</td>\n",
              "      <td>0.0</td>\n",
              "      <td>GAME ACTION</td>\n",
              "      <td>28339753</td>\n",
              "      <td>2164478</td>\n",
              "      <td>1253185</td>\n",
              "      <td>809821</td>\n",
              "      <td>4709492</td>\n",
              "      <td>False</td>\n",
              "    </tr>\n",
              "    <tr>\n",
              "      <th>2</th>\n",
              "      <td>3</td>\n",
              "      <td>Mobile Legends: Bang Bang</td>\n",
              "      <td>26663595</td>\n",
              "      <td>100.0 M</td>\n",
              "      <td>4</td>\n",
              "      <td>1.5</td>\n",
              "      <td>3.2</td>\n",
              "      <td>0.0</td>\n",
              "      <td>GAME ACTION</td>\n",
              "      <td>18777988</td>\n",
              "      <td>1812094</td>\n",
              "      <td>1050600</td>\n",
              "      <td>713912</td>\n",
              "      <td>4308998</td>\n",
              "      <td>False</td>\n",
              "    </tr>\n",
              "    <tr>\n",
              "      <th>3</th>\n",
              "      <td>4</td>\n",
              "      <td>Brawl Stars</td>\n",
              "      <td>17971552</td>\n",
              "      <td>100.0 M</td>\n",
              "      <td>4</td>\n",
              "      <td>1.4</td>\n",
              "      <td>4.4</td>\n",
              "      <td>0.0</td>\n",
              "      <td>GAME ACTION</td>\n",
              "      <td>13018610</td>\n",
              "      <td>1552950</td>\n",
              "      <td>774012</td>\n",
              "      <td>406184</td>\n",
              "      <td>2219794</td>\n",
              "      <td>False</td>\n",
              "    </tr>\n",
              "    <tr>\n",
              "      <th>4</th>\n",
              "      <td>5</td>\n",
              "      <td>Sniper 3D: Fun Free Online FPS Shooting Game</td>\n",
              "      <td>14464235</td>\n",
              "      <td>500.0 M</td>\n",
              "      <td>4</td>\n",
              "      <td>0.8</td>\n",
              "      <td>1.5</td>\n",
              "      <td>0.0</td>\n",
              "      <td>GAME ACTION</td>\n",
              "      <td>9827328</td>\n",
              "      <td>2124154</td>\n",
              "      <td>1047741</td>\n",
              "      <td>380670</td>\n",
              "      <td>1084340</td>\n",
              "      <td>False</td>\n",
              "    </tr>\n",
              "    <tr>\n",
              "      <th>...</th>\n",
              "      <td>...</td>\n",
              "      <td>...</td>\n",
              "      <td>...</td>\n",
              "      <td>...</td>\n",
              "      <td>...</td>\n",
              "      <td>...</td>\n",
              "      <td>...</td>\n",
              "      <td>...</td>\n",
              "      <td>...</td>\n",
              "      <td>...</td>\n",
              "      <td>...</td>\n",
              "      <td>...</td>\n",
              "      <td>...</td>\n",
              "      <td>...</td>\n",
              "      <td>...</td>\n",
              "    </tr>\n",
              "    <tr>\n",
              "      <th>1725</th>\n",
              "      <td>96</td>\n",
              "      <td>زوايا - لعبة ستحرك زوايا عقلك</td>\n",
              "      <td>112408</td>\n",
              "      <td>1.0 M</td>\n",
              "      <td>4</td>\n",
              "      <td>0.9</td>\n",
              "      <td>1.8</td>\n",
              "      <td>0.0</td>\n",
              "      <td>GAME WORD</td>\n",
              "      <td>101036</td>\n",
              "      <td>3607</td>\n",
              "      <td>3237</td>\n",
              "      <td>1229</td>\n",
              "      <td>3297</td>\n",
              "      <td>False</td>\n",
              "    </tr>\n",
              "    <tr>\n",
              "      <th>1726</th>\n",
              "      <td>97</td>\n",
              "      <td>Bible Word Puzzle - Free Bible Word Games</td>\n",
              "      <td>111595</td>\n",
              "      <td>1.0 M</td>\n",
              "      <td>4</td>\n",
              "      <td>0.9</td>\n",
              "      <td>2.3</td>\n",
              "      <td>0.0</td>\n",
              "      <td>GAME WORD</td>\n",
              "      <td>88950</td>\n",
              "      <td>14856</td>\n",
              "      <td>4297</td>\n",
              "      <td>1385</td>\n",
              "      <td>2103</td>\n",
              "      <td>False</td>\n",
              "    </tr>\n",
              "    <tr>\n",
              "      <th>1727</th>\n",
              "      <td>98</td>\n",
              "      <td>Scrabble® GO - New Word Game</td>\n",
              "      <td>110723</td>\n",
              "      <td>10.0 M</td>\n",
              "      <td>4</td>\n",
              "      <td>0.9</td>\n",
              "      <td>1.9</td>\n",
              "      <td>0.0</td>\n",
              "      <td>GAME WORD</td>\n",
              "      <td>64184</td>\n",
              "      <td>18332</td>\n",
              "      <td>9385</td>\n",
              "      <td>6688</td>\n",
              "      <td>12132</td>\n",
              "      <td>False</td>\n",
              "    </tr>\n",
              "    <tr>\n",
              "      <th>1728</th>\n",
              "      <td>99</td>\n",
              "      <td>Word Nut: Word Puzzle Games &amp; Crosswords</td>\n",
              "      <td>109530</td>\n",
              "      <td>5.0 M</td>\n",
              "      <td>4</td>\n",
              "      <td>1.9</td>\n",
              "      <td>4.1</td>\n",
              "      <td>0.0</td>\n",
              "      <td>GAME WORD</td>\n",
              "      <td>99987</td>\n",
              "      <td>4766</td>\n",
              "      <td>1469</td>\n",
              "      <td>953</td>\n",
              "      <td>2353</td>\n",
              "      <td>False</td>\n",
              "    </tr>\n",
              "    <tr>\n",
              "      <th>1729</th>\n",
              "      <td>100</td>\n",
              "      <td>Pinturillo 2</td>\n",
              "      <td>108917</td>\n",
              "      <td>10.0 M</td>\n",
              "      <td>3</td>\n",
              "      <td>1.1</td>\n",
              "      <td>2.5</td>\n",
              "      <td>0.0</td>\n",
              "      <td>GAME WORD</td>\n",
              "      <td>50813</td>\n",
              "      <td>16480</td>\n",
              "      <td>11825</td>\n",
              "      <td>6166</td>\n",
              "      <td>23631</td>\n",
              "      <td>False</td>\n",
              "    </tr>\n",
              "  </tbody>\n",
              "</table>\n",
              "<p>1730 rows × 15 columns</p>\n",
              "</div>\n",
              "      <button class=\"colab-df-convert\" onclick=\"convertToInteractive('df-27058342-c0cf-46ac-8364-b85136474148')\"\n",
              "              title=\"Convert this dataframe to an interactive table.\"\n",
              "              style=\"display:none;\">\n",
              "        \n",
              "  <svg xmlns=\"http://www.w3.org/2000/svg\" height=\"24px\"viewBox=\"0 0 24 24\"\n",
              "       width=\"24px\">\n",
              "    <path d=\"M0 0h24v24H0V0z\" fill=\"none\"/>\n",
              "    <path d=\"M18.56 5.44l.94 2.06.94-2.06 2.06-.94-2.06-.94-.94-2.06-.94 2.06-2.06.94zm-11 1L8.5 8.5l.94-2.06 2.06-.94-2.06-.94L8.5 2.5l-.94 2.06-2.06.94zm10 10l.94 2.06.94-2.06 2.06-.94-2.06-.94-.94-2.06-.94 2.06-2.06.94z\"/><path d=\"M17.41 7.96l-1.37-1.37c-.4-.4-.92-.59-1.43-.59-.52 0-1.04.2-1.43.59L10.3 9.45l-7.72 7.72c-.78.78-.78 2.05 0 2.83L4 21.41c.39.39.9.59 1.41.59.51 0 1.02-.2 1.41-.59l7.78-7.78 2.81-2.81c.8-.78.8-2.07 0-2.86zM5.41 20L4 18.59l7.72-7.72 1.47 1.35L5.41 20z\"/>\n",
              "  </svg>\n",
              "      </button>\n",
              "      \n",
              "  <style>\n",
              "    .colab-df-container {\n",
              "      display:flex;\n",
              "      flex-wrap:wrap;\n",
              "      gap: 12px;\n",
              "    }\n",
              "\n",
              "    .colab-df-convert {\n",
              "      background-color: #E8F0FE;\n",
              "      border: none;\n",
              "      border-radius: 50%;\n",
              "      cursor: pointer;\n",
              "      display: none;\n",
              "      fill: #1967D2;\n",
              "      height: 32px;\n",
              "      padding: 0 0 0 0;\n",
              "      width: 32px;\n",
              "    }\n",
              "\n",
              "    .colab-df-convert:hover {\n",
              "      background-color: #E2EBFA;\n",
              "      box-shadow: 0px 1px 2px rgba(60, 64, 67, 0.3), 0px 1px 3px 1px rgba(60, 64, 67, 0.15);\n",
              "      fill: #174EA6;\n",
              "    }\n",
              "\n",
              "    [theme=dark] .colab-df-convert {\n",
              "      background-color: #3B4455;\n",
              "      fill: #D2E3FC;\n",
              "    }\n",
              "\n",
              "    [theme=dark] .colab-df-convert:hover {\n",
              "      background-color: #434B5C;\n",
              "      box-shadow: 0px 1px 3px 1px rgba(0, 0, 0, 0.15);\n",
              "      filter: drop-shadow(0px 1px 2px rgba(0, 0, 0, 0.3));\n",
              "      fill: #FFFFFF;\n",
              "    }\n",
              "  </style>\n",
              "\n",
              "      <script>\n",
              "        const buttonEl =\n",
              "          document.querySelector('#df-27058342-c0cf-46ac-8364-b85136474148 button.colab-df-convert');\n",
              "        buttonEl.style.display =\n",
              "          google.colab.kernel.accessAllowed ? 'block' : 'none';\n",
              "\n",
              "        async function convertToInteractive(key) {\n",
              "          const element = document.querySelector('#df-27058342-c0cf-46ac-8364-b85136474148');\n",
              "          const dataTable =\n",
              "            await google.colab.kernel.invokeFunction('convertToInteractive',\n",
              "                                                     [key], {});\n",
              "          if (!dataTable) return;\n",
              "\n",
              "          const docLinkHtml = 'Like what you see? Visit the ' +\n",
              "            '<a target=\"_blank\" href=https://colab.research.google.com/notebooks/data_table.ipynb>data table notebook</a>'\n",
              "            + ' to learn more about interactive tables.';\n",
              "          element.innerHTML = '';\n",
              "          dataTable['output_type'] = 'display_data';\n",
              "          await google.colab.output.renderOutput(dataTable, element);\n",
              "          const docLink = document.createElement('div');\n",
              "          docLink.innerHTML = docLinkHtml;\n",
              "          element.appendChild(docLink);\n",
              "        }\n",
              "      </script>\n",
              "    </div>\n",
              "  </div>\n",
              "  "
            ]
          },
          "metadata": {},
          "execution_count": 1171
        }
      ]
    },
    {
      "cell_type": "markdown",
      "source": [
        "#What are the data types? (Only numeric and categorical)\n"
      ],
      "metadata": {
        "id": "iAmalOoWJ29s"
      }
    },
    {
      "cell_type": "code",
      "source": [
        "# Identifying the Datatypes of the columns\n",
        "ds.dtypes"
      ],
      "metadata": {
        "colab": {
          "base_uri": "https://localhost:8080/"
        },
        "id": "3emPNBMas9Ix",
        "outputId": "d0dc409f-ac44-4b59-a8aa-8383b6899b2a"
      },
      "execution_count": 1172,
      "outputs": [
        {
          "output_type": "execute_result",
          "data": {
            "text/plain": [
              "rank                  int64\n",
              "title                object\n",
              "total ratings         int64\n",
              "installs             object\n",
              "average rating        int64\n",
              "growth (30 days)    float64\n",
              "growth (60 days)    float64\n",
              "price               float64\n",
              "category             object\n",
              "5 star ratings        int64\n",
              "4 star ratings        int64\n",
              "3 star ratings        int64\n",
              "2 star ratings        int64\n",
              "1 star ratings        int64\n",
              "paid                   bool\n",
              "dtype: object"
            ]
          },
          "metadata": {},
          "execution_count": 1172
        }
      ]
    },
    {
      "cell_type": "markdown",
      "source": [
        "In the above datatypes, The numerical columns are either indicated int64 or float64 and the categorical columns are indicated object"
      ],
      "metadata": {
        "id": "AcVp0KpE3Fvr"
      }
    },
    {
      "cell_type": "code",
      "source": [
        "ds.isnull()"
      ],
      "metadata": {
        "colab": {
          "base_uri": "https://localhost:8080/",
          "height": 485
        },
        "id": "pvHBeGDRtI68",
        "outputId": "8397385f-8499-453d-bb29-3f45cca7d4b4"
      },
      "execution_count": 1173,
      "outputs": [
        {
          "output_type": "execute_result",
          "data": {
            "text/plain": [
              "       rank  title  total ratings  installs  average rating  growth (30 days)  \\\n",
              "0     False  False          False     False           False             False   \n",
              "1     False  False          False     False           False             False   \n",
              "2     False  False          False     False           False             False   \n",
              "3     False  False          False     False           False             False   \n",
              "4     False  False          False     False           False             False   \n",
              "...     ...    ...            ...       ...             ...               ...   \n",
              "1725  False  False          False     False           False             False   \n",
              "1726  False  False          False     False           False             False   \n",
              "1727  False  False          False     False           False             False   \n",
              "1728  False  False          False     False           False             False   \n",
              "1729  False  False          False     False           False             False   \n",
              "\n",
              "      growth (60 days)  price  category  5 star ratings  4 star ratings  \\\n",
              "0                False  False     False           False           False   \n",
              "1                False  False     False           False           False   \n",
              "2                False  False     False           False           False   \n",
              "3                False  False     False           False           False   \n",
              "4                False  False     False           False           False   \n",
              "...                ...    ...       ...             ...             ...   \n",
              "1725             False  False     False           False           False   \n",
              "1726             False  False     False           False           False   \n",
              "1727             False  False     False           False           False   \n",
              "1728             False  False     False           False           False   \n",
              "1729             False  False     False           False           False   \n",
              "\n",
              "      3 star ratings  2 star ratings  1 star ratings   paid  \n",
              "0              False           False           False  False  \n",
              "1              False           False           False  False  \n",
              "2              False           False           False  False  \n",
              "3              False           False           False  False  \n",
              "4              False           False           False  False  \n",
              "...              ...             ...             ...    ...  \n",
              "1725           False           False           False  False  \n",
              "1726           False           False           False  False  \n",
              "1727           False           False           False  False  \n",
              "1728           False           False           False  False  \n",
              "1729           False           False           False  False  \n",
              "\n",
              "[1730 rows x 15 columns]"
            ],
            "text/html": [
              "\n",
              "  <div id=\"df-0fd5f889-3eb7-45a0-8e41-2b63997495ab\">\n",
              "    <div class=\"colab-df-container\">\n",
              "      <div>\n",
              "<style scoped>\n",
              "    .dataframe tbody tr th:only-of-type {\n",
              "        vertical-align: middle;\n",
              "    }\n",
              "\n",
              "    .dataframe tbody tr th {\n",
              "        vertical-align: top;\n",
              "    }\n",
              "\n",
              "    .dataframe thead th {\n",
              "        text-align: right;\n",
              "    }\n",
              "</style>\n",
              "<table border=\"1\" class=\"dataframe\">\n",
              "  <thead>\n",
              "    <tr style=\"text-align: right;\">\n",
              "      <th></th>\n",
              "      <th>rank</th>\n",
              "      <th>title</th>\n",
              "      <th>total ratings</th>\n",
              "      <th>installs</th>\n",
              "      <th>average rating</th>\n",
              "      <th>growth (30 days)</th>\n",
              "      <th>growth (60 days)</th>\n",
              "      <th>price</th>\n",
              "      <th>category</th>\n",
              "      <th>5 star ratings</th>\n",
              "      <th>4 star ratings</th>\n",
              "      <th>3 star ratings</th>\n",
              "      <th>2 star ratings</th>\n",
              "      <th>1 star ratings</th>\n",
              "      <th>paid</th>\n",
              "    </tr>\n",
              "  </thead>\n",
              "  <tbody>\n",
              "    <tr>\n",
              "      <th>0</th>\n",
              "      <td>False</td>\n",
              "      <td>False</td>\n",
              "      <td>False</td>\n",
              "      <td>False</td>\n",
              "      <td>False</td>\n",
              "      <td>False</td>\n",
              "      <td>False</td>\n",
              "      <td>False</td>\n",
              "      <td>False</td>\n",
              "      <td>False</td>\n",
              "      <td>False</td>\n",
              "      <td>False</td>\n",
              "      <td>False</td>\n",
              "      <td>False</td>\n",
              "      <td>False</td>\n",
              "    </tr>\n",
              "    <tr>\n",
              "      <th>1</th>\n",
              "      <td>False</td>\n",
              "      <td>False</td>\n",
              "      <td>False</td>\n",
              "      <td>False</td>\n",
              "      <td>False</td>\n",
              "      <td>False</td>\n",
              "      <td>False</td>\n",
              "      <td>False</td>\n",
              "      <td>False</td>\n",
              "      <td>False</td>\n",
              "      <td>False</td>\n",
              "      <td>False</td>\n",
              "      <td>False</td>\n",
              "      <td>False</td>\n",
              "      <td>False</td>\n",
              "    </tr>\n",
              "    <tr>\n",
              "      <th>2</th>\n",
              "      <td>False</td>\n",
              "      <td>False</td>\n",
              "      <td>False</td>\n",
              "      <td>False</td>\n",
              "      <td>False</td>\n",
              "      <td>False</td>\n",
              "      <td>False</td>\n",
              "      <td>False</td>\n",
              "      <td>False</td>\n",
              "      <td>False</td>\n",
              "      <td>False</td>\n",
              "      <td>False</td>\n",
              "      <td>False</td>\n",
              "      <td>False</td>\n",
              "      <td>False</td>\n",
              "    </tr>\n",
              "    <tr>\n",
              "      <th>3</th>\n",
              "      <td>False</td>\n",
              "      <td>False</td>\n",
              "      <td>False</td>\n",
              "      <td>False</td>\n",
              "      <td>False</td>\n",
              "      <td>False</td>\n",
              "      <td>False</td>\n",
              "      <td>False</td>\n",
              "      <td>False</td>\n",
              "      <td>False</td>\n",
              "      <td>False</td>\n",
              "      <td>False</td>\n",
              "      <td>False</td>\n",
              "      <td>False</td>\n",
              "      <td>False</td>\n",
              "    </tr>\n",
              "    <tr>\n",
              "      <th>4</th>\n",
              "      <td>False</td>\n",
              "      <td>False</td>\n",
              "      <td>False</td>\n",
              "      <td>False</td>\n",
              "      <td>False</td>\n",
              "      <td>False</td>\n",
              "      <td>False</td>\n",
              "      <td>False</td>\n",
              "      <td>False</td>\n",
              "      <td>False</td>\n",
              "      <td>False</td>\n",
              "      <td>False</td>\n",
              "      <td>False</td>\n",
              "      <td>False</td>\n",
              "      <td>False</td>\n",
              "    </tr>\n",
              "    <tr>\n",
              "      <th>...</th>\n",
              "      <td>...</td>\n",
              "      <td>...</td>\n",
              "      <td>...</td>\n",
              "      <td>...</td>\n",
              "      <td>...</td>\n",
              "      <td>...</td>\n",
              "      <td>...</td>\n",
              "      <td>...</td>\n",
              "      <td>...</td>\n",
              "      <td>...</td>\n",
              "      <td>...</td>\n",
              "      <td>...</td>\n",
              "      <td>...</td>\n",
              "      <td>...</td>\n",
              "      <td>...</td>\n",
              "    </tr>\n",
              "    <tr>\n",
              "      <th>1725</th>\n",
              "      <td>False</td>\n",
              "      <td>False</td>\n",
              "      <td>False</td>\n",
              "      <td>False</td>\n",
              "      <td>False</td>\n",
              "      <td>False</td>\n",
              "      <td>False</td>\n",
              "      <td>False</td>\n",
              "      <td>False</td>\n",
              "      <td>False</td>\n",
              "      <td>False</td>\n",
              "      <td>False</td>\n",
              "      <td>False</td>\n",
              "      <td>False</td>\n",
              "      <td>False</td>\n",
              "    </tr>\n",
              "    <tr>\n",
              "      <th>1726</th>\n",
              "      <td>False</td>\n",
              "      <td>False</td>\n",
              "      <td>False</td>\n",
              "      <td>False</td>\n",
              "      <td>False</td>\n",
              "      <td>False</td>\n",
              "      <td>False</td>\n",
              "      <td>False</td>\n",
              "      <td>False</td>\n",
              "      <td>False</td>\n",
              "      <td>False</td>\n",
              "      <td>False</td>\n",
              "      <td>False</td>\n",
              "      <td>False</td>\n",
              "      <td>False</td>\n",
              "    </tr>\n",
              "    <tr>\n",
              "      <th>1727</th>\n",
              "      <td>False</td>\n",
              "      <td>False</td>\n",
              "      <td>False</td>\n",
              "      <td>False</td>\n",
              "      <td>False</td>\n",
              "      <td>False</td>\n",
              "      <td>False</td>\n",
              "      <td>False</td>\n",
              "      <td>False</td>\n",
              "      <td>False</td>\n",
              "      <td>False</td>\n",
              "      <td>False</td>\n",
              "      <td>False</td>\n",
              "      <td>False</td>\n",
              "      <td>False</td>\n",
              "    </tr>\n",
              "    <tr>\n",
              "      <th>1728</th>\n",
              "      <td>False</td>\n",
              "      <td>False</td>\n",
              "      <td>False</td>\n",
              "      <td>False</td>\n",
              "      <td>False</td>\n",
              "      <td>False</td>\n",
              "      <td>False</td>\n",
              "      <td>False</td>\n",
              "      <td>False</td>\n",
              "      <td>False</td>\n",
              "      <td>False</td>\n",
              "      <td>False</td>\n",
              "      <td>False</td>\n",
              "      <td>False</td>\n",
              "      <td>False</td>\n",
              "    </tr>\n",
              "    <tr>\n",
              "      <th>1729</th>\n",
              "      <td>False</td>\n",
              "      <td>False</td>\n",
              "      <td>False</td>\n",
              "      <td>False</td>\n",
              "      <td>False</td>\n",
              "      <td>False</td>\n",
              "      <td>False</td>\n",
              "      <td>False</td>\n",
              "      <td>False</td>\n",
              "      <td>False</td>\n",
              "      <td>False</td>\n",
              "      <td>False</td>\n",
              "      <td>False</td>\n",
              "      <td>False</td>\n",
              "      <td>False</td>\n",
              "    </tr>\n",
              "  </tbody>\n",
              "</table>\n",
              "<p>1730 rows × 15 columns</p>\n",
              "</div>\n",
              "      <button class=\"colab-df-convert\" onclick=\"convertToInteractive('df-0fd5f889-3eb7-45a0-8e41-2b63997495ab')\"\n",
              "              title=\"Convert this dataframe to an interactive table.\"\n",
              "              style=\"display:none;\">\n",
              "        \n",
              "  <svg xmlns=\"http://www.w3.org/2000/svg\" height=\"24px\"viewBox=\"0 0 24 24\"\n",
              "       width=\"24px\">\n",
              "    <path d=\"M0 0h24v24H0V0z\" fill=\"none\"/>\n",
              "    <path d=\"M18.56 5.44l.94 2.06.94-2.06 2.06-.94-2.06-.94-.94-2.06-.94 2.06-2.06.94zm-11 1L8.5 8.5l.94-2.06 2.06-.94-2.06-.94L8.5 2.5l-.94 2.06-2.06.94zm10 10l.94 2.06.94-2.06 2.06-.94-2.06-.94-.94-2.06-.94 2.06-2.06.94z\"/><path d=\"M17.41 7.96l-1.37-1.37c-.4-.4-.92-.59-1.43-.59-.52 0-1.04.2-1.43.59L10.3 9.45l-7.72 7.72c-.78.78-.78 2.05 0 2.83L4 21.41c.39.39.9.59 1.41.59.51 0 1.02-.2 1.41-.59l7.78-7.78 2.81-2.81c.8-.78.8-2.07 0-2.86zM5.41 20L4 18.59l7.72-7.72 1.47 1.35L5.41 20z\"/>\n",
              "  </svg>\n",
              "      </button>\n",
              "      \n",
              "  <style>\n",
              "    .colab-df-container {\n",
              "      display:flex;\n",
              "      flex-wrap:wrap;\n",
              "      gap: 12px;\n",
              "    }\n",
              "\n",
              "    .colab-df-convert {\n",
              "      background-color: #E8F0FE;\n",
              "      border: none;\n",
              "      border-radius: 50%;\n",
              "      cursor: pointer;\n",
              "      display: none;\n",
              "      fill: #1967D2;\n",
              "      height: 32px;\n",
              "      padding: 0 0 0 0;\n",
              "      width: 32px;\n",
              "    }\n",
              "\n",
              "    .colab-df-convert:hover {\n",
              "      background-color: #E2EBFA;\n",
              "      box-shadow: 0px 1px 2px rgba(60, 64, 67, 0.3), 0px 1px 3px 1px rgba(60, 64, 67, 0.15);\n",
              "      fill: #174EA6;\n",
              "    }\n",
              "\n",
              "    [theme=dark] .colab-df-convert {\n",
              "      background-color: #3B4455;\n",
              "      fill: #D2E3FC;\n",
              "    }\n",
              "\n",
              "    [theme=dark] .colab-df-convert:hover {\n",
              "      background-color: #434B5C;\n",
              "      box-shadow: 0px 1px 3px 1px rgba(0, 0, 0, 0.15);\n",
              "      filter: drop-shadow(0px 1px 2px rgba(0, 0, 0, 0.3));\n",
              "      fill: #FFFFFF;\n",
              "    }\n",
              "  </style>\n",
              "\n",
              "      <script>\n",
              "        const buttonEl =\n",
              "          document.querySelector('#df-0fd5f889-3eb7-45a0-8e41-2b63997495ab button.colab-df-convert');\n",
              "        buttonEl.style.display =\n",
              "          google.colab.kernel.accessAllowed ? 'block' : 'none';\n",
              "\n",
              "        async function convertToInteractive(key) {\n",
              "          const element = document.querySelector('#df-0fd5f889-3eb7-45a0-8e41-2b63997495ab');\n",
              "          const dataTable =\n",
              "            await google.colab.kernel.invokeFunction('convertToInteractive',\n",
              "                                                     [key], {});\n",
              "          if (!dataTable) return;\n",
              "\n",
              "          const docLinkHtml = 'Like what you see? Visit the ' +\n",
              "            '<a target=\"_blank\" href=https://colab.research.google.com/notebooks/data_table.ipynb>data table notebook</a>'\n",
              "            + ' to learn more about interactive tables.';\n",
              "          element.innerHTML = '';\n",
              "          dataTable['output_type'] = 'display_data';\n",
              "          await google.colab.output.renderOutput(dataTable, element);\n",
              "          const docLink = document.createElement('div');\n",
              "          docLink.innerHTML = docLinkHtml;\n",
              "          element.appendChild(docLink);\n",
              "        }\n",
              "      </script>\n",
              "    </div>\n",
              "  </div>\n",
              "  "
            ]
          },
          "metadata": {},
          "execution_count": 1173
        }
      ]
    },
    {
      "cell_type": "markdown",
      "source": [
        "#Are there missing values?\n"
      ],
      "metadata": {
        "id": "NE4oc2Z0KFFy"
      }
    },
    {
      "cell_type": "code",
      "source": [
        "#checking if any of the data is missing\n",
        "ds.isnull().sum()"
      ],
      "metadata": {
        "colab": {
          "base_uri": "https://localhost:8080/"
        },
        "id": "Md_9PpWdu505",
        "outputId": "550eedc5-c207-4b11-efed-3b9f32f1a266"
      },
      "execution_count": 1174,
      "outputs": [
        {
          "output_type": "execute_result",
          "data": {
            "text/plain": [
              "rank                0\n",
              "title               0\n",
              "total ratings       0\n",
              "installs            0\n",
              "average rating      0\n",
              "growth (30 days)    0\n",
              "growth (60 days)    0\n",
              "price               0\n",
              "category            0\n",
              "5 star ratings      0\n",
              "4 star ratings      0\n",
              "3 star ratings      0\n",
              "2 star ratings      0\n",
              "1 star ratings      0\n",
              "paid                0\n",
              "dtype: int64"
            ]
          },
          "metadata": {},
          "execution_count": 1174
        }
      ]
    },
    {
      "cell_type": "markdown",
      "source": [
        "Therefore, There is no missing data"
      ],
      "metadata": {
        "id": "U-LWi3vf3Utd"
      }
    },
    {
      "cell_type": "markdown",
      "source": [
        "# Which independent variables are useful to predict a target (dependent variable)? (Use at least three methods)\n",
        " \n",
        " "
      ],
      "metadata": {
        "id": "diIxXC7BO4my"
      }
    },
    {
      "cell_type": "code",
      "source": [
        "objList = ds.select_dtypes(exclude = \"object\").columns"
      ],
      "metadata": {
        "id": "_E-X5eSF4xCm"
      },
      "execution_count": 1175,
      "outputs": []
    },
    {
      "cell_type": "code",
      "source": [
        "objList"
      ],
      "metadata": {
        "colab": {
          "base_uri": "https://localhost:8080/"
        },
        "id": "8AheOAnL5Qgs",
        "outputId": "2fe7bd80-ad44-4745-c83a-35bcf18d53e3"
      },
      "execution_count": 1176,
      "outputs": [
        {
          "output_type": "execute_result",
          "data": {
            "text/plain": [
              "Index(['rank', 'total ratings', 'average rating', 'growth (30 days)',\n",
              "       'growth (60 days)', 'price', '5 star ratings', '4 star ratings',\n",
              "       '3 star ratings', '2 star ratings', '1 star ratings', 'paid'],\n",
              "      dtype='object')"
            ]
          },
          "metadata": {},
          "execution_count": 1176
        }
      ]
    },
    {
      "cell_type": "code",
      "source": [
        "games_ds = ds[objList]\n",
        "games_ds.describe().T"
      ],
      "metadata": {
        "colab": {
          "base_uri": "https://localhost:8080/",
          "height": 394
        },
        "id": "DH5Cx07a5dWT",
        "outputId": "e14f9771-26d7-4c9d-c5c0-ad96a8563538"
      },
      "execution_count": 1177,
      "outputs": [
        {
          "output_type": "execute_result",
          "data": {
            "text/plain": [
              "                   count          mean           std      min        25%  \\\n",
              "rank              1730.0  5.038671e+01  2.893674e+01      1.0      25.00   \n",
              "total ratings     1730.0  1.064332e+06  3.429250e+06  32993.0  175999.25   \n",
              "average rating    1730.0  3.908092e+00  2.909734e-01      2.0       4.00   \n",
              "growth (30 days)  1730.0  3.217359e+02  6.018915e+03      0.0       0.10   \n",
              "growth (60 days)  1730.0  1.225550e+02  2.253892e+03      0.0       0.20   \n",
              "price             1730.0  1.094220e-02  2.149873e-01      0.0       0.00   \n",
              "5 star ratings    1730.0  7.622315e+05  2.538658e+06  13975.0  127730.00   \n",
              "4 star ratings    1730.0  1.164366e+05  3.021631e+05   2451.0   20643.00   \n",
              "3 star ratings    1730.0  5.706307e+04  1.495314e+05    718.0    9652.50   \n",
              "2 star ratings    1730.0  2.710336e+04  8.154542e+04    266.0    4262.25   \n",
              "1 star ratings    1730.0  1.014950e+05  4.083745e+05    545.0   12812.00   \n",
              "\n",
              "                       50%        75%          max  \n",
              "rank                  50.0      75.00       100.00  \n",
              "total ratings     428606.5  883797.00  86273129.00  \n",
              "average rating         4.0       4.00         4.00  \n",
              "growth (30 days)       0.5       1.70    227105.70  \n",
              "growth (60 days)       1.0       3.30     69441.40  \n",
              "price                  0.0       0.00         7.49  \n",
              "5 star ratings    296434.0  619835.75  63546766.00  \n",
              "4 star ratings     50980.5  101814.00   5404966.00  \n",
              "3 star ratings     25078.0   52295.00   3158756.00  \n",
              "2 star ratings     10675.5   23228.75   2122183.00  \n",
              "1 star ratings     33686.0   80157.25  12495915.00  "
            ],
            "text/html": [
              "\n",
              "  <div id=\"df-0a669f7d-67a5-4596-8432-44bafa2ba013\">\n",
              "    <div class=\"colab-df-container\">\n",
              "      <div>\n",
              "<style scoped>\n",
              "    .dataframe tbody tr th:only-of-type {\n",
              "        vertical-align: middle;\n",
              "    }\n",
              "\n",
              "    .dataframe tbody tr th {\n",
              "        vertical-align: top;\n",
              "    }\n",
              "\n",
              "    .dataframe thead th {\n",
              "        text-align: right;\n",
              "    }\n",
              "</style>\n",
              "<table border=\"1\" class=\"dataframe\">\n",
              "  <thead>\n",
              "    <tr style=\"text-align: right;\">\n",
              "      <th></th>\n",
              "      <th>count</th>\n",
              "      <th>mean</th>\n",
              "      <th>std</th>\n",
              "      <th>min</th>\n",
              "      <th>25%</th>\n",
              "      <th>50%</th>\n",
              "      <th>75%</th>\n",
              "      <th>max</th>\n",
              "    </tr>\n",
              "  </thead>\n",
              "  <tbody>\n",
              "    <tr>\n",
              "      <th>rank</th>\n",
              "      <td>1730.0</td>\n",
              "      <td>5.038671e+01</td>\n",
              "      <td>2.893674e+01</td>\n",
              "      <td>1.0</td>\n",
              "      <td>25.00</td>\n",
              "      <td>50.0</td>\n",
              "      <td>75.00</td>\n",
              "      <td>100.00</td>\n",
              "    </tr>\n",
              "    <tr>\n",
              "      <th>total ratings</th>\n",
              "      <td>1730.0</td>\n",
              "      <td>1.064332e+06</td>\n",
              "      <td>3.429250e+06</td>\n",
              "      <td>32993.0</td>\n",
              "      <td>175999.25</td>\n",
              "      <td>428606.5</td>\n",
              "      <td>883797.00</td>\n",
              "      <td>86273129.00</td>\n",
              "    </tr>\n",
              "    <tr>\n",
              "      <th>average rating</th>\n",
              "      <td>1730.0</td>\n",
              "      <td>3.908092e+00</td>\n",
              "      <td>2.909734e-01</td>\n",
              "      <td>2.0</td>\n",
              "      <td>4.00</td>\n",
              "      <td>4.0</td>\n",
              "      <td>4.00</td>\n",
              "      <td>4.00</td>\n",
              "    </tr>\n",
              "    <tr>\n",
              "      <th>growth (30 days)</th>\n",
              "      <td>1730.0</td>\n",
              "      <td>3.217359e+02</td>\n",
              "      <td>6.018915e+03</td>\n",
              "      <td>0.0</td>\n",
              "      <td>0.10</td>\n",
              "      <td>0.5</td>\n",
              "      <td>1.70</td>\n",
              "      <td>227105.70</td>\n",
              "    </tr>\n",
              "    <tr>\n",
              "      <th>growth (60 days)</th>\n",
              "      <td>1730.0</td>\n",
              "      <td>1.225550e+02</td>\n",
              "      <td>2.253892e+03</td>\n",
              "      <td>0.0</td>\n",
              "      <td>0.20</td>\n",
              "      <td>1.0</td>\n",
              "      <td>3.30</td>\n",
              "      <td>69441.40</td>\n",
              "    </tr>\n",
              "    <tr>\n",
              "      <th>price</th>\n",
              "      <td>1730.0</td>\n",
              "      <td>1.094220e-02</td>\n",
              "      <td>2.149873e-01</td>\n",
              "      <td>0.0</td>\n",
              "      <td>0.00</td>\n",
              "      <td>0.0</td>\n",
              "      <td>0.00</td>\n",
              "      <td>7.49</td>\n",
              "    </tr>\n",
              "    <tr>\n",
              "      <th>5 star ratings</th>\n",
              "      <td>1730.0</td>\n",
              "      <td>7.622315e+05</td>\n",
              "      <td>2.538658e+06</td>\n",
              "      <td>13975.0</td>\n",
              "      <td>127730.00</td>\n",
              "      <td>296434.0</td>\n",
              "      <td>619835.75</td>\n",
              "      <td>63546766.00</td>\n",
              "    </tr>\n",
              "    <tr>\n",
              "      <th>4 star ratings</th>\n",
              "      <td>1730.0</td>\n",
              "      <td>1.164366e+05</td>\n",
              "      <td>3.021631e+05</td>\n",
              "      <td>2451.0</td>\n",
              "      <td>20643.00</td>\n",
              "      <td>50980.5</td>\n",
              "      <td>101814.00</td>\n",
              "      <td>5404966.00</td>\n",
              "    </tr>\n",
              "    <tr>\n",
              "      <th>3 star ratings</th>\n",
              "      <td>1730.0</td>\n",
              "      <td>5.706307e+04</td>\n",
              "      <td>1.495314e+05</td>\n",
              "      <td>718.0</td>\n",
              "      <td>9652.50</td>\n",
              "      <td>25078.0</td>\n",
              "      <td>52295.00</td>\n",
              "      <td>3158756.00</td>\n",
              "    </tr>\n",
              "    <tr>\n",
              "      <th>2 star ratings</th>\n",
              "      <td>1730.0</td>\n",
              "      <td>2.710336e+04</td>\n",
              "      <td>8.154542e+04</td>\n",
              "      <td>266.0</td>\n",
              "      <td>4262.25</td>\n",
              "      <td>10675.5</td>\n",
              "      <td>23228.75</td>\n",
              "      <td>2122183.00</td>\n",
              "    </tr>\n",
              "    <tr>\n",
              "      <th>1 star ratings</th>\n",
              "      <td>1730.0</td>\n",
              "      <td>1.014950e+05</td>\n",
              "      <td>4.083745e+05</td>\n",
              "      <td>545.0</td>\n",
              "      <td>12812.00</td>\n",
              "      <td>33686.0</td>\n",
              "      <td>80157.25</td>\n",
              "      <td>12495915.00</td>\n",
              "    </tr>\n",
              "  </tbody>\n",
              "</table>\n",
              "</div>\n",
              "      <button class=\"colab-df-convert\" onclick=\"convertToInteractive('df-0a669f7d-67a5-4596-8432-44bafa2ba013')\"\n",
              "              title=\"Convert this dataframe to an interactive table.\"\n",
              "              style=\"display:none;\">\n",
              "        \n",
              "  <svg xmlns=\"http://www.w3.org/2000/svg\" height=\"24px\"viewBox=\"0 0 24 24\"\n",
              "       width=\"24px\">\n",
              "    <path d=\"M0 0h24v24H0V0z\" fill=\"none\"/>\n",
              "    <path d=\"M18.56 5.44l.94 2.06.94-2.06 2.06-.94-2.06-.94-.94-2.06-.94 2.06-2.06.94zm-11 1L8.5 8.5l.94-2.06 2.06-.94-2.06-.94L8.5 2.5l-.94 2.06-2.06.94zm10 10l.94 2.06.94-2.06 2.06-.94-2.06-.94-.94-2.06-.94 2.06-2.06.94z\"/><path d=\"M17.41 7.96l-1.37-1.37c-.4-.4-.92-.59-1.43-.59-.52 0-1.04.2-1.43.59L10.3 9.45l-7.72 7.72c-.78.78-.78 2.05 0 2.83L4 21.41c.39.39.9.59 1.41.59.51 0 1.02-.2 1.41-.59l7.78-7.78 2.81-2.81c.8-.78.8-2.07 0-2.86zM5.41 20L4 18.59l7.72-7.72 1.47 1.35L5.41 20z\"/>\n",
              "  </svg>\n",
              "      </button>\n",
              "      \n",
              "  <style>\n",
              "    .colab-df-container {\n",
              "      display:flex;\n",
              "      flex-wrap:wrap;\n",
              "      gap: 12px;\n",
              "    }\n",
              "\n",
              "    .colab-df-convert {\n",
              "      background-color: #E8F0FE;\n",
              "      border: none;\n",
              "      border-radius: 50%;\n",
              "      cursor: pointer;\n",
              "      display: none;\n",
              "      fill: #1967D2;\n",
              "      height: 32px;\n",
              "      padding: 0 0 0 0;\n",
              "      width: 32px;\n",
              "    }\n",
              "\n",
              "    .colab-df-convert:hover {\n",
              "      background-color: #E2EBFA;\n",
              "      box-shadow: 0px 1px 2px rgba(60, 64, 67, 0.3), 0px 1px 3px 1px rgba(60, 64, 67, 0.15);\n",
              "      fill: #174EA6;\n",
              "    }\n",
              "\n",
              "    [theme=dark] .colab-df-convert {\n",
              "      background-color: #3B4455;\n",
              "      fill: #D2E3FC;\n",
              "    }\n",
              "\n",
              "    [theme=dark] .colab-df-convert:hover {\n",
              "      background-color: #434B5C;\n",
              "      box-shadow: 0px 1px 3px 1px rgba(0, 0, 0, 0.15);\n",
              "      filter: drop-shadow(0px 1px 2px rgba(0, 0, 0, 0.3));\n",
              "      fill: #FFFFFF;\n",
              "    }\n",
              "  </style>\n",
              "\n",
              "      <script>\n",
              "        const buttonEl =\n",
              "          document.querySelector('#df-0a669f7d-67a5-4596-8432-44bafa2ba013 button.colab-df-convert');\n",
              "        buttonEl.style.display =\n",
              "          google.colab.kernel.accessAllowed ? 'block' : 'none';\n",
              "\n",
              "        async function convertToInteractive(key) {\n",
              "          const element = document.querySelector('#df-0a669f7d-67a5-4596-8432-44bafa2ba013');\n",
              "          const dataTable =\n",
              "            await google.colab.kernel.invokeFunction('convertToInteractive',\n",
              "                                                     [key], {});\n",
              "          if (!dataTable) return;\n",
              "\n",
              "          const docLinkHtml = 'Like what you see? Visit the ' +\n",
              "            '<a target=\"_blank\" href=https://colab.research.google.com/notebooks/data_table.ipynb>data table notebook</a>'\n",
              "            + ' to learn more about interactive tables.';\n",
              "          element.innerHTML = '';\n",
              "          dataTable['output_type'] = 'display_data';\n",
              "          await google.colab.output.renderOutput(dataTable, element);\n",
              "          const docLink = document.createElement('div');\n",
              "          docLink.innerHTML = docLinkHtml;\n",
              "          element.appendChild(docLink);\n",
              "        }\n",
              "      </script>\n",
              "    </div>\n",
              "  </div>\n",
              "  "
            ]
          },
          "metadata": {},
          "execution_count": 1177
        }
      ]
    },
    {
      "cell_type": "code",
      "source": [
        "num = sns.FacetGrid(games_ds, col='paid', size = 5)\n",
        "num = num.map(sns.distplot,'rank')\n",
        "plt.show()"
      ],
      "metadata": {
        "colab": {
          "base_uri": "https://localhost:8080/",
          "height": 493
        },
        "id": "CGm78Xmh6L-S",
        "outputId": "7a3ab35d-d5fb-4526-90e0-3e0d61dd8585"
      },
      "execution_count": 1178,
      "outputs": [
        {
          "output_type": "stream",
          "name": "stderr",
          "text": [
            "/usr/local/lib/python3.8/dist-packages/seaborn/axisgrid.py:337: UserWarning: The `size` parameter has been renamed to `height`; please update your code.\n",
            "  warnings.warn(msg, UserWarning)\n",
            "/usr/local/lib/python3.8/dist-packages/seaborn/distributions.py:2619: FutureWarning: `distplot` is a deprecated function and will be removed in a future version. Please adapt your code to use either `displot` (a figure-level function with similar flexibility) or `histplot` (an axes-level function for histograms).\n",
            "  warnings.warn(msg, FutureWarning)\n",
            "/usr/local/lib/python3.8/dist-packages/seaborn/distributions.py:2619: FutureWarning: `distplot` is a deprecated function and will be removed in a future version. Please adapt your code to use either `displot` (a figure-level function with similar flexibility) or `histplot` (an axes-level function for histograms).\n",
            "  warnings.warn(msg, FutureWarning)\n"
          ]
        },
        {
          "output_type": "display_data",
          "data": {
            "text/plain": [
              "<Figure size 720x360 with 2 Axes>"
            ],
            "image/png": "[encoded data removed]"
          },
          "metadata": {
            "needs_background": "light"
          }
        }
      ]
    },
    {
      "cell_type": "code",
      "source": [
        "#heat map\n",
        "plt.figure(figsize = (20,15))\n",
        "sns.heatmap(ds.corr(),mask = ds.corr() < 0.50,annot=True, fmt='0.2f')"
      ],
      "metadata": {
        "colab": {
          "base_uri": "https://localhost:8080/",
          "height": 959
        },
        "id": "tlFF6aRX9Hiq",
        "outputId": "2d9f68e1-188e-455d-afa0-32136fe7e0fc"
      },
      "execution_count": 1179,
      "outputs": [
        {
          "output_type": "execute_result",
          "data": {
            "text/plain": [
              "<matplotlib.axes._subplots.AxesSubplot at 0x7f6249545910>"
            ]
          },
          "metadata": {},
          "execution_count": 1179
        },
        {
          "output_type": "display_data",
          "data": {
            "text/plain": [
              "<Figure size 1440x1080 with 2 Axes>"
            ],
            "image/png": "[encoded data removed]"
          },
          "metadata": {
            "needs_background": "light"
          }
        }
      ]
    },
    {
      "cell_type": "markdown",
      "source": [
        "In the heat map above, the collinearity between is visible and the range correlations is also plotted"
      ],
      "metadata": {
        "id": "ciwgIU2l3iAA"
      }
    },
    {
      "cell_type": "code",
      "source": [
        "# Import label encoder\n",
        "from sklearn import preprocessing\n",
        "  \n",
        "# label_encoder object knows how to understand word labels.\n",
        "label_encoder = preprocessing.LabelEncoder()"
      ],
      "metadata": {
        "id": "aK68LiB3Bykc"
      },
      "execution_count": 1180,
      "outputs": []
    },
    {
      "cell_type": "code",
      "source": [
        "objList = ds.select_dtypes(include = \"object\").columns\n",
        "for feat in objList:\n",
        "    ds[feat] = label_encoder.fit_transform(ds[feat].astype(str))"
      ],
      "metadata": {
        "id": "nw_jz9MaB47K"
      },
      "execution_count": 1181,
      "outputs": []
    },
    {
      "cell_type": "code",
      "source": [
        "ds"
      ],
      "metadata": {
        "colab": {
          "base_uri": "https://localhost:8080/",
          "height": 485
        },
        "id": "6QJvR9ZTCcRz",
        "outputId": "07dc4053-dbda-41d2-cbf8-ebd0eb5a5332"
      },
      "execution_count": 1182,
      "outputs": [
        {
          "output_type": "execute_result",
          "data": {
            "text/plain": [
              "      rank  title  total ratings  installs  average rating  growth (30 days)  \\\n",
              "0        1    577       86273129         7               4               2.1   \n",
              "1        2   1016       37276732         7               4               1.8   \n",
              "2        3    902       26663595         2               4               1.5   \n",
              "3        4    217       17971552         2               4               1.4   \n",
              "4        5   1244       14464235         7               4               0.8   \n",
              "...    ...    ...            ...       ...             ...               ...   \n",
              "1725    96   1619         112408         0               4               0.9   \n",
              "1726    97    159         111595         0               4               0.9   \n",
              "1727    98   1191         110723         1               4               0.9   \n",
              "1728    99   1529         109530         5               4               1.9   \n",
              "1729   100   1056         108917         1               3               1.1   \n",
              "\n",
              "      growth (60 days)  price  category  5 star ratings  4 star ratings  \\\n",
              "0                  6.9    0.0         0        63546766         4949507   \n",
              "1                  3.6    0.0         0        28339753         2164478   \n",
              "2                  3.2    0.0         0        18777988         1812094   \n",
              "3                  4.4    0.0         0        13018610         1552950   \n",
              "4                  1.5    0.0         0         9827328         2124154   \n",
              "...                ...    ...       ...             ...             ...   \n",
              "1725               1.8    0.0        16          101036            3607   \n",
              "1726               2.3    0.0        16           88950           14856   \n",
              "1727               1.9    0.0        16           64184           18332   \n",
              "1728               4.1    0.0        16           99987            4766   \n",
              "1729               2.5    0.0        16           50813           16480   \n",
              "\n",
              "      3 star ratings  2 star ratings  1 star ratings   paid  \n",
              "0            3158756         2122183        12495915  False  \n",
              "1            1253185          809821         4709492  False  \n",
              "2            1050600          713912         4308998  False  \n",
              "3             774012          406184         2219794  False  \n",
              "4            1047741          380670         1084340  False  \n",
              "...              ...             ...             ...    ...  \n",
              "1725            3237            1229            3297  False  \n",
              "1726            4297            1385            2103  False  \n",
              "1727            9385            6688           12132  False  \n",
              "1728            1469             953            2353  False  \n",
              "1729           11825            6166           23631  False  \n",
              "\n",
              "[1730 rows x 15 columns]"
            ],
            "text/html": [
              "\n",
              "  <div id=\"df-0bd2e754-b8a8-4a8a-92fa-34dc5f8e7768\">\n",
              "    <div class=\"colab-df-container\">\n",
              "      <div>\n",
              "<style scoped>\n",
              "    .dataframe tbody tr th:only-of-type {\n",
              "        vertical-align: middle;\n",
              "    }\n",
              "\n",
              "    .dataframe tbody tr th {\n",
              "        vertical-align: top;\n",
              "    }\n",
              "\n",
              "    .dataframe thead th {\n",
              "        text-align: right;\n",
              "    }\n",
              "</style>\n",
              "<table border=\"1\" class=\"dataframe\">\n",
              "  <thead>\n",
              "    <tr style=\"text-align: right;\">\n",
              "      <th></th>\n",
              "      <th>rank</th>\n",
              "      <th>title</th>\n",
              "      <th>total ratings</th>\n",
              "      <th>installs</th>\n",
              "      <th>average rating</th>\n",
              "      <th>growth (30 days)</th>\n",
              "      <th>growth (60 days)</th>\n",
              "      <th>price</th>\n",
              "      <th>category</th>\n",
              "      <th>5 star ratings</th>\n",
              "      <th>4 star ratings</th>\n",
              "      <th>3 star ratings</th>\n",
              "      <th>2 star ratings</th>\n",
              "      <th>1 star ratings</th>\n",
              "      <th>paid</th>\n",
              "    </tr>\n",
              "  </thead>\n",
              "  <tbody>\n",
              "    <tr>\n",
              "      <th>0</th>\n",
              "      <td>1</td>\n",
              "      <td>577</td>\n",
              "      <td>86273129</td>\n",
              "      <td>7</td>\n",
              "      <td>4</td>\n",
              "      <td>2.1</td>\n",
              "      <td>6.9</td>\n",
              "      <td>0.0</td>\n",
              "      <td>0</td>\n",
              "      <td>63546766</td>\n",
              "      <td>4949507</td>\n",
              "      <td>3158756</td>\n",
              "      <td>2122183</td>\n",
              "      <td>12495915</td>\n",
              "      <td>False</td>\n",
              "    </tr>\n",
              "    <tr>\n",
              "      <th>1</th>\n",
              "      <td>2</td>\n",
              "      <td>1016</td>\n",
              "      <td>37276732</td>\n",
              "      <td>7</td>\n",
              "      <td>4</td>\n",
              "      <td>1.8</td>\n",
              "      <td>3.6</td>\n",
              "      <td>0.0</td>\n",
              "      <td>0</td>\n",
              "      <td>28339753</td>\n",
              "      <td>2164478</td>\n",
              "      <td>1253185</td>\n",
              "      <td>809821</td>\n",
              "      <td>4709492</td>\n",
              "      <td>False</td>\n",
              "    </tr>\n",
              "    <tr>\n",
              "      <th>2</th>\n",
              "      <td>3</td>\n",
              "      <td>902</td>\n",
              "      <td>26663595</td>\n",
              "      <td>2</td>\n",
              "      <td>4</td>\n",
              "      <td>1.5</td>\n",
              "      <td>3.2</td>\n",
              "      <td>0.0</td>\n",
              "      <td>0</td>\n",
              "      <td>18777988</td>\n",
              "      <td>1812094</td>\n",
              "      <td>1050600</td>\n",
              "      <td>713912</td>\n",
              "      <td>4308998</td>\n",
              "      <td>False</td>\n",
              "    </tr>\n",
              "    <tr>\n",
              "      <th>3</th>\n",
              "      <td>4</td>\n",
              "      <td>217</td>\n",
              "      <td>17971552</td>\n",
              "      <td>2</td>\n",
              "      <td>4</td>\n",
              "      <td>1.4</td>\n",
              "      <td>4.4</td>\n",
              "      <td>0.0</td>\n",
              "      <td>0</td>\n",
              "      <td>13018610</td>\n",
              "      <td>1552950</td>\n",
              "      <td>774012</td>\n",
              "      <td>406184</td>\n",
              "      <td>2219794</td>\n",
              "      <td>False</td>\n",
              "    </tr>\n",
              "    <tr>\n",
              "      <th>4</th>\n",
              "      <td>5</td>\n",
              "      <td>1244</td>\n",
              "      <td>14464235</td>\n",
              "      <td>7</td>\n",
              "      <td>4</td>\n",
              "      <td>0.8</td>\n",
              "      <td>1.5</td>\n",
              "      <td>0.0</td>\n",
              "      <td>0</td>\n",
              "      <td>9827328</td>\n",
              "      <td>2124154</td>\n",
              "      <td>1047741</td>\n",
              "      <td>380670</td>\n",
              "      <td>1084340</td>\n",
              "      <td>False</td>\n",
              "    </tr>\n",
              "    <tr>\n",
              "      <th>...</th>\n",
              "      <td>...</td>\n",
              "      <td>...</td>\n",
              "      <td>...</td>\n",
              "      <td>...</td>\n",
              "      <td>...</td>\n",
              "      <td>...</td>\n",
              "      <td>...</td>\n",
              "      <td>...</td>\n",
              "      <td>...</td>\n",
              "      <td>...</td>\n",
              "      <td>...</td>\n",
              "      <td>...</td>\n",
              "      <td>...</td>\n",
              "      <td>...</td>\n",
              "      <td>...</td>\n",
              "    </tr>\n",
              "    <tr>\n",
              "      <th>1725</th>\n",
              "      <td>96</td>\n",
              "      <td>1619</td>\n",
              "      <td>112408</td>\n",
              "      <td>0</td>\n",
              "      <td>4</td>\n",
              "      <td>0.9</td>\n",
              "      <td>1.8</td>\n",
              "      <td>0.0</td>\n",
              "      <td>16</td>\n",
              "      <td>101036</td>\n",
              "      <td>3607</td>\n",
              "      <td>3237</td>\n",
              "      <td>1229</td>\n",
              "      <td>3297</td>\n",
              "      <td>False</td>\n",
              "    </tr>\n",
              "    <tr>\n",
              "      <th>1726</th>\n",
              "      <td>97</td>\n",
              "      <td>159</td>\n",
              "      <td>111595</td>\n",
              "      <td>0</td>\n",
              "      <td>4</td>\n",
              "      <td>0.9</td>\n",
              "      <td>2.3</td>\n",
              "      <td>0.0</td>\n",
              "      <td>16</td>\n",
              "      <td>88950</td>\n",
              "      <td>14856</td>\n",
              "      <td>4297</td>\n",
              "      <td>1385</td>\n",
              "      <td>2103</td>\n",
              "      <td>False</td>\n",
              "    </tr>\n",
              "    <tr>\n",
              "      <th>1727</th>\n",
              "      <td>98</td>\n",
              "      <td>1191</td>\n",
              "      <td>110723</td>\n",
              "      <td>1</td>\n",
              "      <td>4</td>\n",
              "      <td>0.9</td>\n",
              "      <td>1.9</td>\n",
              "      <td>0.0</td>\n",
              "      <td>16</td>\n",
              "      <td>64184</td>\n",
              "      <td>18332</td>\n",
              "      <td>9385</td>\n",
              "      <td>6688</td>\n",
              "      <td>12132</td>\n",
              "      <td>False</td>\n",
              "    </tr>\n",
              "    <tr>\n",
              "      <th>1728</th>\n",
              "      <td>99</td>\n",
              "      <td>1529</td>\n",
              "      <td>109530</td>\n",
              "      <td>5</td>\n",
              "      <td>4</td>\n",
              "      <td>1.9</td>\n",
              "      <td>4.1</td>\n",
              "      <td>0.0</td>\n",
              "      <td>16</td>\n",
              "      <td>99987</td>\n",
              "      <td>4766</td>\n",
              "      <td>1469</td>\n",
              "      <td>953</td>\n",
              "      <td>2353</td>\n",
              "      <td>False</td>\n",
              "    </tr>\n",
              "    <tr>\n",
              "      <th>1729</th>\n",
              "      <td>100</td>\n",
              "      <td>1056</td>\n",
              "      <td>108917</td>\n",
              "      <td>1</td>\n",
              "      <td>3</td>\n",
              "      <td>1.1</td>\n",
              "      <td>2.5</td>\n",
              "      <td>0.0</td>\n",
              "      <td>16</td>\n",
              "      <td>50813</td>\n",
              "      <td>16480</td>\n",
              "      <td>11825</td>\n",
              "      <td>6166</td>\n",
              "      <td>23631</td>\n",
              "      <td>False</td>\n",
              "    </tr>\n",
              "  </tbody>\n",
              "</table>\n",
              "<p>1730 rows × 15 columns</p>\n",
              "</div>\n",
              "      <button class=\"colab-df-convert\" onclick=\"convertToInteractive('df-0bd2e754-b8a8-4a8a-92fa-34dc5f8e7768')\"\n",
              "              title=\"Convert this dataframe to an interactive table.\"\n",
              "              style=\"display:none;\">\n",
              "        \n",
              "  <svg xmlns=\"http://www.w3.org/2000/svg\" height=\"24px\"viewBox=\"0 0 24 24\"\n",
              "       width=\"24px\">\n",
              "    <path d=\"M0 0h24v24H0V0z\" fill=\"none\"/>\n",
              "    <path d=\"M18.56 5.44l.94 2.06.94-2.06 2.06-.94-2.06-.94-.94-2.06-.94 2.06-2.06.94zm-11 1L8.5 8.5l.94-2.06 2.06-.94-2.06-.94L8.5 2.5l-.94 2.06-2.06.94zm10 10l.94 2.06.94-2.06 2.06-.94-2.06-.94-.94-2.06-.94 2.06-2.06.94z\"/><path d=\"M17.41 7.96l-1.37-1.37c-.4-.4-.92-.59-1.43-.59-.52 0-1.04.2-1.43.59L10.3 9.45l-7.72 7.72c-.78.78-.78 2.05 0 2.83L4 21.41c.39.39.9.59 1.41.59.51 0 1.02-.2 1.41-.59l7.78-7.78 2.81-2.81c.8-.78.8-2.07 0-2.86zM5.41 20L4 18.59l7.72-7.72 1.47 1.35L5.41 20z\"/>\n",
              "  </svg>\n",
              "      </button>\n",
              "      \n",
              "  <style>\n",
              "    .colab-df-container {\n",
              "      display:flex;\n",
              "      flex-wrap:wrap;\n",
              "      gap: 12px;\n",
              "    }\n",
              "\n",
              "    .colab-df-convert {\n",
              "      background-color: #E8F0FE;\n",
              "      border: none;\n",
              "      border-radius: 50%;\n",
              "      cursor: pointer;\n",
              "      display: none;\n",
              "      fill: #1967D2;\n",
              "      height: 32px;\n",
              "      padding: 0 0 0 0;\n",
              "      width: 32px;\n",
              "    }\n",
              "\n",
              "    .colab-df-convert:hover {\n",
              "      background-color: #E2EBFA;\n",
              "      box-shadow: 0px 1px 2px rgba(60, 64, 67, 0.3), 0px 1px 3px 1px rgba(60, 64, 67, 0.15);\n",
              "      fill: #174EA6;\n",
              "    }\n",
              "\n",
              "    [theme=dark] .colab-df-convert {\n",
              "      background-color: #3B4455;\n",
              "      fill: #D2E3FC;\n",
              "    }\n",
              "\n",
              "    [theme=dark] .colab-df-convert:hover {\n",
              "      background-color: #434B5C;\n",
              "      box-shadow: 0px 1px 3px 1px rgba(0, 0, 0, 0.15);\n",
              "      filter: drop-shadow(0px 1px 2px rgba(0, 0, 0, 0.3));\n",
              "      fill: #FFFFFF;\n",
              "    }\n",
              "  </style>\n",
              "\n",
              "      <script>\n",
              "        const buttonEl =\n",
              "          document.querySelector('#df-0bd2e754-b8a8-4a8a-92fa-34dc5f8e7768 button.colab-df-convert');\n",
              "        buttonEl.style.display =\n",
              "          google.colab.kernel.accessAllowed ? 'block' : 'none';\n",
              "\n",
              "        async function convertToInteractive(key) {\n",
              "          const element = document.querySelector('#df-0bd2e754-b8a8-4a8a-92fa-34dc5f8e7768');\n",
              "          const dataTable =\n",
              "            await google.colab.kernel.invokeFunction('convertToInteractive',\n",
              "                                                     [key], {});\n",
              "          if (!dataTable) return;\n",
              "\n",
              "          const docLinkHtml = 'Like what you see? Visit the ' +\n",
              "            '<a target=\"_blank\" href=https://colab.research.google.com/notebooks/data_table.ipynb>data table notebook</a>'\n",
              "            + ' to learn more about interactive tables.';\n",
              "          element.innerHTML = '';\n",
              "          dataTable['output_type'] = 'display_data';\n",
              "          await google.colab.output.renderOutput(dataTable, element);\n",
              "          const docLink = document.createElement('div');\n",
              "          docLink.innerHTML = docLinkHtml;\n",
              "          element.appendChild(docLink);\n",
              "        }\n",
              "      </script>\n",
              "    </div>\n",
              "  </div>\n",
              "  "
            ]
          },
          "metadata": {},
          "execution_count": 1182
        }
      ]
    },
    {
      "cell_type": "code",
      "source": [
        "from sklearn.feature_selection import SelectKBest\n",
        "from sklearn.feature_selection import chi2\n",
        "\n",
        "\n",
        "X = ds.iloc[:,0:14]  \n",
        "y = ds.iloc[:,-1]\n",
        "bestfeatures = SelectKBest(score_func=chi2, k=10)\n",
        "fit = bestfeatures.fit(X,y)\n",
        "dsscores = pd.DataFrame(fit.scores_)\n",
        "dscolumns = pd.DataFrame(X.columns)\n",
        "featureScores = pd.concat([dscolumns,dsscores],axis=1)\n",
        "featureScores.columns = ['Specs','Score']\n",
        "print(featureScores.nlargest(10,'Score'))"
      ],
      "metadata": {
        "colab": {
          "base_uri": "https://localhost:8080/"
        },
        "id": "jWJVicvZAn59",
        "outputId": "669e7ff2-3f53-4be7-e850-ba69a661615e"
      },
      "execution_count": 1183,
      "outputs": [
        {
          "output_type": "stream",
          "name": "stdout",
          "text": [
            "               Specs          Score\n",
            "2      total ratings  482706.246079\n",
            "13    1 star ratings  200115.807132\n",
            "9     5 star ratings  141992.648218\n",
            "10    4 star ratings  141533.801569\n",
            "11    3 star ratings  110071.228407\n",
            "12    2 star ratings   52279.259351\n",
            "7              price    4659.484286\n",
            "6   growth (60 days)     824.227441\n",
            "5   growth (30 days)     121.364117\n",
            "0               rank      16.138262\n"
          ]
        }
      ]
    },
    {
      "cell_type": "code",
      "source": [
        "from sklearn.ensemble import ExtraTreesClassifier\n",
        "import matplotlib.pyplot as plt\n",
        "model = ExtraTreesClassifier()\n",
        "model.fit(X,y)\n",
        "print(model.feature_importances_) #use inbuilt class feature_importances of tree based classifiers\n",
        "#plot graph of feature importances for better visualization\n",
        "feat_importances = pd.Series(model.feature_importances_, index=X.columns)\n",
        "feat_importances.nlargest(10).plot(kind='barh')\n",
        "plt.show()"
      ],
      "metadata": {
        "colab": {
          "base_uri": "https://localhost:8080/",
          "height": 334
        },
        "id": "jVshsZ4wD6rK",
        "outputId": "d9551aa7-1944-4eba-9222-a5b983c2d005"
      },
      "execution_count": 1184,
      "outputs": [
        {
          "output_type": "stream",
          "name": "stdout",
          "text": [
            "[1.19213433e-02 1.07120297e-02 1.76013913e-02 3.14719961e-02\n",
            " 3.91431120e-04 3.09770799e-02 1.02350635e-02 8.24580140e-01\n",
            " 9.75748584e-03 9.68699916e-03 8.00031975e-03 1.14256358e-02\n",
            " 1.18079606e-02 1.14311239e-02]\n"
          ]
        },
        {
          "output_type": "display_data",
          "data": {
            "text/plain": [
              "<Figure size 432x288 with 1 Axes>"
            ],
            "image/png": "[encoded data removed]"
          },
          "metadata": {
            "needs_background": "light"
          }
        }
      ]
    },
    {
      "cell_type": "code",
      "source": [
        "X_train, X_test, y_train, y_test = train_test_split(\n",
        "    X, y, test_size=0.3, random_state=1)"
      ],
      "metadata": {
        "id": "4jEsVrmsEjdp"
      },
      "execution_count": 1185,
      "outputs": []
    },
    {
      "cell_type": "code",
      "source": [
        "X_test_plot = X_test\n",
        "\n",
        "X_train_plot = X_train\n"
      ],
      "metadata": {
        "id": "rxD5Llm3HU8m"
      },
      "execution_count": 1186,
      "outputs": []
    },
    {
      "cell_type": "markdown",
      "source": [
        "# Do the training and test sets have the same data?"
      ],
      "metadata": {
        "id": "Zf0e-jXfOhtp"
      }
    },
    {
      "cell_type": "code",
      "source": [
        "#Plotting data for histogram\n",
        "for c in X_test_plot.columns[:]:\n",
        "  plt.figure(figsize=(8,6))\n",
        "  plt.hist(X_test_plot[c], bins=20, alpha=0.5, label=\"test\")\n",
        "  plt.hist(X_train_plot[c], bins=20, alpha=0.5, label=\"train\")\n",
        "  plt.xlabel(c, size=14)\n",
        "  plt.ylabel(\"Count\", size=14)\n",
        "  plt.legend(loc='upper right')\n",
        "  plt.title(\"{} distribution\".format(c))\n",
        "  plt.show()"
      ],
      "metadata": {
        "colab": {
          "base_uri": "https://localhost:8080/",
          "height": 1000
        },
        "id": "gL7bHI0HH0q6",
        "outputId": "f61a73bf-1526-418d-813c-08748d2eb9a6"
      },
      "execution_count": 1187,
      "outputs": [
        {
          "output_type": "display_data",
          "data": {
            "text/plain": [
              "<Figure size 576x432 with 1 Axes>"
            ],
            "image/png": "[encoded data removed]"
          },
          "metadata": {
            "needs_background": "light"
          }
        },
        {
          "output_type": "display_data",
          "data": {
            "text/plain": [
              "<Figure size 576x432 with 1 Axes>"
            ],
            "image/png": "[encoded data removed]"
          },
          "metadata": {
            "needs_background": "light"
          }
        },
        {
          "output_type": "display_data",
          "data": {
            "text/plain": [
              "<Figure size 576x432 with 1 Axes>"
            ],
            "image/png": "[encoded data removed]"
          },
          "metadata": {
            "needs_background": "light"
          }
        },
        {
          "output_type": "display_data",
          "data": {
            "text/plain": [
              "<Figure size 576x432 with 1 Axes>"
            ],
            "image/png": "[encoded data removed]"
          },
          "metadata": {
            "needs_background": "light"
          }
        },
        {
          "output_type": "display_data",
          "data": {
            "text/plain": [
              "<Figure size 576x432 with 1 Axes>"
            ],
            "image/png": "[encoded data removed]"
          },
          "metadata": {
            "needs_background": "light"
          }
        },
        {
          "output_type": "display_data",
          "data": {
            "text/plain": [
              "<Figure size 576x432 with 1 Axes>"
            ],
            "image/png": "[encoded data removed]"
          },
          "metadata": {
            "needs_background": "light"
          }
        },
        {
          "output_type": "display_data",
          "data": {
            "text/plain": [
              "<Figure size 576x432 with 1 Axes>"
            ],
            "image/png": "[encoded data removed]"
          },
          "metadata": {
            "needs_background": "light"
          }
        },
        {
          "output_type": "display_data",
          "data": {
            "text/plain": [
              "<Figure size 576x432 with 1 Axes>"
            ],
            "image/png": "[encoded data removed]"
          },
          "metadata": {
            "needs_background": "light"
          }
        },
        {
          "output_type": "display_data",
          "data": {
            "text/plain": [
              "<Figure size 576x432 with 1 Axes>"
            ],
            "image/png": "[encoded data removed]"
          },
          "metadata": {
            "needs_background": "light"
          }
        },
        {
          "output_type": "display_data",
          "data": {
            "text/plain": [
              "<Figure size 576x432 with 1 Axes>"
            ],
            "image/png": "[encoded data removed]"
          },
          "metadata": {
            "needs_background": "light"
          }
        },
        {
          "output_type": "display_data",
          "data": {
            "text/plain": [
              "<Figure size 576x432 with 1 Axes>"
            ],
            "image/png": "[encoded data removed]"
          },
          "metadata": {
            "needs_background": "light"
          }
        },
        {
          "output_type": "display_data",
          "data": {
            "text/plain": [
              "<Figure size 576x432 with 1 Axes>"
            ],
            "image/png": "[encoded data removed]"
          },
          "metadata": {
            "needs_background": "light"
          }
        },
        {
          "output_type": "display_data",
          "data": {
            "text/plain": [
              "<Figure size 576x432 with 1 Axes>"
            ],
            "image/png": "[encoded data removed]"
          },
          "metadata": {
            "needs_background": "light"
          }
        },
        {
          "output_type": "display_data",
          "data": {
            "text/plain": [
              "<Figure size 576x432 with 1 Axes>"
            ],
            "image/png": "[encoded data removed]"
          },
          "metadata": {
            "needs_background": "light"
          }
        }
      ]
    },
    {
      "cell_type": "markdown",
      "source": [
        "Therefore, Training and test sets have the same data based on the graphs plotted. Training and test sets lie almost in the same range "
      ],
      "metadata": {
        "id": "0ODS3VDQ30aL"
      }
    },
    {
      "cell_type": "markdown",
      "source": [
        "#What are the likely distributions of the numeric variables?\n",
        "\n",
        "#What are the distributions of the predictor variables?  \n"
      ],
      "metadata": {
        "id": "QKVooJlQNtH3"
      }
    },
    {
      "cell_type": "code",
      "source": [
        "#checking the distribution of independent variables\n",
        "from statsmodels.graphics.gofplots import qqplot\n",
        "data_norm=X\n",
        "for c in data_norm.columns[:]:\n",
        "  plt.figure(figsize=(8,5))\n",
        "  fig=qqplot(data_norm[c],line='45',fit='True')\n",
        "  plt.xticks(fontsize=13)\n",
        "  plt.yticks(fontsize=13)\n",
        "  plt.xlabel(\"Theoretical quantiles\",fontsize=15)\n",
        "  plt.ylabel(\"Sample quantiles\",fontsize=15)\n",
        "  plt.title(\"Q-Q plot of {}\".format(c),fontsize=16)\n",
        "  plt.grid(True)\n",
        "  plt.show()"
      ],
      "metadata": {
        "colab": {
          "base_uri": "https://localhost:8080/",
          "height": 1000
        },
        "id": "th3dnc45ZhGA",
        "outputId": "db58bd97-5d77-4179-b325-7f94513c9f8f"
      },
      "execution_count": 1188,
      "outputs": [
        {
          "output_type": "display_data",
          "data": {
            "text/plain": [
              "<Figure size 576x360 with 0 Axes>"
            ]
          },
          "metadata": {}
        },
        {
          "output_type": "display_data",
          "data": {
            "text/plain": [
              "<Figure size 432x288 with 1 Axes>"
            ],
            "image/png": "[encoded data removed]"
          },
          "metadata": {
            "needs_background": "light"
          }
        },
        {
          "output_type": "display_data",
          "data": {
            "text/plain": [
              "<Figure size 576x360 with 0 Axes>"
            ]
          },
          "metadata": {}
        },
        {
          "output_type": "display_data",
          "data": {
            "text/plain": [
              "<Figure size 432x288 with 1 Axes>"
            ],
            "image/png": "[encoded data removed]"
          },
          "metadata": {
            "needs_background": "light"
          }
        },
        {
          "output_type": "display_data",
          "data": {
            "text/plain": [
              "<Figure size 576x360 with 0 Axes>"
            ]
          },
          "metadata": {}
        },
        {
          "output_type": "display_data",
          "data": {
            "text/plain": [
              "<Figure size 432x288 with 1 Axes>"
            ],
            "image/png": "[encoded data removed]"
          },
          "metadata": {
            "needs_background": "light"
          }
        },
        {
          "output_type": "display_data",
          "data": {
            "text/plain": [
              "<Figure size 576x360 with 0 Axes>"
            ]
          },
          "metadata": {}
        },
        {
          "output_type": "display_data",
          "data": {
            "text/plain": [
              "<Figure size 432x288 with 1 Axes>"
            ],
            "image/png": "[encoded data removed]"
          },
          "metadata": {
            "needs_background": "light"
          }
        },
        {
          "output_type": "display_data",
          "data": {
            "text/plain": [
              "<Figure size 576x360 with 0 Axes>"
            ]
          },
          "metadata": {}
        },
        {
          "output_type": "display_data",
          "data": {
            "text/plain": [
              "<Figure size 432x288 with 1 Axes>"
            ],
            "image/png": "[encoded data removed]"
          },
          "metadata": {
            "needs_background": "light"
          }
        },
        {
          "output_type": "display_data",
          "data": {
            "text/plain": [
              "<Figure size 576x360 with 0 Axes>"
            ]
          },
          "metadata": {}
        },
        {
          "output_type": "display_data",
          "data": {
            "text/plain": [
              "<Figure size 432x288 with 1 Axes>"
            ],
            "image/png": "[encoded data removed]"
          },
          "metadata": {
            "needs_background": "light"
          }
        },
        {
          "output_type": "display_data",
          "data": {
            "text/plain": [
              "<Figure size 576x360 with 0 Axes>"
            ]
          },
          "metadata": {}
        },
        {
          "output_type": "display_data",
          "data": {
            "text/plain": [
              "<Figure size 432x288 with 1 Axes>"
            ],
            "image/png": "[encoded data removed]"
          },
          "metadata": {
            "needs_background": "light"
          }
        },
        {
          "output_type": "display_data",
          "data": {
            "text/plain": [
              "<Figure size 576x360 with 0 Axes>"
            ]
          },
          "metadata": {}
        },
        {
          "output_type": "display_data",
          "data": {
            "text/plain": [
              "<Figure size 432x288 with 1 Axes>"
            ],
            "image/png": "[encoded data removed]"
          },
          "metadata": {
            "needs_background": "light"
          }
        },
        {
          "output_type": "display_data",
          "data": {
            "text/plain": [
              "<Figure size 576x360 with 0 Axes>"
            ]
          },
          "metadata": {}
        },
        {
          "output_type": "display_data",
          "data": {
            "text/plain": [
              "<Figure size 432x288 with 1 Axes>"
            ],
            "image/png": "[encoded data removed]"
          },
          "metadata": {
            "needs_background": "light"
          }
        },
        {
          "output_type": "display_data",
          "data": {
            "text/plain": [
              "<Figure size 576x360 with 0 Axes>"
            ]
          },
          "metadata": {}
        },
        {
          "output_type": "display_data",
          "data": {
            "text/plain": [
              "<Figure size 432x288 with 1 Axes>"
            ],
            "image/png": "[encoded data removed]"
          },
          "metadata": {
            "needs_background": "light"
          }
        },
        {
          "output_type": "display_data",
          "data": {
            "text/plain": [
              "<Figure size 576x360 with 0 Axes>"
            ]
          },
          "metadata": {}
        },
        {
          "output_type": "display_data",
          "data": {
            "text/plain": [
              "<Figure size 432x288 with 1 Axes>"
            ],
            "image/png": "[encoded data removed]"
          },
          "metadata": {
            "needs_background": "light"
          }
        },
        {
          "output_type": "display_data",
          "data": {
            "text/plain": [
              "<Figure size 576x360 with 0 Axes>"
            ]
          },
          "metadata": {}
        },
        {
          "output_type": "display_data",
          "data": {
            "text/plain": [
              "<Figure size 432x288 with 1 Axes>"
            ],
            "image/png": "[encoded data removed]"
          },
          "metadata": {
            "needs_background": "light"
          }
        },
        {
          "output_type": "display_data",
          "data": {
            "text/plain": [
              "<Figure size 576x360 with 0 Axes>"
            ]
          },
          "metadata": {}
        },
        {
          "output_type": "display_data",
          "data": {
            "text/plain": [
              "<Figure size 432x288 with 1 Axes>"
            ],
            "image/png": "[encoded data removed]"
          },
          "metadata": {
            "needs_background": "light"
          }
        },
        {
          "output_type": "display_data",
          "data": {
            "text/plain": [
              "<Figure size 576x360 with 0 Axes>"
            ]
          },
          "metadata": {}
        },
        {
          "output_type": "display_data",
          "data": {
            "text/plain": [
              "<Figure size 432x288 with 1 Axes>"
            ],
            "image/png": "[encoded data removed]"
          },
          "metadata": {
            "needs_background": "light"
          }
        }
      ]
    },
    {
      "cell_type": "markdown",
      "source": [
        "By the Q-Q plots plotted, Rank is following normal distribution and the other features are roughly following exponential distributions like the star ratings and the growth days"
      ],
      "metadata": {
        "id": "3o4kAGNL4hPR"
      }
    },
    {
      "cell_type": "code",
      "source": [
        "from scipy import stats"
      ],
      "metadata": {
        "id": "gdEkAEwcnXSK"
      },
      "execution_count": 1189,
      "outputs": []
    },
    {
      "cell_type": "markdown",
      "source": [
        "#Remove outliers and keep outliers (does if have an effect of the final predictive model)?\n"
      ],
      "metadata": {
        "id": "V0wUBLxQNE7C"
      }
    },
    {
      "cell_type": "code",
      "source": [
        "def remove_outliers(ds):  # Function to Remove All outliers\n",
        "    ds_removed_outliers = ds[(np.abs(stats.zscore(ds)) < 3).all(axis=1)]\n",
        "    return ds_removed_outliers\n",
        "# Removing outliers from training data\n",
        "ds_onehot_no_outlier = remove_outliers(\n",
        "    X)\n",
        "\n",
        "# Removing outliers from testing data\n",
        "#knn_impute_test_ds_onehot_no_outlier = remove_outliers(knn_impute_test_df_onehot_scaled)"
      ],
      "metadata": {
        "id": "AYF15Mi8mqg1"
      },
      "execution_count": 1190,
      "outputs": []
    },
    {
      "cell_type": "code",
      "source": [
        "ds_onehot_no_outlier.describe()"
      ],
      "metadata": {
        "colab": {
          "base_uri": "https://localhost:8080/",
          "height": 382
        },
        "id": "2-qCW2gfnZq1",
        "outputId": "6d619dee-71f8-4da5-fbf7-b42f0ccfae11"
      },
      "execution_count": 1191,
      "outputs": [
        {
          "output_type": "execute_result",
          "data": {
            "text/plain": [
              "              rank        title  total ratings     installs  average rating  \\\n",
              "count  1532.000000  1532.000000   1.532000e+03  1532.000000          1532.0   \n",
              "mean     50.599217   850.246736   7.745251e+05     2.398172             4.0   \n",
              "std      28.777417   484.997573   1.060616e+06     2.192129             0.0   \n",
              "min       1.000000     0.000000   3.299300e+04     0.000000             4.0   \n",
              "25%      26.000000   419.750000   1.824285e+05     1.000000             4.0   \n",
              "50%      51.000000   865.000000   4.339235e+05     1.000000             4.0   \n",
              "75%      76.000000  1261.250000   8.805230e+05     5.000000             4.0   \n",
              "max     100.000000  1674.000000   8.306868e+06     8.000000             4.0   \n",
              "\n",
              "       growth (30 days)  growth (60 days)   price    category  5 star ratings  \\\n",
              "count       1532.000000       1532.000000  1532.0  1532.00000    1.532000e+03   \n",
              "mean          64.161880         20.884399     0.0     8.01893    5.564773e+05   \n",
              "std          586.993957        250.160473     0.0     4.86449    7.644452e+05   \n",
              "min            0.000000          0.000000     0.0     0.00000    1.971500e+04   \n",
              "25%            0.100000          0.200000     0.0     4.00000    1.360065e+05   \n",
              "50%            0.500000          1.000000     0.0     8.00000    3.054825e+05   \n",
              "75%            1.800000          3.400000     0.0    12.00000    6.228932e+05   \n",
              "max        15364.200000       6004.400000     0.0    16.00000    5.666720e+06   \n",
              "\n",
              "       4 star ratings  3 star ratings  2 star ratings  1 star ratings  \n",
              "count     1532.000000     1532.000000     1532.000000    1.532000e+03  \n",
              "mean     90502.259138    43030.086815    19325.049608    6.518791e+04  \n",
              "std     122448.012039    59314.560901    28629.150145    1.067257e+05  \n",
              "min       2451.000000     1053.000000      266.000000    5.450000e+02  \n",
              "25%      21435.500000     9490.750000     4020.000000    1.202825e+04  \n",
              "50%      51550.000000    24431.000000    10339.000000    3.178500e+04  \n",
              "75%     101602.000000    49277.500000    21851.000000    7.035100e+04  \n",
              "max     959679.000000   483208.000000   261701.000000    1.104879e+06  "
            ],
            "text/html": [
              "\n",
              "  <div id=\"df-4d3319c1-6f82-4b13-acee-619aaf304f83\">\n",
              "    <div class=\"colab-df-container\">\n",
              "      <div>\n",
              "<style scoped>\n",
              "    .dataframe tbody tr th:only-of-type {\n",
              "        vertical-align: middle;\n",
              "    }\n",
              "\n",
              "    .dataframe tbody tr th {\n",
              "        vertical-align: top;\n",
              "    }\n",
              "\n",
              "    .dataframe thead th {\n",
              "        text-align: right;\n",
              "    }\n",
              "</style>\n",
              "<table border=\"1\" class=\"dataframe\">\n",
              "  <thead>\n",
              "    <tr style=\"text-align: right;\">\n",
              "      <th></th>\n",
              "      <th>rank</th>\n",
              "      <th>title</th>\n",
              "      <th>total ratings</th>\n",
              "      <th>installs</th>\n",
              "      <th>average rating</th>\n",
              "      <th>growth (30 days)</th>\n",
              "      <th>growth (60 days)</th>\n",
              "      <th>price</th>\n",
              "      <th>category</th>\n",
              "      <th>5 star ratings</th>\n",
              "      <th>4 star ratings</th>\n",
              "      <th>3 star ratings</th>\n",
              "      <th>2 star ratings</th>\n",
              "      <th>1 star ratings</th>\n",
              "    </tr>\n",
              "  </thead>\n",
              "  <tbody>\n",
              "    <tr>\n",
              "      <th>count</th>\n",
              "      <td>1532.000000</td>\n",
              "      <td>1532.000000</td>\n",
              "      <td>1.532000e+03</td>\n",
              "      <td>1532.000000</td>\n",
              "      <td>1532.0</td>\n",
              "      <td>1532.000000</td>\n",
              "      <td>1532.000000</td>\n",
              "      <td>1532.0</td>\n",
              "      <td>1532.00000</td>\n",
              "      <td>1.532000e+03</td>\n",
              "      <td>1532.000000</td>\n",
              "      <td>1532.000000</td>\n",
              "      <td>1532.000000</td>\n",
              "      <td>1.532000e+03</td>\n",
              "    </tr>\n",
              "    <tr>\n",
              "      <th>mean</th>\n",
              "      <td>50.599217</td>\n",
              "      <td>850.246736</td>\n",
              "      <td>7.745251e+05</td>\n",
              "      <td>2.398172</td>\n",
              "      <td>4.0</td>\n",
              "      <td>64.161880</td>\n",
              "      <td>20.884399</td>\n",
              "      <td>0.0</td>\n",
              "      <td>8.01893</td>\n",
              "      <td>5.564773e+05</td>\n",
              "      <td>90502.259138</td>\n",
              "      <td>43030.086815</td>\n",
              "      <td>19325.049608</td>\n",
              "      <td>6.518791e+04</td>\n",
              "    </tr>\n",
              "    <tr>\n",
              "      <th>std</th>\n",
              "      <td>28.777417</td>\n",
              "      <td>484.997573</td>\n",
              "      <td>1.060616e+06</td>\n",
              "      <td>2.192129</td>\n",
              "      <td>0.0</td>\n",
              "      <td>586.993957</td>\n",
              "      <td>250.160473</td>\n",
              "      <td>0.0</td>\n",
              "      <td>4.86449</td>\n",
              "      <td>7.644452e+05</td>\n",
              "      <td>122448.012039</td>\n",
              "      <td>59314.560901</td>\n",
              "      <td>28629.150145</td>\n",
              "      <td>1.067257e+05</td>\n",
              "    </tr>\n",
              "    <tr>\n",
              "      <th>min</th>\n",
              "      <td>1.000000</td>\n",
              "      <td>0.000000</td>\n",
              "      <td>3.299300e+04</td>\n",
              "      <td>0.000000</td>\n",
              "      <td>4.0</td>\n",
              "      <td>0.000000</td>\n",
              "      <td>0.000000</td>\n",
              "      <td>0.0</td>\n",
              "      <td>0.00000</td>\n",
              "      <td>1.971500e+04</td>\n",
              "      <td>2451.000000</td>\n",
              "      <td>1053.000000</td>\n",
              "      <td>266.000000</td>\n",
              "      <td>5.450000e+02</td>\n",
              "    </tr>\n",
              "    <tr>\n",
              "      <th>25%</th>\n",
              "      <td>26.000000</td>\n",
              "      <td>419.750000</td>\n",
              "      <td>1.824285e+05</td>\n",
              "      <td>1.000000</td>\n",
              "      <td>4.0</td>\n",
              "      <td>0.100000</td>\n",
              "      <td>0.200000</td>\n",
              "      <td>0.0</td>\n",
              "      <td>4.00000</td>\n",
              "      <td>1.360065e+05</td>\n",
              "      <td>21435.500000</td>\n",
              "      <td>9490.750000</td>\n",
              "      <td>4020.000000</td>\n",
              "      <td>1.202825e+04</td>\n",
              "    </tr>\n",
              "    <tr>\n",
              "      <th>50%</th>\n",
              "      <td>51.000000</td>\n",
              "      <td>865.000000</td>\n",
              "      <td>4.339235e+05</td>\n",
              "      <td>1.000000</td>\n",
              "      <td>4.0</td>\n",
              "      <td>0.500000</td>\n",
              "      <td>1.000000</td>\n",
              "      <td>0.0</td>\n",
              "      <td>8.00000</td>\n",
              "      <td>3.054825e+05</td>\n",
              "      <td>51550.000000</td>\n",
              "      <td>24431.000000</td>\n",
              "      <td>10339.000000</td>\n",
              "      <td>3.178500e+04</td>\n",
              "    </tr>\n",
              "    <tr>\n",
              "      <th>75%</th>\n",
              "      <td>76.000000</td>\n",
              "      <td>1261.250000</td>\n",
              "      <td>8.805230e+05</td>\n",
              "      <td>5.000000</td>\n",
              "      <td>4.0</td>\n",
              "      <td>1.800000</td>\n",
              "      <td>3.400000</td>\n",
              "      <td>0.0</td>\n",
              "      <td>12.00000</td>\n",
              "      <td>6.228932e+05</td>\n",
              "      <td>101602.000000</td>\n",
              "      <td>49277.500000</td>\n",
              "      <td>21851.000000</td>\n",
              "      <td>7.035100e+04</td>\n",
              "    </tr>\n",
              "    <tr>\n",
              "      <th>max</th>\n",
              "      <td>100.000000</td>\n",
              "      <td>1674.000000</td>\n",
              "      <td>8.306868e+06</td>\n",
              "      <td>8.000000</td>\n",
              "      <td>4.0</td>\n",
              "      <td>15364.200000</td>\n",
              "      <td>6004.400000</td>\n",
              "      <td>0.0</td>\n",
              "      <td>16.00000</td>\n",
              "      <td>5.666720e+06</td>\n",
              "      <td>959679.000000</td>\n",
              "      <td>483208.000000</td>\n",
              "      <td>261701.000000</td>\n",
              "      <td>1.104879e+06</td>\n",
              "    </tr>\n",
              "  </tbody>\n",
              "</table>\n",
              "</div>\n",
              "      <button class=\"colab-df-convert\" onclick=\"convertToInteractive('df-4d3319c1-6f82-4b13-acee-619aaf304f83')\"\n",
              "              title=\"Convert this dataframe to an interactive table.\"\n",
              "              style=\"display:none;\">\n",
              "        \n",
              "  <svg xmlns=\"http://www.w3.org/2000/svg\" height=\"24px\"viewBox=\"0 0 24 24\"\n",
              "       width=\"24px\">\n",
              "    <path d=\"M0 0h24v24H0V0z\" fill=\"none\"/>\n",
              "    <path d=\"M18.56 5.44l.94 2.06.94-2.06 2.06-.94-2.06-.94-.94-2.06-.94 2.06-2.06.94zm-11 1L8.5 8.5l.94-2.06 2.06-.94-2.06-.94L8.5 2.5l-.94 2.06-2.06.94zm10 10l.94 2.06.94-2.06 2.06-.94-2.06-.94-.94-2.06-.94 2.06-2.06.94z\"/><path d=\"M17.41 7.96l-1.37-1.37c-.4-.4-.92-.59-1.43-.59-.52 0-1.04.2-1.43.59L10.3 9.45l-7.72 7.72c-.78.78-.78 2.05 0 2.83L4 21.41c.39.39.9.59 1.41.59.51 0 1.02-.2 1.41-.59l7.78-7.78 2.81-2.81c.8-.78.8-2.07 0-2.86zM5.41 20L4 18.59l7.72-7.72 1.47 1.35L5.41 20z\"/>\n",
              "  </svg>\n",
              "      </button>\n",
              "      \n",
              "  <style>\n",
              "    .colab-df-container {\n",
              "      display:flex;\n",
              "      flex-wrap:wrap;\n",
              "      gap: 12px;\n",
              "    }\n",
              "\n",
              "    .colab-df-convert {\n",
              "      background-color: #E8F0FE;\n",
              "      border: none;\n",
              "      border-radius: 50%;\n",
              "      cursor: pointer;\n",
              "      display: none;\n",
              "      fill: #1967D2;\n",
              "      height: 32px;\n",
              "      padding: 0 0 0 0;\n",
              "      width: 32px;\n",
              "    }\n",
              "\n",
              "    .colab-df-convert:hover {\n",
              "      background-color: #E2EBFA;\n",
              "      box-shadow: 0px 1px 2px rgba(60, 64, 67, 0.3), 0px 1px 3px 1px rgba(60, 64, 67, 0.15);\n",
              "      fill: #174EA6;\n",
              "    }\n",
              "\n",
              "    [theme=dark] .colab-df-convert {\n",
              "      background-color: #3B4455;\n",
              "      fill: #D2E3FC;\n",
              "    }\n",
              "\n",
              "    [theme=dark] .colab-df-convert:hover {\n",
              "      background-color: #434B5C;\n",
              "      box-shadow: 0px 1px 3px 1px rgba(0, 0, 0, 0.15);\n",
              "      filter: drop-shadow(0px 1px 2px rgba(0, 0, 0, 0.3));\n",
              "      fill: #FFFFFF;\n",
              "    }\n",
              "  </style>\n",
              "\n",
              "      <script>\n",
              "        const buttonEl =\n",
              "          document.querySelector('#df-4d3319c1-6f82-4b13-acee-619aaf304f83 button.colab-df-convert');\n",
              "        buttonEl.style.display =\n",
              "          google.colab.kernel.accessAllowed ? 'block' : 'none';\n",
              "\n",
              "        async function convertToInteractive(key) {\n",
              "          const element = document.querySelector('#df-4d3319c1-6f82-4b13-acee-619aaf304f83');\n",
              "          const dataTable =\n",
              "            await google.colab.kernel.invokeFunction('convertToInteractive',\n",
              "                                                     [key], {});\n",
              "          if (!dataTable) return;\n",
              "\n",
              "          const docLinkHtml = 'Like what you see? Visit the ' +\n",
              "            '<a target=\"_blank\" href=https://colab.research.google.com/notebooks/data_table.ipynb>data table notebook</a>'\n",
              "            + ' to learn more about interactive tables.';\n",
              "          element.innerHTML = '';\n",
              "          dataTable['output_type'] = 'display_data';\n",
              "          await google.colab.output.renderOutput(dataTable, element);\n",
              "          const docLink = document.createElement('div');\n",
              "          docLink.innerHTML = docLinkHtml;\n",
              "          element.appendChild(docLink);\n",
              "        }\n",
              "      </script>\n",
              "    </div>\n",
              "  </div>\n",
              "  "
            ]
          },
          "metadata": {},
          "execution_count": 1191
        }
      ]
    },
    {
      "cell_type": "code",
      "source": [
        "#outliers remove \n",
        "data = ds\n",
        "import scipy.stats as stats"
      ],
      "metadata": {
        "id": "qZK7NTnS_h1d"
      },
      "execution_count": 1192,
      "outputs": []
    },
    {
      "cell_type": "code",
      "source": [
        "from sklearn.preprocessing import MinMaxScaler\n",
        "\n",
        "scaler = MinMaxScaler()\n",
        "\n",
        "scaler.fit(data)\n",
        "\n",
        "print(scaler.data_max_)\n",
        "\n",
        "ts_data = pd.DataFrame(scaler.transform(data), index=data.index, columns=data.columns)\n",
        "#normData = pd.DataFrame(scaler.transform(ds), index=ds.index, columns=ds.columns)\n",
        "\n",
        "print(ts_data)"
      ],
      "metadata": {
        "colab": {
          "base_uri": "https://localhost:8080/"
        },
        "id": "Fw7QmB5F_2_o",
        "outputId": "7f0aec54-c4e1-475c-97df-be64a6fbc61c"
      },
      "execution_count": 1193,
      "outputs": [
        {
          "output_type": "stream",
          "name": "stdout",
          "text": [
            "[1.0000000e+02 1.6740000e+03 8.6273129e+07 8.0000000e+00 4.0000000e+00\n",
            " 2.2710570e+05 6.9441400e+04 7.4900000e+00 1.6000000e+01 6.3546766e+07\n",
            " 5.4049660e+06 3.1587560e+06 2.1221830e+06 1.2495915e+07 1.0000000e+00]\n",
            "          rank     title  total ratings  installs  average rating  \\\n",
            "0     0.000000  0.344683       1.000000     0.875             1.0   \n",
            "1     0.010101  0.606930       0.431861     0.875             1.0   \n",
            "2     0.020202  0.538829       0.308796     0.250             1.0   \n",
            "3     0.030303  0.129630       0.208007     0.250             1.0   \n",
            "4     0.040404  0.743130       0.167338     0.875             1.0   \n",
            "...        ...       ...            ...       ...             ...   \n",
            "1725  0.959596  0.967145       0.000921     0.000             1.0   \n",
            "1726  0.969697  0.094982       0.000911     0.000             1.0   \n",
            "1727  0.979798  0.711470       0.000901     0.125             1.0   \n",
            "1728  0.989899  0.913381       0.000887     0.625             1.0   \n",
            "1729  1.000000  0.630824       0.000880     0.125             0.5   \n",
            "\n",
            "      growth (30 days)  growth (60 days)  price  category  5 star ratings  \\\n",
            "0             0.000009          0.000099    0.0       0.0        1.000000   \n",
            "1             0.000008          0.000052    0.0       0.0        0.445845   \n",
            "2             0.000007          0.000046    0.0       0.0        0.295344   \n",
            "3             0.000006          0.000063    0.0       0.0        0.204692   \n",
            "4             0.000004          0.000022    0.0       0.0        0.154461   \n",
            "...                ...               ...    ...       ...             ...   \n",
            "1725          0.000004          0.000026    0.0       1.0        0.001370   \n",
            "1726          0.000004          0.000033    0.0       1.0        0.001180   \n",
            "1727          0.000004          0.000027    0.0       1.0        0.000790   \n",
            "1728          0.000008          0.000059    0.0       1.0        0.001354   \n",
            "1729          0.000005          0.000036    0.0       1.0        0.000580   \n",
            "\n",
            "      4 star ratings  3 star ratings  2 star ratings  1 star ratings  paid  \n",
            "0           0.915695        1.000000        1.000000        1.000000   0.0  \n",
            "1           0.400189        0.396597        0.381521        0.376855   0.0  \n",
            "2           0.334963        0.332448        0.336321        0.344804   0.0  \n",
            "3           0.286996        0.244865        0.191298        0.177606   0.0  \n",
            "4           0.392725        0.331542        0.179274        0.086736   0.0  \n",
            "...              ...             ...             ...             ...   ...  \n",
            "1725        0.000214        0.000798        0.000454        0.000220   0.0  \n",
            "1726        0.002296        0.001133        0.000527        0.000125   0.0  \n",
            "1727        0.002940        0.002744        0.003027        0.000927   0.0  \n",
            "1728        0.000429        0.000238        0.000324        0.000145   0.0  \n",
            "1729        0.002597        0.003517        0.002781        0.001848   0.0  \n",
            "\n",
            "[1730 rows x 15 columns]\n"
          ]
        }
      ]
    },
    {
      "cell_type": "code",
      "source": [],
      "metadata": {
        "id": "AJcg61yPw3P8"
      },
      "execution_count": 1193,
      "outputs": []
    },
    {
      "cell_type": "code",
      "source": [
        "from imblearn.over_sampling import SMOTE\n",
        "\n",
        "X_ts = ts_data.iloc[:,0:14]  \n",
        "y_ts = ts_data.iloc[:,-1]\n",
        "\n",
        "sm = SMOTE(random_state = 2)\n",
        "X_train_res, y_train_res = sm.fit_resample(X_ts, y_ts)"
      ],
      "metadata": {
        "id": "3pA_U2rPwHEq"
      },
      "execution_count": 1194,
      "outputs": []
    },
    {
      "cell_type": "code",
      "source": [
        "new_df = X_train_res\n",
        "new_df['paid'] =  y_train_res.values"
      ],
      "metadata": {
        "id": "fnvA0L6mxege"
      },
      "execution_count": 1195,
      "outputs": []
    },
    {
      "cell_type": "code",
      "source": [
        "#find Q1, Q3, and interquartile range for each column\n",
        "Q1 = new_df.quantile(q=.25)\n",
        "Q3 = new_df.quantile(q=.75)\n",
        "IQR = new_df.apply(stats.iqr)\n",
        "\n",
        "#only keep rows in dataframe that have values within 1.5*IQR of Q1 and Q3\n",
        "data_clean =new_df[~((new_df < (Q1-1.5*IQR)) | (new_df > (Q3+1.5*IQR))).any(axis=1)]"
      ],
      "metadata": {
        "id": "gLgEprl2_vzR"
      },
      "execution_count": 1196,
      "outputs": []
    },
    {
      "cell_type": "code",
      "source": [
        "#Checking the Ranges of the predictor variables and dependent variable\n",
        "plt.figure(figsize=(20,7))\n",
        "sns.boxplot(data=data_clean)"
      ],
      "metadata": {
        "colab": {
          "base_uri": "https://localhost:8080/",
          "height": 445
        },
        "id": "SsrFy6nmCMBl",
        "outputId": "147672ca-9969-4850-fd9c-5c2c67235d1a"
      },
      "execution_count": 1197,
      "outputs": [
        {
          "output_type": "execute_result",
          "data": {
            "text/plain": [
              "<matplotlib.axes._subplots.AxesSubplot at 0x7f6248b8ba30>"
            ]
          },
          "metadata": {},
          "execution_count": 1197
        },
        {
          "output_type": "display_data",
          "data": {
            "text/plain": [
              "<Figure size 1440x504 with 1 Axes>"
            ],
            "image/png": "[encoded data removed]"
          },
          "metadata": {
            "needs_background": "light"
          }
        }
      ]
    },
    {
      "cell_type": "code",
      "source": [
        "data_clean"
      ],
      "metadata": {
        "colab": {
          "base_uri": "https://localhost:8080/",
          "height": 659
        },
        "id": "NLcOmHGf_zxF",
        "outputId": "2d8816e3-e40a-42b7-8f39-b93623844f2e"
      },
      "execution_count": 1198,
      "outputs": [
        {
          "output_type": "execute_result",
          "data": {
            "text/plain": [
              "          rank     title  total ratings  installs  average rating  \\\n",
              "52    0.525253  0.223417       0.016959  0.750000             1.0   \n",
              "54    0.545455  0.439665       0.016520  0.250000             1.0   \n",
              "55    0.555556  0.605735       0.015812  0.250000             1.0   \n",
              "56    0.565657  0.689964       0.015210  0.250000             1.0   \n",
              "57    0.575758  0.396057       0.014708  0.750000             1.0   \n",
              "...        ...       ...            ...       ...             ...   \n",
              "3441  0.686985  0.255419       0.002117  0.000000             1.0   \n",
              "3442  0.574892  0.686416       0.000607  0.732333             1.0   \n",
              "3443  0.475450  0.243284       0.000845  0.028261             1.0   \n",
              "3444  0.457002  0.293049       0.000863  0.118063             1.0   \n",
              "3445  0.598810  0.698717       0.001241  1.000000             1.0   \n",
              "\n",
              "      growth (30 days)  growth (60 days)     price  category  5 star ratings  \\\n",
              "52        4.403236e-07          0.000003  0.000000  0.000000        0.017036   \n",
              "54        5.283883e-06          0.000039  0.000000  0.000000        0.016957   \n",
              "55        3.962912e-06          0.000027  0.000000  0.000000        0.016054   \n",
              "56        7.485501e-06          0.000053  0.000000  0.000000        0.015958   \n",
              "57        5.283883e-06          0.000036  0.000000  0.000000        0.014647   \n",
              "...                ...               ...       ...       ...             ...   \n",
              "3441      1.665821e-03          0.000050  0.196118  0.597701        0.002277   \n",
              "3442      3.200125e-06          0.000021  0.265688  0.820396        0.000805   \n",
              "3443      2.582757e-04          0.000030  0.260657  0.500000        0.001108   \n",
              "3444      3.470603e-06          0.000024  0.265688  0.551653        0.001118   \n",
              "3445      6.888139e-07          0.000003  0.386641  0.314663        0.001409   \n",
              "\n",
              "      4 star ratings  3 star ratings  2 star ratings  1 star ratings  paid  \n",
              "52          0.032787        0.025228        0.014003        0.008696   0.0  \n",
              "54          0.026599        0.024296        0.017288        0.008422   0.0  \n",
              "55          0.024355        0.021143        0.015678        0.010173   0.0  \n",
              "56          0.016441        0.018202        0.017564        0.010346   0.0  \n",
              "57          0.024662        0.021755        0.015388        0.009469   0.0  \n",
              "...              ...             ...             ...             ...   ...  \n",
              "3441        0.003777        0.003093        0.002597        0.001386   1.0  \n",
              "3442        0.001850        0.000926        0.000496        0.000181   1.0  \n",
              "3443        0.001629        0.001142        0.000738        0.000282   1.0  \n",
              "3444        0.001772        0.001186        0.000744        0.000283   1.0  \n",
              "3445        0.004028        0.001559        0.001147        0.000277   1.0  \n",
              "\n",
              "[2158 rows x 15 columns]"
            ],
            "text/html": [
              "\n",
              "  <div id=\"df-e6c38a43-eb4b-404a-a0a7-a79e134ae07e\">\n",
              "    <div class=\"colab-df-container\">\n",
              "      <div>\n",
              "<style scoped>\n",
              "    .dataframe tbody tr th:only-of-type {\n",
              "        vertical-align: middle;\n",
              "    }\n",
              "\n",
              "    .dataframe tbody tr th {\n",
              "        vertical-align: top;\n",
              "    }\n",
              "\n",
              "    .dataframe thead th {\n",
              "        text-align: right;\n",
              "    }\n",
              "</style>\n",
              "<table border=\"1\" class=\"dataframe\">\n",
              "  <thead>\n",
              "    <tr style=\"text-align: right;\">\n",
              "      <th></th>\n",
              "      <th>rank</th>\n",
              "      <th>title</th>\n",
              "      <th>total ratings</th>\n",
              "      <th>installs</th>\n",
              "      <th>average rating</th>\n",
              "      <th>growth (30 days)</th>\n",
              "      <th>growth (60 days)</th>\n",
              "      <th>price</th>\n",
              "      <th>category</th>\n",
              "      <th>5 star ratings</th>\n",
              "      <th>4 star ratings</th>\n",
              "      <th>3 star ratings</th>\n",
              "      <th>2 star ratings</th>\n",
              "      <th>1 star ratings</th>\n",
              "      <th>paid</th>\n",
              "    </tr>\n",
              "  </thead>\n",
              "  <tbody>\n",
              "    <tr>\n",
              "      <th>52</th>\n",
              "      <td>0.525253</td>\n",
              "      <td>0.223417</td>\n",
              "      <td>0.016959</td>\n",
              "      <td>0.750000</td>\n",
              "      <td>1.0</td>\n",
              "      <td>4.403236e-07</td>\n",
              "      <td>0.000003</td>\n",
              "      <td>0.000000</td>\n",
              "      <td>0.000000</td>\n",
              "      <td>0.017036</td>\n",
              "      <td>0.032787</td>\n",
              "      <td>0.025228</td>\n",
              "      <td>0.014003</td>\n",
              "      <td>0.008696</td>\n",
              "      <td>0.0</td>\n",
              "    </tr>\n",
              "    <tr>\n",
              "      <th>54</th>\n",
              "      <td>0.545455</td>\n",
              "      <td>0.439665</td>\n",
              "      <td>0.016520</td>\n",
              "      <td>0.250000</td>\n",
              "      <td>1.0</td>\n",
              "      <td>5.283883e-06</td>\n",
              "      <td>0.000039</td>\n",
              "      <td>0.000000</td>\n",
              "      <td>0.000000</td>\n",
              "      <td>0.016957</td>\n",
              "      <td>0.026599</td>\n",
              "      <td>0.024296</td>\n",
              "      <td>0.017288</td>\n",
              "      <td>0.008422</td>\n",
              "      <td>0.0</td>\n",
              "    </tr>\n",
              "    <tr>\n",
              "      <th>55</th>\n",
              "      <td>0.555556</td>\n",
              "      <td>0.605735</td>\n",
              "      <td>0.015812</td>\n",
              "      <td>0.250000</td>\n",
              "      <td>1.0</td>\n",
              "      <td>3.962912e-06</td>\n",
              "      <td>0.000027</td>\n",
              "      <td>0.000000</td>\n",
              "      <td>0.000000</td>\n",
              "      <td>0.016054</td>\n",
              "      <td>0.024355</td>\n",
              "      <td>0.021143</td>\n",
              "      <td>0.015678</td>\n",
              "      <td>0.010173</td>\n",
              "      <td>0.0</td>\n",
              "    </tr>\n",
              "    <tr>\n",
              "      <th>56</th>\n",
              "      <td>0.565657</td>\n",
              "      <td>0.689964</td>\n",
              "      <td>0.015210</td>\n",
              "      <td>0.250000</td>\n",
              "      <td>1.0</td>\n",
              "      <td>7.485501e-06</td>\n",
              "      <td>0.000053</td>\n",
              "      <td>0.000000</td>\n",
              "      <td>0.000000</td>\n",
              "      <td>0.015958</td>\n",
              "      <td>0.016441</td>\n",
              "      <td>0.018202</td>\n",
              "      <td>0.017564</td>\n",
              "      <td>0.010346</td>\n",
              "      <td>0.0</td>\n",
              "    </tr>\n",
              "    <tr>\n",
              "      <th>57</th>\n",
              "      <td>0.575758</td>\n",
              "      <td>0.396057</td>\n",
              "      <td>0.014708</td>\n",
              "      <td>0.750000</td>\n",
              "      <td>1.0</td>\n",
              "      <td>5.283883e-06</td>\n",
              "      <td>0.000036</td>\n",
              "      <td>0.000000</td>\n",
              "      <td>0.000000</td>\n",
              "      <td>0.014647</td>\n",
              "      <td>0.024662</td>\n",
              "      <td>0.021755</td>\n",
              "      <td>0.015388</td>\n",
              "      <td>0.009469</td>\n",
              "      <td>0.0</td>\n",
              "    </tr>\n",
              "    <tr>\n",
              "      <th>...</th>\n",
              "      <td>...</td>\n",
              "      <td>...</td>\n",
              "      <td>...</td>\n",
              "      <td>...</td>\n",
              "      <td>...</td>\n",
              "      <td>...</td>\n",
              "      <td>...</td>\n",
              "      <td>...</td>\n",
              "      <td>...</td>\n",
              "      <td>...</td>\n",
              "      <td>...</td>\n",
              "      <td>...</td>\n",
              "      <td>...</td>\n",
              "      <td>...</td>\n",
              "      <td>...</td>\n",
              "    </tr>\n",
              "    <tr>\n",
              "      <th>3441</th>\n",
              "      <td>0.686985</td>\n",
              "      <td>0.255419</td>\n",
              "      <td>0.002117</td>\n",
              "      <td>0.000000</td>\n",
              "      <td>1.0</td>\n",
              "      <td>1.665821e-03</td>\n",
              "      <td>0.000050</td>\n",
              "      <td>0.196118</td>\n",
              "      <td>0.597701</td>\n",
              "      <td>0.002277</td>\n",
              "      <td>0.003777</td>\n",
              "      <td>0.003093</td>\n",
              "      <td>0.002597</td>\n",
              "      <td>0.001386</td>\n",
              "      <td>1.0</td>\n",
              "    </tr>\n",
              "    <tr>\n",
              "      <th>3442</th>\n",
              "      <td>0.574892</td>\n",
              "      <td>0.686416</td>\n",
              "      <td>0.000607</td>\n",
              "      <td>0.732333</td>\n",
              "      <td>1.0</td>\n",
              "      <td>3.200125e-06</td>\n",
              "      <td>0.000021</td>\n",
              "      <td>0.265688</td>\n",
              "      <td>0.820396</td>\n",
              "      <td>0.000805</td>\n",
              "      <td>0.001850</td>\n",
              "      <td>0.000926</td>\n",
              "      <td>0.000496</td>\n",
              "      <td>0.000181</td>\n",
              "      <td>1.0</td>\n",
              "    </tr>\n",
              "    <tr>\n",
              "      <th>3443</th>\n",
              "      <td>0.475450</td>\n",
              "      <td>0.243284</td>\n",
              "      <td>0.000845</td>\n",
              "      <td>0.028261</td>\n",
              "      <td>1.0</td>\n",
              "      <td>2.582757e-04</td>\n",
              "      <td>0.000030</td>\n",
              "      <td>0.260657</td>\n",
              "      <td>0.500000</td>\n",
              "      <td>0.001108</td>\n",
              "      <td>0.001629</td>\n",
              "      <td>0.001142</td>\n",
              "      <td>0.000738</td>\n",
              "      <td>0.000282</td>\n",
              "      <td>1.0</td>\n",
              "    </tr>\n",
              "    <tr>\n",
              "      <th>3444</th>\n",
              "      <td>0.457002</td>\n",
              "      <td>0.293049</td>\n",
              "      <td>0.000863</td>\n",
              "      <td>0.118063</td>\n",
              "      <td>1.0</td>\n",
              "      <td>3.470603e-06</td>\n",
              "      <td>0.000024</td>\n",
              "      <td>0.265688</td>\n",
              "      <td>0.551653</td>\n",
              "      <td>0.001118</td>\n",
              "      <td>0.001772</td>\n",
              "      <td>0.001186</td>\n",
              "      <td>0.000744</td>\n",
              "      <td>0.000283</td>\n",
              "      <td>1.0</td>\n",
              "    </tr>\n",
              "    <tr>\n",
              "      <th>3445</th>\n",
              "      <td>0.598810</td>\n",
              "      <td>0.698717</td>\n",
              "      <td>0.001241</td>\n",
              "      <td>1.000000</td>\n",
              "      <td>1.0</td>\n",
              "      <td>6.888139e-07</td>\n",
              "      <td>0.000003</td>\n",
              "      <td>0.386641</td>\n",
              "      <td>0.314663</td>\n",
              "      <td>0.001409</td>\n",
              "      <td>0.004028</td>\n",
              "      <td>0.001559</td>\n",
              "      <td>0.001147</td>\n",
              "      <td>0.000277</td>\n",
              "      <td>1.0</td>\n",
              "    </tr>\n",
              "  </tbody>\n",
              "</table>\n",
              "<p>2158 rows × 15 columns</p>\n",
              "</div>\n",
              "      <button class=\"colab-df-convert\" onclick=\"convertToInteractive('df-e6c38a43-eb4b-404a-a0a7-a79e134ae07e')\"\n",
              "              title=\"Convert this dataframe to an interactive table.\"\n",
              "              style=\"display:none;\">\n",
              "        \n",
              "  <svg xmlns=\"http://www.w3.org/2000/svg\" height=\"24px\"viewBox=\"0 0 24 24\"\n",
              "       width=\"24px\">\n",
              "    <path d=\"M0 0h24v24H0V0z\" fill=\"none\"/>\n",
              "    <path d=\"M18.56 5.44l.94 2.06.94-2.06 2.06-.94-2.06-.94-.94-2.06-.94 2.06-2.06.94zm-11 1L8.5 8.5l.94-2.06 2.06-.94-2.06-.94L8.5 2.5l-.94 2.06-2.06.94zm10 10l.94 2.06.94-2.06 2.06-.94-2.06-.94-.94-2.06-.94 2.06-2.06.94z\"/><path d=\"M17.41 7.96l-1.37-1.37c-.4-.4-.92-.59-1.43-.59-.52 0-1.04.2-1.43.59L10.3 9.45l-7.72 7.72c-.78.78-.78 2.05 0 2.83L4 21.41c.39.39.9.59 1.41.59.51 0 1.02-.2 1.41-.59l7.78-7.78 2.81-2.81c.8-.78.8-2.07 0-2.86zM5.41 20L4 18.59l7.72-7.72 1.47 1.35L5.41 20z\"/>\n",
              "  </svg>\n",
              "      </button>\n",
              "      \n",
              "  <style>\n",
              "    .colab-df-container {\n",
              "      display:flex;\n",
              "      flex-wrap:wrap;\n",
              "      gap: 12px;\n",
              "    }\n",
              "\n",
              "    .colab-df-convert {\n",
              "      background-color: #E8F0FE;\n",
              "      border: none;\n",
              "      border-radius: 50%;\n",
              "      cursor: pointer;\n",
              "      display: none;\n",
              "      fill: #1967D2;\n",
              "      height: 32px;\n",
              "      padding: 0 0 0 0;\n",
              "      width: 32px;\n",
              "    }\n",
              "\n",
              "    .colab-df-convert:hover {\n",
              "      background-color: #E2EBFA;\n",
              "      box-shadow: 0px 1px 2px rgba(60, 64, 67, 0.3), 0px 1px 3px 1px rgba(60, 64, 67, 0.15);\n",
              "      fill: #174EA6;\n",
              "    }\n",
              "\n",
              "    [theme=dark] .colab-df-convert {\n",
              "      background-color: #3B4455;\n",
              "      fill: #D2E3FC;\n",
              "    }\n",
              "\n",
              "    [theme=dark] .colab-df-convert:hover {\n",
              "      background-color: #434B5C;\n",
              "      box-shadow: 0px 1px 3px 1px rgba(0, 0, 0, 0.15);\n",
              "      filter: drop-shadow(0px 1px 2px rgba(0, 0, 0, 0.3));\n",
              "      fill: #FFFFFF;\n",
              "    }\n",
              "  </style>\n",
              "\n",
              "      <script>\n",
              "        const buttonEl =\n",
              "          document.querySelector('#df-e6c38a43-eb4b-404a-a0a7-a79e134ae07e button.colab-df-convert');\n",
              "        buttonEl.style.display =\n",
              "          google.colab.kernel.accessAllowed ? 'block' : 'none';\n",
              "\n",
              "        async function convertToInteractive(key) {\n",
              "          const element = document.querySelector('#df-e6c38a43-eb4b-404a-a0a7-a79e134ae07e');\n",
              "          const dataTable =\n",
              "            await google.colab.kernel.invokeFunction('convertToInteractive',\n",
              "                                                     [key], {});\n",
              "          if (!dataTable) return;\n",
              "\n",
              "          const docLinkHtml = 'Like what you see? Visit the ' +\n",
              "            '<a target=\"_blank\" href=https://colab.research.google.com/notebooks/data_table.ipynb>data table notebook</a>'\n",
              "            + ' to learn more about interactive tables.';\n",
              "          element.innerHTML = '';\n",
              "          dataTable['output_type'] = 'display_data';\n",
              "          await google.colab.output.renderOutput(dataTable, element);\n",
              "          const docLink = document.createElement('div');\n",
              "          docLink.innerHTML = docLinkHtml;\n",
              "          element.appendChild(docLink);\n",
              "        }\n",
              "      </script>\n",
              "    </div>\n",
              "  </div>\n",
              "  "
            ]
          },
          "metadata": {},
          "execution_count": 1198
        }
      ]
    },
    {
      "cell_type": "code",
      "source": [
        "X_ts = data_clean.iloc[:,0:14]  \n",
        "y_ts = data_clean.iloc[:,-1]"
      ],
      "metadata": {
        "id": "KHTDlf3CCOAC"
      },
      "execution_count": 1199,
      "outputs": []
    },
    {
      "cell_type": "code",
      "source": [
        "ts_data_clean = data_clean"
      ],
      "metadata": {
        "id": "3fkGs2UqJLp6"
      },
      "execution_count": 1200,
      "outputs": []
    },
    {
      "cell_type": "code",
      "source": [
        "X_train, X_test, y_train, y_test = train_test_split(ts_data_clean.iloc[:,0:14] , ts_data_clean.iloc[:,-1] , test_size=0.15, random_state=1)"
      ],
      "metadata": {
        "id": "x8m1FjeoJRQV"
      },
      "execution_count": 1201,
      "outputs": []
    },
    {
      "cell_type": "code",
      "source": [
        "X_train_O, X_test_O, y_train_O, y_test_O = train_test_split(new_df.iloc[:,0:14] , new_df.iloc[:,-1] , test_size=0.15, random_state=1)"
      ],
      "metadata": {
        "id": "7lLB3WnJy9mB"
      },
      "execution_count": 1202,
      "outputs": []
    },
    {
      "cell_type": "markdown",
      "source": [
        "#To check the effect on final predictive model?\n",
        "\n"
      ],
      "metadata": {
        "id": "jzLFr8pWJa7F"
      }
    },
    {
      "cell_type": "code",
      "source": [
        "from sklearn.metrics import r2_score, mean_squared_error \n",
        "from sklearn.linear_model import LinearRegression\n",
        "from sklearn import datasets, linear_model\n",
        "\n",
        "# Create linear regression object\n",
        "regr = linear_model.LinearRegression()\n",
        "\n",
        "# Train the model using the training sets\n",
        "regr.fit(X_train,y_train)"
      ],
      "metadata": {
        "colab": {
          "base_uri": "https://localhost:8080/"
        },
        "id": "s3ZJKPkEJVib",
        "outputId": "5537d4a1-43d4-4daa-9ff8-15451bc177e2"
      },
      "execution_count": 1203,
      "outputs": [
        {
          "output_type": "execute_result",
          "data": {
            "text/plain": [
              "LinearRegression()"
            ]
          },
          "metadata": {},
          "execution_count": 1203
        }
      ]
    },
    {
      "cell_type": "code",
      "source": [
        "# Make predictions using the training set\n",
        "y_pred = regr.predict(X_train)\n",
        "# The mean squared error\n",
        "print('Mean squared error: %.2f'% mean_squared_error(y_train, y_pred))\n",
        "# The coefficient of determination: 1 is perfect prediction\n",
        "print('Coefficient of determination: %.2f'% r2_score(y_train, y_pred))\n",
        "r2 = r2_score(y_train,y_pred)\n",
        "print('R^2 score on tarining set =',r2)"
      ],
      "metadata": {
        "colab": {
          "base_uri": "https://localhost:8080/"
        },
        "id": "K1bq0I1EJd2z",
        "outputId": "853f61e5-7810-41fd-9642-193ba9f0ee99"
      },
      "execution_count": 1204,
      "outputs": [
        {
          "output_type": "stream",
          "name": "stdout",
          "text": [
            "Mean squared error: 0.01\n",
            "Coefficient of determination: 0.94\n",
            "R^2 score on tarining set = 0.9446108739116714\n"
          ]
        }
      ]
    },
    {
      "cell_type": "code",
      "source": [
        "# Make predictions using the testing set\n",
        "y_pred = regr.predict(X_test)\n",
        "# The mean squared error\n",
        "print('Mean squared error: %.2f'% mean_squared_error(y_test, y_pred))\n",
        "# The coefficient of determination: 1 is perfect prediction\n",
        "print('Coefficient of determination: %.2f'% r2_score(y_test, y_pred))\n",
        "r2 = r2_score(y_test,y_pred)\n",
        "print('R^2 score on test set =',r2)"
      ],
      "metadata": {
        "colab": {
          "base_uri": "https://localhost:8080/"
        },
        "id": "YwklFCnaJirw",
        "outputId": "7fe14be8-5e83-4204-c763-c7af54b853e1"
      },
      "execution_count": 1205,
      "outputs": [
        {
          "output_type": "stream",
          "name": "stdout",
          "text": [
            "Mean squared error: 0.02\n",
            "Coefficient of determination: 0.92\n",
            "R^2 score on test set = 0.9237378654384015\n"
          ]
        }
      ]
    },
    {
      "cell_type": "code",
      "source": [
        "#withoutliers\n",
        "from sklearn.metrics import r2_score, mean_squared_error \n",
        "from sklearn.linear_model import LinearRegression\n",
        "from sklearn import datasets, linear_model\n",
        "\n",
        "# Create linear regression object\n",
        "regr = linear_model.LinearRegression()\n",
        "\n",
        "# Train the model using the training sets\n",
        "regr.fit(X_train_O,y_train_O)\n"
      ],
      "metadata": {
        "colab": {
          "base_uri": "https://localhost:8080/"
        },
        "id": "j5QJQPljJdoP",
        "outputId": "cf5093e7-c2eb-4306-ceae-66da2329ea42"
      },
      "execution_count": 1206,
      "outputs": [
        {
          "output_type": "execute_result",
          "data": {
            "text/plain": [
              "LinearRegression()"
            ]
          },
          "metadata": {},
          "execution_count": 1206
        }
      ]
    },
    {
      "cell_type": "code",
      "source": [
        "# Make predictions using the training set\n",
        "y_pred = regr.predict(X_train_O)\n",
        "# The mean squared error\n",
        "print('Mean squared error: %.2f'% mean_squared_error(y_train_O, y_pred))\n",
        "# The coefficient of determination: 1 is perfect prediction\n",
        "print('Coefficient of determination: %.2f'% r2_score(y_train_O, y_pred))\n",
        "r2 = r2_score(y_train_O,y_pred)\n",
        "print('R^2 score on tarining set =',r2)"
      ],
      "metadata": {
        "colab": {
          "base_uri": "https://localhost:8080/"
        },
        "id": "ozBCqiH-J3NW",
        "outputId": "fdad38b0-2b53-4ade-edfe-17a85dc58873"
      },
      "execution_count": 1207,
      "outputs": [
        {
          "output_type": "stream",
          "name": "stdout",
          "text": [
            "Mean squared error: 0.06\n",
            "Coefficient of determination: 0.75\n",
            "R^2 score on tarining set = 0.7517543933831683\n"
          ]
        }
      ]
    },
    {
      "cell_type": "code",
      "source": [
        "# Make predictions using the testing set\n",
        "y_pred = regr.predict(X_test_O)\n",
        "# The mean squared error\n",
        "print('Mean squared error: %.2f'% mean_squared_error(y_test_O, y_pred))\n",
        "# The coefficient of determination: 1 is perfect prediction\n",
        "print('Coefficient of determination: %.2f'% r2_score(y_test_O, y_pred))\n",
        "r2 = r2_score(y_test_O,y_pred)\n",
        "print('R^2 score on test set =',r2)"
      ],
      "metadata": {
        "colab": {
          "base_uri": "https://localhost:8080/"
        },
        "id": "yTsEUP7eJ8YM",
        "outputId": "f41fd1eb-5d71-4dc1-b246-4b8d505c679c"
      },
      "execution_count": 1208,
      "outputs": [
        {
          "output_type": "stream",
          "name": "stdout",
          "text": [
            "Mean squared error: 0.09\n",
            "Coefficient of determination: 0.64\n",
            "R^2 score on test set = 0.6403691550962022\n"
          ]
        }
      ]
    },
    {
      "cell_type": "markdown",
      "source": [
        "#Which predictor variables are the most important?\n"
      ],
      "metadata": {
        "id": "tu8DFrXAKWTm"
      }
    },
    {
      "cell_type": "code",
      "source": [
        "!pip install eli5"
      ],
      "metadata": {
        "colab": {
          "base_uri": "https://localhost:8080/"
        },
        "id": "CUIzU2-_zxhM",
        "outputId": "34619789-6a87-4127-8330-fd8b1e7de6e7"
      },
      "execution_count": 1209,
      "outputs": [
        {
          "output_type": "stream",
          "name": "stdout",
          "text": [
            "Looking in indexes: https://pypi.org/simple, https://us-python.pkg.dev/colab-wheels/public/simple/\n",
            "Requirement already satisfied: eli5 in /usr/local/lib/python3.8/dist-packages (0.13.0)\n",
            "Requirement already satisfied: scikit-learn>=0.20 in /usr/local/lib/python3.8/dist-packages (from eli5) (1.0.2)\n",
            "Requirement already satisfied: tabulate>=0.7.7 in /usr/local/lib/python3.8/dist-packages (from eli5) (0.8.10)\n",
            "Requirement already satisfied: attrs>17.1.0 in /usr/local/lib/python3.8/dist-packages (from eli5) (22.2.0)\n",
            "Requirement already satisfied: scipy in /usr/local/lib/python3.8/dist-packages (from eli5) (1.7.3)\n",
            "Requirement already satisfied: six in /usr/local/lib/python3.8/dist-packages (from eli5) (1.15.0)\n",
            "Requirement already satisfied: jinja2>=3.0.0 in /usr/local/lib/python3.8/dist-packages (from eli5) (3.1.2)\n",
            "Requirement already satisfied: graphviz in /usr/local/lib/python3.8/dist-packages (from eli5) (0.10.1)\n",
            "Requirement already satisfied: numpy>=1.9.0 in /usr/local/lib/python3.8/dist-packages (from eli5) (1.21.6)\n",
            "Requirement already satisfied: MarkupSafe>=2.0 in /usr/local/lib/python3.8/dist-packages (from jinja2>=3.0.0->eli5) (2.0.1)\n",
            "Requirement already satisfied: threadpoolctl>=2.0.0 in /usr/local/lib/python3.8/dist-packages (from scikit-learn>=0.20->eli5) (3.1.0)\n",
            "Requirement already satisfied: joblib>=0.11 in /usr/local/lib/python3.8/dist-packages (from scikit-learn>=0.20->eli5) (1.2.0)\n"
          ]
        }
      ]
    },
    {
      "cell_type": "code",
      "source": [
        "\n",
        "#Important features \n",
        "import eli5\n",
        "from eli5.sklearn import PermutationImportance\n",
        "perm = PermutationImportance(regr, random_state=1).fit(X_test, y_test)\n",
        "eli5.show_weights(perm, feature_names = X_test.columns.tolist())"
      ],
      "metadata": {
        "colab": {
          "base_uri": "https://localhost:8080/",
          "height": 277
        },
        "id": "V6Y3kKfzKX_a",
        "outputId": "c8cd11ba-a80f-4177-d5c7-02489f7e0956"
      },
      "execution_count": 1210,
      "outputs": [
        {
          "output_type": "execute_result",
          "data": {
            "text/plain": [
              "<IPython.core.display.HTML object>"
            ],
            "text/html": [
              "\n",
              "    <style>\n",
              "    table.eli5-weights tr:hover {\n",
              "        filter: brightness(85%);\n",
              "    }\n",
              "</style>\n",
              "\n",
              "\n",
              "\n",
              "    \n",
              "\n",
              "    \n",
              "\n",
              "    \n",
              "\n",
              "    \n",
              "\n",
              "    \n",
              "\n",
              "    \n",
              "\n",
              "\n",
              "    \n",
              "\n",
              "    \n",
              "\n",
              "    \n",
              "\n",
              "    \n",
              "\n",
              "    \n",
              "\n",
              "    \n",
              "\n",
              "\n",
              "    \n",
              "\n",
              "    \n",
              "\n",
              "    \n",
              "\n",
              "    \n",
              "\n",
              "    \n",
              "        <table class=\"eli5-weights eli5-feature-importances\" style=\"border-collapse: collapse; border: none; margin-top: 0em; table-layout: auto;\">\n",
              "    <thead>\n",
              "    <tr style=\"border: none;\">\n",
              "        <th style=\"padding: 0 1em 0 0.5em; text-align: right; border: none;\">Weight</th>\n",
              "        <th style=\"padding: 0 0.5em 0 0.5em; text-align: left; border: none;\">Feature</th>\n",
              "    </tr>\n",
              "    </thead>\n",
              "    <tbody>\n",
              "    \n",
              "        <tr style=\"background-color: hsl(120, 100.00%, 80.00%); border: none;\">\n",
              "            <td style=\"padding: 0 1em 0 0.5em; text-align: right; border: none;\">\n",
              "                1.3179\n",
              "                \n",
              "                    &plusmn; 0.1081\n",
              "                \n",
              "            </td>\n",
              "            <td style=\"padding: 0 0.5em 0 0.5em; text-align: left; border: none;\">\n",
              "                price\n",
              "            </td>\n",
              "        </tr>\n",
              "    \n",
              "        <tr style=\"background-color: hsl(120, 100.00%, 98.04%); border: none;\">\n",
              "            <td style=\"padding: 0 1em 0 0.5em; text-align: right; border: none;\">\n",
              "                0.0478\n",
              "                \n",
              "                    &plusmn; 0.0128\n",
              "                \n",
              "            </td>\n",
              "            <td style=\"padding: 0 0.5em 0 0.5em; text-align: left; border: none;\">\n",
              "                5 star ratings\n",
              "            </td>\n",
              "        </tr>\n",
              "    \n",
              "        <tr style=\"background-color: hsl(120, 100.00%, 98.34%); border: none;\">\n",
              "            <td style=\"padding: 0 1em 0 0.5em; text-align: right; border: none;\">\n",
              "                0.0377\n",
              "                \n",
              "                    &plusmn; 0.0096\n",
              "                \n",
              "            </td>\n",
              "            <td style=\"padding: 0 0.5em 0 0.5em; text-align: left; border: none;\">\n",
              "                3 star ratings\n",
              "            </td>\n",
              "        </tr>\n",
              "    \n",
              "        <tr style=\"background-color: hsl(120, 100.00%, 98.48%); border: none;\">\n",
              "            <td style=\"padding: 0 1em 0 0.5em; text-align: right; border: none;\">\n",
              "                0.0333\n",
              "                \n",
              "                    &plusmn; 0.0337\n",
              "                \n",
              "            </td>\n",
              "            <td style=\"padding: 0 0.5em 0 0.5em; text-align: left; border: none;\">\n",
              "                rank\n",
              "            </td>\n",
              "        </tr>\n",
              "    \n",
              "        <tr style=\"background-color: hsl(120, 100.00%, 98.61%); border: none;\">\n",
              "            <td style=\"padding: 0 1em 0 0.5em; text-align: right; border: none;\">\n",
              "                0.0291\n",
              "                \n",
              "                    &plusmn; 0.0156\n",
              "                \n",
              "            </td>\n",
              "            <td style=\"padding: 0 0.5em 0 0.5em; text-align: left; border: none;\">\n",
              "                title\n",
              "            </td>\n",
              "        </tr>\n",
              "    \n",
              "        <tr style=\"background-color: hsl(120, 100.00%, 99.17%); border: none;\">\n",
              "            <td style=\"padding: 0 1em 0 0.5em; text-align: right; border: none;\">\n",
              "                0.0140\n",
              "                \n",
              "                    &plusmn; 0.0031\n",
              "                \n",
              "            </td>\n",
              "            <td style=\"padding: 0 0.5em 0 0.5em; text-align: left; border: none;\">\n",
              "                4 star ratings\n",
              "            </td>\n",
              "        </tr>\n",
              "    \n",
              "        <tr style=\"background-color: hsl(120, 100.00%, 99.82%); border: none;\">\n",
              "            <td style=\"padding: 0 1em 0 0.5em; text-align: right; border: none;\">\n",
              "                0.0015\n",
              "                \n",
              "                    &plusmn; 0.0051\n",
              "                \n",
              "            </td>\n",
              "            <td style=\"padding: 0 0.5em 0 0.5em; text-align: left; border: none;\">\n",
              "                total ratings\n",
              "            </td>\n",
              "        </tr>\n",
              "    \n",
              "        <tr style=\"background-color: hsl(120, 100.00%, 99.88%); border: none;\">\n",
              "            <td style=\"padding: 0 1em 0 0.5em; text-align: right; border: none;\">\n",
              "                0.0009\n",
              "                \n",
              "                    &plusmn; 0.0034\n",
              "                \n",
              "            </td>\n",
              "            <td style=\"padding: 0 0.5em 0 0.5em; text-align: left; border: none;\">\n",
              "                installs\n",
              "            </td>\n",
              "        </tr>\n",
              "    \n",
              "        <tr style=\"background-color: hsl(120, 100.00%, 99.91%); border: none;\">\n",
              "            <td style=\"padding: 0 1em 0 0.5em; text-align: right; border: none;\">\n",
              "                0.0006\n",
              "                \n",
              "                    &plusmn; 0.0001\n",
              "                \n",
              "            </td>\n",
              "            <td style=\"padding: 0 0.5em 0 0.5em; text-align: left; border: none;\">\n",
              "                growth (30 days)\n",
              "            </td>\n",
              "        </tr>\n",
              "    \n",
              "        <tr style=\"background-color: hsl(0, 100.00%, 100.00%); border: none;\">\n",
              "            <td style=\"padding: 0 1em 0 0.5em; text-align: right; border: none;\">\n",
              "                -0.0000\n",
              "                \n",
              "                    &plusmn; 0.0000\n",
              "                \n",
              "            </td>\n",
              "            <td style=\"padding: 0 0.5em 0 0.5em; text-align: left; border: none;\">\n",
              "                average rating\n",
              "            </td>\n",
              "        </tr>\n",
              "    \n",
              "        <tr style=\"background-color: hsl(0, 100.00%, 100.00%); border: none;\">\n",
              "            <td style=\"padding: 0 1em 0 0.5em; text-align: right; border: none;\">\n",
              "                -0.0000\n",
              "                \n",
              "                    &plusmn; 0.0000\n",
              "                \n",
              "            </td>\n",
              "            <td style=\"padding: 0 0.5em 0 0.5em; text-align: left; border: none;\">\n",
              "                growth (60 days)\n",
              "            </td>\n",
              "        </tr>\n",
              "    \n",
              "        <tr style=\"background-color: hsl(0, 100.00%, 99.60%); border: none;\">\n",
              "            <td style=\"padding: 0 1em 0 0.5em; text-align: right; border: none;\">\n",
              "                -0.0049\n",
              "                \n",
              "                    &plusmn; 0.0047\n",
              "                \n",
              "            </td>\n",
              "            <td style=\"padding: 0 0.5em 0 0.5em; text-align: left; border: none;\">\n",
              "                category\n",
              "            </td>\n",
              "        </tr>\n",
              "    \n",
              "        <tr style=\"background-color: hsl(0, 100.00%, 99.54%); border: none;\">\n",
              "            <td style=\"padding: 0 1em 0 0.5em; text-align: right; border: none;\">\n",
              "                -0.0060\n",
              "                \n",
              "                    &plusmn; 0.0053\n",
              "                \n",
              "            </td>\n",
              "            <td style=\"padding: 0 0.5em 0 0.5em; text-align: left; border: none;\">\n",
              "                2 star ratings\n",
              "            </td>\n",
              "        </tr>\n",
              "    \n",
              "        <tr style=\"background-color: hsl(0, 100.00%, 99.47%); border: none;\">\n",
              "            <td style=\"padding: 0 1em 0 0.5em; text-align: right; border: none;\">\n",
              "                -0.0074\n",
              "                \n",
              "                    &plusmn; 0.0068\n",
              "                \n",
              "            </td>\n",
              "            <td style=\"padding: 0 0.5em 0 0.5em; text-align: left; border: none;\">\n",
              "                1 star ratings\n",
              "            </td>\n",
              "        </tr>\n",
              "    \n",
              "    \n",
              "    </tbody>\n",
              "</table>\n",
              "    \n",
              "\n",
              "    \n",
              "\n",
              "\n",
              "    \n",
              "\n",
              "    \n",
              "\n",
              "    \n",
              "\n",
              "    \n",
              "\n",
              "    \n",
              "\n",
              "    \n",
              "\n",
              "\n",
              "\n"
            ]
          },
          "metadata": {},
          "execution_count": 1210
        }
      ]
    },
    {
      "cell_type": "markdown",
      "source": [
        "The star ratings seem to be the most important among the features."
      ],
      "metadata": {
        "id": "SRycYRF36AQD"
      }
    },
    {
      "cell_type": "code",
      "source": [
        "missing_tf_data_clean = []"
      ],
      "metadata": {
        "id": "of7e36J_HjS0"
      },
      "execution_count": 1211,
      "outputs": []
    },
    {
      "cell_type": "code",
      "source": [
        "missing_tf_data_clean = data_clean"
      ],
      "metadata": {
        "id": "VUW0ZkQ2KfHz"
      },
      "execution_count": 1212,
      "outputs": []
    },
    {
      "cell_type": "code",
      "source": [
        "data_clean"
      ],
      "metadata": {
        "colab": {
          "base_uri": "https://localhost:8080/",
          "height": 659
        },
        "id": "oA4cObdwDs1S",
        "outputId": "31bc3e7e-212a-4fd0-e7a8-18497f1aeaa7"
      },
      "execution_count": 1213,
      "outputs": [
        {
          "output_type": "execute_result",
          "data": {
            "text/plain": [
              "          rank     title  total ratings  installs  average rating  \\\n",
              "52    0.525253  0.223417       0.016959  0.750000             1.0   \n",
              "54    0.545455  0.439665       0.016520  0.250000             1.0   \n",
              "55    0.555556  0.605735       0.015812  0.250000             1.0   \n",
              "56    0.565657  0.689964       0.015210  0.250000             1.0   \n",
              "57    0.575758  0.396057       0.014708  0.750000             1.0   \n",
              "...        ...       ...            ...       ...             ...   \n",
              "3441  0.686985  0.255419       0.002117  0.000000             1.0   \n",
              "3442  0.574892  0.686416       0.000607  0.732333             1.0   \n",
              "3443  0.475450  0.243284       0.000845  0.028261             1.0   \n",
              "3444  0.457002  0.293049       0.000863  0.118063             1.0   \n",
              "3445  0.598810  0.698717       0.001241  1.000000             1.0   \n",
              "\n",
              "      growth (30 days)  growth (60 days)     price  category  5 star ratings  \\\n",
              "52        4.403236e-07          0.000003  0.000000  0.000000        0.017036   \n",
              "54        5.283883e-06          0.000039  0.000000  0.000000        0.016957   \n",
              "55        3.962912e-06          0.000027  0.000000  0.000000        0.016054   \n",
              "56        7.485501e-06          0.000053  0.000000  0.000000        0.015958   \n",
              "57        5.283883e-06          0.000036  0.000000  0.000000        0.014647   \n",
              "...                ...               ...       ...       ...             ...   \n",
              "3441      1.665821e-03          0.000050  0.196118  0.597701        0.002277   \n",
              "3442      3.200125e-06          0.000021  0.265688  0.820396        0.000805   \n",
              "3443      2.582757e-04          0.000030  0.260657  0.500000        0.001108   \n",
              "3444      3.470603e-06          0.000024  0.265688  0.551653        0.001118   \n",
              "3445      6.888139e-07          0.000003  0.386641  0.314663        0.001409   \n",
              "\n",
              "      4 star ratings  3 star ratings  2 star ratings  1 star ratings  paid  \n",
              "52          0.032787        0.025228        0.014003        0.008696   0.0  \n",
              "54          0.026599        0.024296        0.017288        0.008422   0.0  \n",
              "55          0.024355        0.021143        0.015678        0.010173   0.0  \n",
              "56          0.016441        0.018202        0.017564        0.010346   0.0  \n",
              "57          0.024662        0.021755        0.015388        0.009469   0.0  \n",
              "...              ...             ...             ...             ...   ...  \n",
              "3441        0.003777        0.003093        0.002597        0.001386   1.0  \n",
              "3442        0.001850        0.000926        0.000496        0.000181   1.0  \n",
              "3443        0.001629        0.001142        0.000738        0.000282   1.0  \n",
              "3444        0.001772        0.001186        0.000744        0.000283   1.0  \n",
              "3445        0.004028        0.001559        0.001147        0.000277   1.0  \n",
              "\n",
              "[2158 rows x 15 columns]"
            ],
            "text/html": [
              "\n",
              "  <div id=\"df-f0c6cc9d-6574-4215-aadb-d266d69dff17\">\n",
              "    <div class=\"colab-df-container\">\n",
              "      <div>\n",
              "<style scoped>\n",
              "    .dataframe tbody tr th:only-of-type {\n",
              "        vertical-align: middle;\n",
              "    }\n",
              "\n",
              "    .dataframe tbody tr th {\n",
              "        vertical-align: top;\n",
              "    }\n",
              "\n",
              "    .dataframe thead th {\n",
              "        text-align: right;\n",
              "    }\n",
              "</style>\n",
              "<table border=\"1\" class=\"dataframe\">\n",
              "  <thead>\n",
              "    <tr style=\"text-align: right;\">\n",
              "      <th></th>\n",
              "      <th>rank</th>\n",
              "      <th>title</th>\n",
              "      <th>total ratings</th>\n",
              "      <th>installs</th>\n",
              "      <th>average rating</th>\n",
              "      <th>growth (30 days)</th>\n",
              "      <th>growth (60 days)</th>\n",
              "      <th>price</th>\n",
              "      <th>category</th>\n",
              "      <th>5 star ratings</th>\n",
              "      <th>4 star ratings</th>\n",
              "      <th>3 star ratings</th>\n",
              "      <th>2 star ratings</th>\n",
              "      <th>1 star ratings</th>\n",
              "      <th>paid</th>\n",
              "    </tr>\n",
              "  </thead>\n",
              "  <tbody>\n",
              "    <tr>\n",
              "      <th>52</th>\n",
              "      <td>0.525253</td>\n",
              "      <td>0.223417</td>\n",
              "      <td>0.016959</td>\n",
              "      <td>0.750000</td>\n",
              "      <td>1.0</td>\n",
              "      <td>4.403236e-07</td>\n",
              "      <td>0.000003</td>\n",
              "      <td>0.000000</td>\n",
              "      <td>0.000000</td>\n",
              "      <td>0.017036</td>\n",
              "      <td>0.032787</td>\n",
              "      <td>0.025228</td>\n",
              "      <td>0.014003</td>\n",
              "      <td>0.008696</td>\n",
              "      <td>0.0</td>\n",
              "    </tr>\n",
              "    <tr>\n",
              "      <th>54</th>\n",
              "      <td>0.545455</td>\n",
              "      <td>0.439665</td>\n",
              "      <td>0.016520</td>\n",
              "      <td>0.250000</td>\n",
              "      <td>1.0</td>\n",
              "      <td>5.283883e-06</td>\n",
              "      <td>0.000039</td>\n",
              "      <td>0.000000</td>\n",
              "      <td>0.000000</td>\n",
              "      <td>0.016957</td>\n",
              "      <td>0.026599</td>\n",
              "      <td>0.024296</td>\n",
              "      <td>0.017288</td>\n",
              "      <td>0.008422</td>\n",
              "      <td>0.0</td>\n",
              "    </tr>\n",
              "    <tr>\n",
              "      <th>55</th>\n",
              "      <td>0.555556</td>\n",
              "      <td>0.605735</td>\n",
              "      <td>0.015812</td>\n",
              "      <td>0.250000</td>\n",
              "      <td>1.0</td>\n",
              "      <td>3.962912e-06</td>\n",
              "      <td>0.000027</td>\n",
              "      <td>0.000000</td>\n",
              "      <td>0.000000</td>\n",
              "      <td>0.016054</td>\n",
              "      <td>0.024355</td>\n",
              "      <td>0.021143</td>\n",
              "      <td>0.015678</td>\n",
              "      <td>0.010173</td>\n",
              "      <td>0.0</td>\n",
              "    </tr>\n",
              "    <tr>\n",
              "      <th>56</th>\n",
              "      <td>0.565657</td>\n",
              "      <td>0.689964</td>\n",
              "      <td>0.015210</td>\n",
              "      <td>0.250000</td>\n",
              "      <td>1.0</td>\n",
              "      <td>7.485501e-06</td>\n",
              "      <td>0.000053</td>\n",
              "      <td>0.000000</td>\n",
              "      <td>0.000000</td>\n",
              "      <td>0.015958</td>\n",
              "      <td>0.016441</td>\n",
              "      <td>0.018202</td>\n",
              "      <td>0.017564</td>\n",
              "      <td>0.010346</td>\n",
              "      <td>0.0</td>\n",
              "    </tr>\n",
              "    <tr>\n",
              "      <th>57</th>\n",
              "      <td>0.575758</td>\n",
              "      <td>0.396057</td>\n",
              "      <td>0.014708</td>\n",
              "      <td>0.750000</td>\n",
              "      <td>1.0</td>\n",
              "      <td>5.283883e-06</td>\n",
              "      <td>0.000036</td>\n",
              "      <td>0.000000</td>\n",
              "      <td>0.000000</td>\n",
              "      <td>0.014647</td>\n",
              "      <td>0.024662</td>\n",
              "      <td>0.021755</td>\n",
              "      <td>0.015388</td>\n",
              "      <td>0.009469</td>\n",
              "      <td>0.0</td>\n",
              "    </tr>\n",
              "    <tr>\n",
              "      <th>...</th>\n",
              "      <td>...</td>\n",
              "      <td>...</td>\n",
              "      <td>...</td>\n",
              "      <td>...</td>\n",
              "      <td>...</td>\n",
              "      <td>...</td>\n",
              "      <td>...</td>\n",
              "      <td>...</td>\n",
              "      <td>...</td>\n",
              "      <td>...</td>\n",
              "      <td>...</td>\n",
              "      <td>...</td>\n",
              "      <td>...</td>\n",
              "      <td>...</td>\n",
              "      <td>...</td>\n",
              "    </tr>\n",
              "    <tr>\n",
              "      <th>3441</th>\n",
              "      <td>0.686985</td>\n",
              "      <td>0.255419</td>\n",
              "      <td>0.002117</td>\n",
              "      <td>0.000000</td>\n",
              "      <td>1.0</td>\n",
              "      <td>1.665821e-03</td>\n",
              "      <td>0.000050</td>\n",
              "      <td>0.196118</td>\n",
              "      <td>0.597701</td>\n",
              "      <td>0.002277</td>\n",
              "      <td>0.003777</td>\n",
              "      <td>0.003093</td>\n",
              "      <td>0.002597</td>\n",
              "      <td>0.001386</td>\n",
              "      <td>1.0</td>\n",
              "    </tr>\n",
              "    <tr>\n",
              "      <th>3442</th>\n",
              "      <td>0.574892</td>\n",
              "      <td>0.686416</td>\n",
              "      <td>0.000607</td>\n",
              "      <td>0.732333</td>\n",
              "      <td>1.0</td>\n",
              "      <td>3.200125e-06</td>\n",
              "      <td>0.000021</td>\n",
              "      <td>0.265688</td>\n",
              "      <td>0.820396</td>\n",
              "      <td>0.000805</td>\n",
              "      <td>0.001850</td>\n",
              "      <td>0.000926</td>\n",
              "      <td>0.000496</td>\n",
              "      <td>0.000181</td>\n",
              "      <td>1.0</td>\n",
              "    </tr>\n",
              "    <tr>\n",
              "      <th>3443</th>\n",
              "      <td>0.475450</td>\n",
              "      <td>0.243284</td>\n",
              "      <td>0.000845</td>\n",
              "      <td>0.028261</td>\n",
              "      <td>1.0</td>\n",
              "      <td>2.582757e-04</td>\n",
              "      <td>0.000030</td>\n",
              "      <td>0.260657</td>\n",
              "      <td>0.500000</td>\n",
              "      <td>0.001108</td>\n",
              "      <td>0.001629</td>\n",
              "      <td>0.001142</td>\n",
              "      <td>0.000738</td>\n",
              "      <td>0.000282</td>\n",
              "      <td>1.0</td>\n",
              "    </tr>\n",
              "    <tr>\n",
              "      <th>3444</th>\n",
              "      <td>0.457002</td>\n",
              "      <td>0.293049</td>\n",
              "      <td>0.000863</td>\n",
              "      <td>0.118063</td>\n",
              "      <td>1.0</td>\n",
              "      <td>3.470603e-06</td>\n",
              "      <td>0.000024</td>\n",
              "      <td>0.265688</td>\n",
              "      <td>0.551653</td>\n",
              "      <td>0.001118</td>\n",
              "      <td>0.001772</td>\n",
              "      <td>0.001186</td>\n",
              "      <td>0.000744</td>\n",
              "      <td>0.000283</td>\n",
              "      <td>1.0</td>\n",
              "    </tr>\n",
              "    <tr>\n",
              "      <th>3445</th>\n",
              "      <td>0.598810</td>\n",
              "      <td>0.698717</td>\n",
              "      <td>0.001241</td>\n",
              "      <td>1.000000</td>\n",
              "      <td>1.0</td>\n",
              "      <td>6.888139e-07</td>\n",
              "      <td>0.000003</td>\n",
              "      <td>0.386641</td>\n",
              "      <td>0.314663</td>\n",
              "      <td>0.001409</td>\n",
              "      <td>0.004028</td>\n",
              "      <td>0.001559</td>\n",
              "      <td>0.001147</td>\n",
              "      <td>0.000277</td>\n",
              "      <td>1.0</td>\n",
              "    </tr>\n",
              "  </tbody>\n",
              "</table>\n",
              "<p>2158 rows × 15 columns</p>\n",
              "</div>\n",
              "      <button class=\"colab-df-convert\" onclick=\"convertToInteractive('df-f0c6cc9d-6574-4215-aadb-d266d69dff17')\"\n",
              "              title=\"Convert this dataframe to an interactive table.\"\n",
              "              style=\"display:none;\">\n",
              "        \n",
              "  <svg xmlns=\"http://www.w3.org/2000/svg\" height=\"24px\"viewBox=\"0 0 24 24\"\n",
              "       width=\"24px\">\n",
              "    <path d=\"M0 0h24v24H0V0z\" fill=\"none\"/>\n",
              "    <path d=\"M18.56 5.44l.94 2.06.94-2.06 2.06-.94-2.06-.94-.94-2.06-.94 2.06-2.06.94zm-11 1L8.5 8.5l.94-2.06 2.06-.94-2.06-.94L8.5 2.5l-.94 2.06-2.06.94zm10 10l.94 2.06.94-2.06 2.06-.94-2.06-.94-.94-2.06-.94 2.06-2.06.94z\"/><path d=\"M17.41 7.96l-1.37-1.37c-.4-.4-.92-.59-1.43-.59-.52 0-1.04.2-1.43.59L10.3 9.45l-7.72 7.72c-.78.78-.78 2.05 0 2.83L4 21.41c.39.39.9.59 1.41.59.51 0 1.02-.2 1.41-.59l7.78-7.78 2.81-2.81c.8-.78.8-2.07 0-2.86zM5.41 20L4 18.59l7.72-7.72 1.47 1.35L5.41 20z\"/>\n",
              "  </svg>\n",
              "      </button>\n",
              "      \n",
              "  <style>\n",
              "    .colab-df-container {\n",
              "      display:flex;\n",
              "      flex-wrap:wrap;\n",
              "      gap: 12px;\n",
              "    }\n",
              "\n",
              "    .colab-df-convert {\n",
              "      background-color: #E8F0FE;\n",
              "      border: none;\n",
              "      border-radius: 50%;\n",
              "      cursor: pointer;\n",
              "      display: none;\n",
              "      fill: #1967D2;\n",
              "      height: 32px;\n",
              "      padding: 0 0 0 0;\n",
              "      width: 32px;\n",
              "    }\n",
              "\n",
              "    .colab-df-convert:hover {\n",
              "      background-color: #E2EBFA;\n",
              "      box-shadow: 0px 1px 2px rgba(60, 64, 67, 0.3), 0px 1px 3px 1px rgba(60, 64, 67, 0.15);\n",
              "      fill: #174EA6;\n",
              "    }\n",
              "\n",
              "    [theme=dark] .colab-df-convert {\n",
              "      background-color: #3B4455;\n",
              "      fill: #D2E3FC;\n",
              "    }\n",
              "\n",
              "    [theme=dark] .colab-df-convert:hover {\n",
              "      background-color: #434B5C;\n",
              "      box-shadow: 0px 1px 3px 1px rgba(0, 0, 0, 0.15);\n",
              "      filter: drop-shadow(0px 1px 2px rgba(0, 0, 0, 0.3));\n",
              "      fill: #FFFFFF;\n",
              "    }\n",
              "  </style>\n",
              "\n",
              "      <script>\n",
              "        const buttonEl =\n",
              "          document.querySelector('#df-f0c6cc9d-6574-4215-aadb-d266d69dff17 button.colab-df-convert');\n",
              "        buttonEl.style.display =\n",
              "          google.colab.kernel.accessAllowed ? 'block' : 'none';\n",
              "\n",
              "        async function convertToInteractive(key) {\n",
              "          const element = document.querySelector('#df-f0c6cc9d-6574-4215-aadb-d266d69dff17');\n",
              "          const dataTable =\n",
              "            await google.colab.kernel.invokeFunction('convertToInteractive',\n",
              "                                                     [key], {});\n",
              "          if (!dataTable) return;\n",
              "\n",
              "          const docLinkHtml = 'Like what you see? Visit the ' +\n",
              "            '<a target=\"_blank\" href=https://colab.research.google.com/notebooks/data_table.ipynb>data table notebook</a>'\n",
              "            + ' to learn more about interactive tables.';\n",
              "          element.innerHTML = '';\n",
              "          dataTable['output_type'] = 'display_data';\n",
              "          await google.colab.output.renderOutput(dataTable, element);\n",
              "          const docLink = document.createElement('div');\n",
              "          docLink.innerHTML = docLinkHtml;\n",
              "          element.appendChild(docLink);\n",
              "        }\n",
              "      </script>\n",
              "    </div>\n",
              "  </div>\n",
              "  "
            ]
          },
          "metadata": {},
          "execution_count": 1213
        }
      ]
    },
    {
      "cell_type": "code",
      "source": [
        "def get_percent_missing(dataframe):\n",
        "    \n",
        "    percent_missing = dataframe.isnull().sum() * 100 / len(dataframe)\n",
        "    missing_value_df = pd.DataFrame({'column_name': dataframe.columns,\n",
        "                                     'percent_missing': percent_missing})\n",
        "    return missing_value_df"
      ],
      "metadata": {
        "id": "VPcVVTZoKq--"
      },
      "execution_count": 1214,
      "outputs": []
    },
    {
      "cell_type": "code",
      "source": [
        "print(get_percent_missing(missing_tf_data_clean))"
      ],
      "metadata": {
        "colab": {
          "base_uri": "https://localhost:8080/"
        },
        "id": "oyg4sRb6RC5r",
        "outputId": "6539bf95-ae06-4e78-eedd-edf789278e18"
      },
      "execution_count": 1215,
      "outputs": [
        {
          "output_type": "stream",
          "name": "stdout",
          "text": [
            "                       column_name  percent_missing\n",
            "rank                          rank              0.0\n",
            "title                        title              0.0\n",
            "total ratings        total ratings              0.0\n",
            "installs                  installs              0.0\n",
            "average rating      average rating              0.0\n",
            "growth (30 days)  growth (30 days)              0.0\n",
            "growth (60 days)  growth (60 days)              0.0\n",
            "price                        price              0.0\n",
            "category                  category              0.0\n",
            "5 star ratings      5 star ratings              0.0\n",
            "4 star ratings      4 star ratings              0.0\n",
            "3 star ratings      3 star ratings              0.0\n",
            "2 star ratings      2 star ratings              0.0\n",
            "1 star ratings      1 star ratings              0.0\n",
            "paid                          paid              0.0\n"
          ]
        }
      ]
    },
    {
      "cell_type": "code",
      "source": [
        "missing_tf_data_clean_10 = missing_tf_data_clean\n",
        "missing_tf_data_clean_5 = missing_tf_data_clean\n",
        "missing_tf_data_clean_1 = missing_tf_data_clean"
      ],
      "metadata": {
        "id": "o_WgCajTFfxg"
      },
      "execution_count": 1216,
      "outputs": []
    },
    {
      "cell_type": "code",
      "source": [
        "def creat_missing_data(missing_tf_data_clean_10,n):\n",
        "  for col_10 in missing_tf_data_clean_10.columns:\n",
        "      missing_tf_data_clean_10.loc[missing_tf_data_clean_10.sample(frac=n).index, col_10] = pd.np.nan\n",
        "  return(missing_tf_data_clean_10)"
      ],
      "metadata": {
        "id": "o-91jr0zC4F_"
      },
      "execution_count": 1217,
      "outputs": []
    },
    {
      "cell_type": "code",
      "source": [
        "from sklearn.metrics import accuracy_score,classification_report,ConfusionMatrixDisplay,confusion_matrix"
      ],
      "metadata": {
        "id": "GTJI64VyZTwN"
      },
      "execution_count": 1218,
      "outputs": []
    },
    {
      "cell_type": "markdown",
      "source": [
        "#Remove 1%, 5%, and 10% of your data randomly and impute the values back using at least 3 imputation methods. How well did the methods recover the missing values?  That is remove some data, check the % error on residuals for numeric data and check for bias and variance of the error."
      ],
      "metadata": {
        "id": "DTwDFZDWqRtV"
      }
    },
    {
      "cell_type": "markdown",
      "source": [
        "#1%"
      ],
      "metadata": {
        "id": "oGLyIEhaTspa"
      }
    },
    {
      "cell_type": "code",
      "source": [
        "missing_tf_data_clean_10 = creat_missing_data(missing_tf_data_clean_10,0.01)"
      ],
      "metadata": {
        "colab": {
          "base_uri": "https://localhost:8080/"
        },
        "id": "6pZxtg-7RQf0",
        "outputId": "acbef896-9586-4db0-af10-48a6e69f9a33"
      },
      "execution_count": 1219,
      "outputs": [
        {
          "output_type": "stream",
          "name": "stderr",
          "text": [
            "<ipython-input-1217-69dff3a0958d>:3: FutureWarning: The pandas.np module is deprecated and will be removed from pandas in a future version. Import numpy directly instead\n",
            "  missing_tf_data_clean_10.loc[missing_tf_data_clean_10.sample(frac=n).index, col_10] = pd.np.nan\n",
            "/usr/local/lib/python3.8/dist-packages/pandas/core/indexing.py:1732: SettingWithCopyWarning: \n",
            "A value is trying to be set on a copy of a slice from a DataFrame\n",
            "\n",
            "See the caveats in the documentation: https://pandas.pydata.org/pandas-docs/stable/user_guide/indexing.html#returning-a-view-versus-a-copy\n",
            "  self._setitem_single_block(indexer, value, name)\n",
            "/usr/local/lib/python3.8/dist-packages/pandas/core/indexing.py:723: SettingWithCopyWarning: \n",
            "A value is trying to be set on a copy of a slice from a DataFrame\n",
            "\n",
            "See the caveats in the documentation: https://pandas.pydata.org/pandas-docs/stable/user_guide/indexing.html#returning-a-view-versus-a-copy\n",
            "  iloc._setitem_with_indexer(indexer, value, self.name)\n"
          ]
        }
      ]
    },
    {
      "cell_type": "code",
      "source": [
        "print(get_percent_missing(missing_tf_data_clean_10))"
      ],
      "metadata": {
        "colab": {
          "base_uri": "https://localhost:8080/"
        },
        "id": "5dq52Z6MYIfv",
        "outputId": "f18e45e7-7b4c-4616-d31f-da4dcdbbdfb4"
      },
      "execution_count": 1220,
      "outputs": [
        {
          "output_type": "stream",
          "name": "stdout",
          "text": [
            "                       column_name  percent_missing\n",
            "rank                          rank         1.019462\n",
            "title                        title         1.019462\n",
            "total ratings        total ratings         1.019462\n",
            "installs                  installs         1.019462\n",
            "average rating      average rating         1.019462\n",
            "growth (30 days)  growth (30 days)         1.019462\n",
            "growth (60 days)  growth (60 days)         1.019462\n",
            "price                        price         1.019462\n",
            "category                  category         1.019462\n",
            "5 star ratings      5 star ratings         1.019462\n",
            "4 star ratings      4 star ratings         1.019462\n",
            "3 star ratings      3 star ratings         1.019462\n",
            "2 star ratings      2 star ratings         1.019462\n",
            "1 star ratings      1 star ratings         1.019462\n",
            "paid                          paid         1.019462\n"
          ]
        }
      ]
    },
    {
      "cell_type": "markdown",
      "source": [
        "#Imputation"
      ],
      "metadata": {
        "id": "vcenApwITVFb"
      }
    },
    {
      "cell_type": "code",
      "source": [
        "from sklearn.impute import KNNImputer"
      ],
      "metadata": {
        "id": "WAqRezGYL_Ml"
      },
      "execution_count": 1221,
      "outputs": []
    },
    {
      "cell_type": "code",
      "source": [
        "missing_tf_data_clean_1_fill_median = missing_tf_data_clean_10.fillna(missing_tf_data_clean_1.median())"
      ],
      "metadata": {
        "id": "V63XHhpqGUJK"
      },
      "execution_count": 1222,
      "outputs": []
    },
    {
      "cell_type": "code",
      "source": [
        "missing_tf_data_clean_1_fill_mean = missing_tf_data_clean_10.fillna(missing_tf_data_clean_1.mean())"
      ],
      "metadata": {
        "id": "OqAo8A9pKJCt"
      },
      "execution_count": 1223,
      "outputs": []
    },
    {
      "cell_type": "code",
      "source": [
        "#Creating a seperate dataframe for performing the KNN imputation\n",
        "#df_number1 = df_number[['sample_num','number_copy_10_percent']]\n",
        "imputer = KNNImputer(n_neighbors=5)\n",
        "missing_tf_data_clean_1_KNN = pd.DataFrame(imputer.fit_transform(missing_tf_data_clean_1), columns = missing_tf_data_clean_1.columns)\n"
      ],
      "metadata": {
        "id": "0V3CBGiPKuDq"
      },
      "execution_count": 1224,
      "outputs": []
    },
    {
      "cell_type": "code",
      "source": [
        "missing_tf_data_clean_1_KNN.isna().sum()"
      ],
      "metadata": {
        "colab": {
          "base_uri": "https://localhost:8080/"
        },
        "id": "GsGF8NpqMPW9",
        "outputId": "b28a99c4-c6e5-4a16-b0c4-39537c86a60e"
      },
      "execution_count": 1225,
      "outputs": [
        {
          "output_type": "execute_result",
          "data": {
            "text/plain": [
              "rank                0\n",
              "title               0\n",
              "total ratings       0\n",
              "installs            0\n",
              "average rating      0\n",
              "growth (30 days)    0\n",
              "growth (60 days)    0\n",
              "price               0\n",
              "category            0\n",
              "5 star ratings      0\n",
              "4 star ratings      0\n",
              "3 star ratings      0\n",
              "2 star ratings      0\n",
              "1 star ratings      0\n",
              "paid                0\n",
              "dtype: int64"
            ]
          },
          "metadata": {},
          "execution_count": 1225
        }
      ]
    },
    {
      "cell_type": "markdown",
      "source": [
        "#Model With 1% Median"
      ],
      "metadata": {
        "id": "EntmoIACN2cP"
      }
    },
    {
      "cell_type": "code",
      "source": [
        "X_train, X_test, y_train, y_test = train_test_split(missing_tf_data_clean_1_fill_median.iloc[:,0:14] , missing_tf_data_clean_1_fill_median.iloc[:,-1] , test_size=0.15, random_state=1)"
      ],
      "metadata": {
        "id": "HumHcQ60M0dR"
      },
      "execution_count": 1226,
      "outputs": []
    },
    {
      "cell_type": "code",
      "source": [
        "# Create linear regression object\n",
        "regr = linear_model.LinearRegression()\n",
        "\n",
        "# Train the model using the training sets\n",
        "regr.fit(X_train,y_train)\n",
        "\n",
        "# Make predictions using the training set\n",
        "y_pred = regr.predict(X_train)\n",
        "# The mean squared error\n",
        "print('Mean squared error: %.2f'% mean_squared_error(y_train, y_pred))\n",
        "# The coefficient of determination: 1 is perfect prediction\n",
        "print('Coefficient of determination: %.2f'% r2_score(y_train, y_pred))\n",
        "r2 = r2_score(y_train,y_pred)\n",
        "print('R^2 score on tarining set =',r2)\n",
        "\n",
        "# Make predictions using the testing set\n",
        "y_pred = regr.predict(X_test)\n",
        "# The mean squared error\n",
        "print('Mean squared error: %.2f'% mean_squared_error(y_test, y_pred))\n",
        "# The coefficient of determination: 1 is perfect prediction\n",
        "print('Coefficient of determination: %.2f'% r2_score(y_test, y_pred))\n",
        "r2 = r2_score(y_test,y_pred)\n",
        "print('R^2 score on test set =',r2)"
      ],
      "metadata": {
        "colab": {
          "base_uri": "https://localhost:8080/"
        },
        "id": "K6ZdRcF2MdlI",
        "outputId": "b2c7a35d-ec3f-40a2-bbe6-80b1e3a6ee6f"
      },
      "execution_count": 1227,
      "outputs": [
        {
          "output_type": "stream",
          "name": "stdout",
          "text": [
            "Mean squared error: 0.02\n",
            "Coefficient of determination: 0.91\n",
            "R^2 score on tarining set = 0.9145381100928501\n",
            "Mean squared error: 0.02\n",
            "Coefficient of determination: 0.91\n",
            "R^2 score on test set = 0.9147657593609154\n"
          ]
        }
      ]
    },
    {
      "cell_type": "markdown",
      "source": [
        "#Model With 1% Mean"
      ],
      "metadata": {
        "id": "GusEJp19OhJm"
      }
    },
    {
      "cell_type": "code",
      "source": [
        "X_train, X_test, y_train, y_test = train_test_split(missing_tf_data_clean_1_fill_mean.iloc[:,0:14] , missing_tf_data_clean_1_fill_mean.iloc[:,-1] , test_size=0.15, random_state=1)"
      ],
      "metadata": {
        "id": "4he4Y5tSNywb"
      },
      "execution_count": 1228,
      "outputs": []
    },
    {
      "cell_type": "code",
      "source": [
        "# Create linear regression object\n",
        "regr = linear_model.LinearRegression()\n",
        "\n",
        "# Train the model using the training sets\n",
        "regr.fit(X_train,y_train)"
      ],
      "metadata": {
        "colab": {
          "base_uri": "https://localhost:8080/"
        },
        "id": "QRoLVEvDOM44",
        "outputId": "877ce351-ddac-4ae6-fc66-6bebb1cd163a"
      },
      "execution_count": 1229,
      "outputs": [
        {
          "output_type": "execute_result",
          "data": {
            "text/plain": [
              "LinearRegression()"
            ]
          },
          "metadata": {},
          "execution_count": 1229
        }
      ]
    },
    {
      "cell_type": "code",
      "source": [
        "# Make predictions using the training set\n",
        "y_pred = regr.predict(X_train)\n",
        "# The mean squared error\n",
        "print('Mean squared error: %.2f'% mean_squared_error(y_train, y_pred))\n",
        "# The coefficient of determination: 1 is perfect prediction\n",
        "print('Coefficient of determination: %.2f'% r2_score(y_train, y_pred))\n",
        "r2 = r2_score(y_train,y_pred)\n",
        "print('R^2 score on tarining set =',r2)"
      ],
      "metadata": {
        "colab": {
          "base_uri": "https://localhost:8080/"
        },
        "id": "FJdZF8h7ORqD",
        "outputId": "791848fb-1ff5-4d94-acac-34a32440a3fa"
      },
      "execution_count": 1230,
      "outputs": [
        {
          "output_type": "stream",
          "name": "stdout",
          "text": [
            "Mean squared error: 0.02\n",
            "Coefficient of determination: 0.93\n",
            "R^2 score on tarining set = 0.9252199971160089\n"
          ]
        }
      ]
    },
    {
      "cell_type": "code",
      "source": [
        "# Make predictions using the testing set\n",
        "y_pred = regr.predict(X_test)\n",
        "# The mean squared error\n",
        "print('Mean squared error: %.2f'% mean_squared_error(y_test, y_pred))\n",
        "# The coefficient of determination: 1 is perfect prediction\n",
        "print('Coefficient of determination: %.2f'% r2_score(y_test, y_pred))\n",
        "r2 = r2_score(y_test,y_pred)\n",
        "print('R^2 score on test set =',r2)"
      ],
      "metadata": {
        "colab": {
          "base_uri": "https://localhost:8080/"
        },
        "id": "Jt3A9BfJOW8m",
        "outputId": "75fd0fcb-4262-411a-8d08-950a7935921f"
      },
      "execution_count": 1231,
      "outputs": [
        {
          "output_type": "stream",
          "name": "stdout",
          "text": [
            "Mean squared error: 0.02\n",
            "Coefficient of determination: 0.91\n",
            "R^2 score on test set = 0.9052667508174842\n"
          ]
        }
      ]
    },
    {
      "cell_type": "markdown",
      "source": [
        "#Model 1% KNN"
      ],
      "metadata": {
        "id": "r5RDm36wPbbw"
      }
    },
    {
      "cell_type": "code",
      "source": [
        "X_train, X_test, y_train, y_test = train_test_split(missing_tf_data_clean_1_KNN.iloc[:,0:14] , missing_tf_data_clean_1_KNN.iloc[:,-1] , test_size=0.15, random_state=1)"
      ],
      "metadata": {
        "id": "XzwxPQGSOpVZ"
      },
      "execution_count": 1232,
      "outputs": []
    },
    {
      "cell_type": "code",
      "source": [
        "# Create linear regression object\n",
        "regr = linear_model.LinearRegression()\n",
        "\n",
        "# Train the model using the training sets\n",
        "regr.fit(X_train,y_train)"
      ],
      "metadata": {
        "colab": {
          "base_uri": "https://localhost:8080/"
        },
        "id": "nxSeUL8NPF7J",
        "outputId": "ca90c794-0c80-4d7e-e8bd-1f792cf8d7a9"
      },
      "execution_count": 1233,
      "outputs": [
        {
          "output_type": "execute_result",
          "data": {
            "text/plain": [
              "LinearRegression()"
            ]
          },
          "metadata": {},
          "execution_count": 1233
        }
      ]
    },
    {
      "cell_type": "code",
      "source": [
        "# Make predictions using the training set\n",
        "y_pred = regr.predict(X_train)\n",
        "# The mean squared error\n",
        "print('Mean squared error: %.2f'% mean_squared_error(y_train, y_pred))\n",
        "# The coefficient of determination: 1 is perfect prediction\n",
        "print('Coefficient of determination: %.2f'% r2_score(y_train, y_pred))\n",
        "r2 = r2_score(y_train,y_pred)\n",
        "print('R^2 score on tarining set =',r2)"
      ],
      "metadata": {
        "colab": {
          "base_uri": "https://localhost:8080/"
        },
        "id": "ZUlKXYsEPNql",
        "outputId": "f400fba4-8f8b-474d-feee-b63aba300a63"
      },
      "execution_count": 1234,
      "outputs": [
        {
          "output_type": "stream",
          "name": "stdout",
          "text": [
            "Mean squared error: 0.01\n",
            "Coefficient of determination: 0.94\n",
            "R^2 score on tarining set = 0.9446326552010162\n"
          ]
        }
      ]
    },
    {
      "cell_type": "code",
      "source": [
        "# Make predictions using the testing set\n",
        "y_pred = regr.predict(X_test)\n",
        "# The mean squared error\n",
        "print('Mean squared error: %.2f'% mean_squared_error(y_test, y_pred))\n",
        "# The coefficient of determination: 1 is perfect prediction\n",
        "print('Coefficient of determination: %.2f'% r2_score(y_test, y_pred))\n",
        "r2 = r2_score(y_test,y_pred)\n",
        "print('R^2 score on test set =',r2)"
      ],
      "metadata": {
        "colab": {
          "base_uri": "https://localhost:8080/"
        },
        "id": "uSPV3RYOPT3x",
        "outputId": "eb35b950-5660-4e48-9015-9898b91a925f"
      },
      "execution_count": 1235,
      "outputs": [
        {
          "output_type": "stream",
          "name": "stdout",
          "text": [
            "Mean squared error: 0.02\n",
            "Coefficient of determination: 0.92\n",
            "R^2 score on test set = 0.9227497298788437\n"
          ]
        }
      ]
    },
    {
      "cell_type": "markdown",
      "source": [
        "#5%"
      ],
      "metadata": {
        "id": "a2Y8U3dxTj8_"
      }
    },
    {
      "cell_type": "code",
      "source": [
        "missing_tf_data_clean_5 = creat_missing_data(missing_tf_data_clean_5,0.04)"
      ],
      "metadata": {
        "colab": {
          "base_uri": "https://localhost:8080/"
        },
        "id": "9In5Tk98RmP5",
        "outputId": "d018bd33-bf7f-42a4-f315-886385304fa1"
      },
      "execution_count": 1236,
      "outputs": [
        {
          "output_type": "stream",
          "name": "stderr",
          "text": [
            "<ipython-input-1217-69dff3a0958d>:3: FutureWarning: The pandas.np module is deprecated and will be removed from pandas in a future version. Import numpy directly instead\n",
            "  missing_tf_data_clean_10.loc[missing_tf_data_clean_10.sample(frac=n).index, col_10] = pd.np.nan\n",
            "/usr/local/lib/python3.8/dist-packages/pandas/core/indexing.py:1732: SettingWithCopyWarning: \n",
            "A value is trying to be set on a copy of a slice from a DataFrame\n",
            "\n",
            "See the caveats in the documentation: https://pandas.pydata.org/pandas-docs/stable/user_guide/indexing.html#returning-a-view-versus-a-copy\n",
            "  self._setitem_single_block(indexer, value, name)\n",
            "/usr/local/lib/python3.8/dist-packages/pandas/core/indexing.py:723: SettingWithCopyWarning: \n",
            "A value is trying to be set on a copy of a slice from a DataFrame\n",
            "\n",
            "See the caveats in the documentation: https://pandas.pydata.org/pandas-docs/stable/user_guide/indexing.html#returning-a-view-versus-a-copy\n",
            "  iloc._setitem_with_indexer(indexer, value, self.name)\n"
          ]
        }
      ]
    },
    {
      "cell_type": "code",
      "source": [
        "print(get_percent_missing(missing_tf_data_clean_5))"
      ],
      "metadata": {
        "colab": {
          "base_uri": "https://localhost:8080/"
        },
        "id": "HWIuzEwbYU0T",
        "outputId": "b2a0c374-af3e-4209-bf78-581fc9aaa85d"
      },
      "execution_count": 1237,
      "outputs": [
        {
          "output_type": "stream",
          "name": "stdout",
          "text": [
            "                       column_name  percent_missing\n",
            "rank                          rank         5.004634\n",
            "title                        title         5.004634\n",
            "total ratings        total ratings         4.911956\n",
            "installs                  installs         4.865616\n",
            "average rating      average rating         4.958295\n",
            "growth (30 days)  growth (30 days)         4.958295\n",
            "growth (60 days)  growth (60 days)         4.958295\n",
            "price                        price         5.004634\n",
            "category                  category         5.004634\n",
            "5 star ratings      5 star ratings         5.004634\n",
            "4 star ratings      4 star ratings         5.004634\n",
            "3 star ratings      3 star ratings         4.958295\n",
            "2 star ratings      2 star ratings         4.958295\n",
            "1 star ratings      1 star ratings         4.958295\n",
            "paid                          paid         5.004634\n"
          ]
        }
      ]
    },
    {
      "cell_type": "code",
      "source": [
        "missing_tf_data_clean_1_fill_median = missing_tf_data_clean_10.fillna(missing_tf_data_clean_1.median())"
      ],
      "metadata": {
        "id": "Q2rdCOxdVpym"
      },
      "execution_count": 1238,
      "outputs": []
    },
    {
      "cell_type": "code",
      "source": [
        "missing_tf_data_clean_1_fill_mean = missing_tf_data_clean_10.fillna(missing_tf_data_clean_1.mean())"
      ],
      "metadata": {
        "id": "_fKdiVmrVvbE"
      },
      "execution_count": 1239,
      "outputs": []
    },
    {
      "cell_type": "code",
      "source": [
        "#Creating a seperate dataframe for performing the KNN imputation\n",
        "#df_number1 = df_number[['sample_num','number_copy_10_percent']]\n",
        "imputer = KNNImputer(n_neighbors=5)\n",
        "missing_tf_data_clean_1_KNN = pd.DataFrame(imputer.fit_transform(missing_tf_data_clean_1), columns = missing_tf_data_clean_1.columns)\n"
      ],
      "metadata": {
        "id": "IvMmHAYjV1JJ"
      },
      "execution_count": 1240,
      "outputs": []
    },
    {
      "cell_type": "markdown",
      "source": [
        "#5% Median"
      ],
      "metadata": {
        "id": "ncKLa78YWp93"
      }
    },
    {
      "cell_type": "code",
      "source": [
        "X_train, X_test, y_train, y_test = train_test_split(missing_tf_data_clean_1_fill_median.iloc[:,0:14] , missing_tf_data_clean_1_fill_median.iloc[:,-1] , test_size=0.15, random_state=1)"
      ],
      "metadata": {
        "id": "EnAa2KdwWdrC"
      },
      "execution_count": 1241,
      "outputs": []
    },
    {
      "cell_type": "code",
      "source": [
        "# Create linear regression object\n",
        "regr = linear_model.LinearRegression()\n",
        "\n",
        "# Train the model using the training sets\n",
        "regr.fit(X_train,y_train)\n",
        "\n",
        "# Make predictions using the training set\n",
        "y_pred = regr.predict(X_train)\n",
        "# The mean squared error\n",
        "print('Mean squared error: %.2f'% mean_squared_error(y_train, y_pred))\n",
        "# The coefficient of determination: 1 is perfect prediction\n",
        "print('Coefficient of determination: %.2f'% r2_score(y_train, y_pred))\n",
        "r2 = r2_score(y_train,y_pred)\n",
        "print('R^2 score on tarining set =',r2)\n",
        "\n",
        "# Make predictions using the testing set\n",
        "y_pred = regr.predict(X_test)\n",
        "# The mean squared error\n",
        "print('Mean squared error: %.2f'% mean_squared_error(y_test, y_pred))\n",
        "# The coefficient of determination: 1 is perfect prediction\n",
        "print('Coefficient of determination: %.2f'% r2_score(y_test, y_pred))\n",
        "r2 = r2_score(y_test,y_pred)\n",
        "print('R^2 score on test set =',r2)"
      ],
      "metadata": {
        "colab": {
          "base_uri": "https://localhost:8080/"
        },
        "id": "jlB-xDQ6WU9T",
        "outputId": "e65f1e68-4c36-4d43-ba78-5e5b5870866e"
      },
      "execution_count": 1242,
      "outputs": [
        {
          "output_type": "stream",
          "name": "stdout",
          "text": [
            "Mean squared error: 0.05\n",
            "Coefficient of determination: 0.79\n",
            "R^2 score on tarining set = 0.7891406149614719\n",
            "Mean squared error: 0.05\n",
            "Coefficient of determination: 0.82\n",
            "R^2 score on test set = 0.8174808319879765\n"
          ]
        }
      ]
    },
    {
      "cell_type": "code",
      "source": [
        "X_train, X_test, y_train, y_test = train_test_split(missing_tf_data_clean_1_fill_mean.iloc[:,0:14] , missing_tf_data_clean_1_fill_mean.iloc[:,-1] , test_size=0.15, random_state=1)"
      ],
      "metadata": {
        "id": "PySHRjgTW8xy"
      },
      "execution_count": 1243,
      "outputs": []
    },
    {
      "cell_type": "markdown",
      "source": [
        "#5% Mean\n"
      ],
      "metadata": {
        "id": "pXtRSXhncjl6"
      }
    },
    {
      "cell_type": "code",
      "source": [
        "X_train, X_test, y_train, y_test = train_test_split(missing_tf_data_clean_1_fill_mean.iloc[:,0:14] , missing_tf_data_clean_1_fill_mean.iloc[:,-1] , test_size=0.15, random_state=1)"
      ],
      "metadata": {
        "id": "ejwp8r-5cnO8"
      },
      "execution_count": 1244,
      "outputs": []
    },
    {
      "cell_type": "code",
      "source": [
        "# Create linear regression object\n",
        "regr = linear_model.LinearRegression()\n",
        "\n",
        "# Train the model using the training sets\n",
        "regr.fit(X_train,y_train)\n",
        "\n",
        "# Make predictions using the training set\n",
        "y_pred = regr.predict(X_train)\n",
        "# The mean squared error\n",
        "print('Mean squared error: %.2f'% mean_squared_error(y_train, y_pred))\n",
        "# The coefficient of determination: 1 is perfect prediction\n",
        "print('Coefficient of determination: %.2f'% r2_score(y_train, y_pred))\n",
        "r2 = r2_score(y_train,y_pred)\n",
        "print('R^2 score on tarining set =',r2)\n",
        "\n",
        "# Make predictions using the testing set\n",
        "y_pred = regr.predict(X_test)\n",
        "# The mean squared error\n",
        "print('Mean squared error: %.2f'% mean_squared_error(y_test, y_pred))\n",
        "# The coefficient of determination: 1 is perfect prediction\n",
        "print('Coefficient of determination: %.2f'% r2_score(y_test, y_pred))\n",
        "r2 = r2_score(y_test,y_pred)\n",
        "print('R^2 score on test set =',r2)"
      ],
      "metadata": {
        "colab": {
          "base_uri": "https://localhost:8080/"
        },
        "id": "nHZTJi1_gk_n",
        "outputId": "24ff4ef2-2df8-4d84-97fc-9b4dbe29ed66"
      },
      "execution_count": 1245,
      "outputs": [
        {
          "output_type": "stream",
          "name": "stdout",
          "text": [
            "Mean squared error: 0.04\n",
            "Coefficient of determination: 0.85\n",
            "R^2 score on tarining set = 0.8510266468894871\n",
            "Mean squared error: 0.04\n",
            "Coefficient of determination: 0.85\n",
            "R^2 score on test set = 0.8478888310329931\n"
          ]
        }
      ]
    },
    {
      "cell_type": "markdown",
      "source": [
        "#5% KNN\n"
      ],
      "metadata": {
        "id": "QH0z8Dj5g8TP"
      }
    },
    {
      "cell_type": "code",
      "source": [
        "X_train, X_test, y_train, y_test = train_test_split(missing_tf_data_clean_1_KNN.iloc[:,0:14] , missing_tf_data_clean_1_KNN.iloc[:,-1] , test_size=0.15, random_state=1)"
      ],
      "metadata": {
        "id": "7zglk2YUgv6S"
      },
      "execution_count": 1246,
      "outputs": []
    },
    {
      "cell_type": "code",
      "source": [
        "# Create linear regression object\n",
        "regr = linear_model.LinearRegression()\n",
        "\n",
        "# Train the model using the training sets\n",
        "regr.fit(X_train,y_train)\n",
        "\n",
        "# Make predictions using the training set\n",
        "y_pred = regr.predict(X_train)\n",
        "# The mean squared error\n",
        "print('Mean squared error: %.2f'% mean_squared_error(y_train, y_pred))\n",
        "# The coefficient of determination: 1 is perfect prediction\n",
        "print('Coefficient of determination: %.2f'% r2_score(y_train, y_pred))\n",
        "r2 = r2_score(y_train,y_pred)\n",
        "print('R^2 score on tarining set =',r2)\n",
        "\n",
        "# Make predictions using the testing set\n",
        "y_pred = regr.predict(X_test)\n",
        "# The mean squared error\n",
        "print('Mean squared error: %.2f'% mean_squared_error(y_test, y_pred))\n",
        "# The coefficient of determination: 1 is perfect prediction\n",
        "print('Coefficient of determination: %.2f'% r2_score(y_test, y_pred))\n",
        "r2 = r2_score(y_test,y_pred)\n",
        "print('R^2 score on test set =',r2)"
      ],
      "metadata": {
        "colab": {
          "base_uri": "https://localhost:8080/"
        },
        "id": "2Y-BBH7thAgu",
        "outputId": "f2604096-0474-4fd7-d7f1-4a8300ab04c4"
      },
      "execution_count": 1247,
      "outputs": [
        {
          "output_type": "stream",
          "name": "stdout",
          "text": [
            "Mean squared error: 0.01\n",
            "Coefficient of determination: 0.94\n",
            "R^2 score on tarining set = 0.9434127369001792\n",
            "Mean squared error: 0.02\n",
            "Coefficient of determination: 0.92\n",
            "R^2 score on test set = 0.9221930450232808\n"
          ]
        }
      ]
    },
    {
      "cell_type": "markdown",
      "source": [
        "#10%"
      ],
      "metadata": {
        "id": "o475z4ndVbMI"
      }
    },
    {
      "cell_type": "code",
      "source": [
        "missing_tf_data_clean_5 = creat_missing_data(missing_tf_data_clean_5,0.05)"
      ],
      "metadata": {
        "colab": {
          "base_uri": "https://localhost:8080/"
        },
        "id": "O3ubiNPKTEVK",
        "outputId": "7b86a0ec-7014-426f-9c81-497a850a006d"
      },
      "execution_count": 1248,
      "outputs": [
        {
          "output_type": "stream",
          "name": "stderr",
          "text": [
            "<ipython-input-1217-69dff3a0958d>:3: FutureWarning: The pandas.np module is deprecated and will be removed from pandas in a future version. Import numpy directly instead\n",
            "  missing_tf_data_clean_10.loc[missing_tf_data_clean_10.sample(frac=n).index, col_10] = pd.np.nan\n",
            "/usr/local/lib/python3.8/dist-packages/pandas/core/indexing.py:1732: SettingWithCopyWarning: \n",
            "A value is trying to be set on a copy of a slice from a DataFrame\n",
            "\n",
            "See the caveats in the documentation: https://pandas.pydata.org/pandas-docs/stable/user_guide/indexing.html#returning-a-view-versus-a-copy\n",
            "  self._setitem_single_block(indexer, value, name)\n",
            "/usr/local/lib/python3.8/dist-packages/pandas/core/indexing.py:723: SettingWithCopyWarning: \n",
            "A value is trying to be set on a copy of a slice from a DataFrame\n",
            "\n",
            "See the caveats in the documentation: https://pandas.pydata.org/pandas-docs/stable/user_guide/indexing.html#returning-a-view-versus-a-copy\n",
            "  iloc._setitem_with_indexer(indexer, value, self.name)\n"
          ]
        }
      ]
    },
    {
      "cell_type": "code",
      "source": [
        "print(get_percent_missing(missing_tf_data_clean_10))"
      ],
      "metadata": {
        "colab": {
          "base_uri": "https://localhost:8080/"
        },
        "id": "C11xyA_sYbaA",
        "outputId": "2bdd9cc6-87f3-4edf-f4c7-831a0019bdfb"
      },
      "execution_count": 1249,
      "outputs": [
        {
          "output_type": "stream",
          "name": "stdout",
          "text": [
            "                       column_name  percent_missing\n",
            "rank                          rank         9.870250\n",
            "title                        title         9.684893\n",
            "total ratings        total ratings         9.545876\n",
            "installs                  installs         9.731233\n",
            "average rating      average rating         9.823911\n",
            "growth (30 days)  growth (30 days)         9.777572\n",
            "growth (60 days)  growth (60 days)         9.731233\n",
            "price                        price         9.684893\n",
            "category                  category         9.823911\n",
            "5 star ratings      5 star ratings         9.870250\n",
            "4 star ratings      4 star ratings         9.731233\n",
            "3 star ratings      3 star ratings         9.592215\n",
            "2 star ratings      2 star ratings         9.823911\n",
            "1 star ratings      1 star ratings         9.592215\n",
            "paid                          paid         9.777572\n"
          ]
        }
      ]
    },
    {
      "cell_type": "markdown",
      "source": [
        "#10% MEDIAN\n"
      ],
      "metadata": {
        "id": "vq6vabqJhM5N"
      }
    },
    {
      "cell_type": "code",
      "source": [
        "X_train, X_test, y_train, y_test = train_test_split(missing_tf_data_clean_1_fill_median.iloc[:,0:14] , missing_tf_data_clean_1_fill_median.iloc[:,-1] , test_size=0.15, random_state=1)"
      ],
      "metadata": {
        "id": "gKyG4nVAhSdI"
      },
      "execution_count": 1250,
      "outputs": []
    },
    {
      "cell_type": "code",
      "source": [
        "# Create linear regression object\n",
        "regr = linear_model.LinearRegression()\n",
        "\n",
        "# Train the model using the training sets\n",
        "regr.fit(X_train,y_train)\n",
        "\n",
        "# Make predictions using the training set\n",
        "y_pred = regr.predict(X_train)\n",
        "# The mean squared error\n",
        "print('Mean squared error: %.2f'% mean_squared_error(y_train, y_pred))\n",
        "# The coefficient of determination: 1 is perfect prediction\n",
        "print('Coefficient of determination: %.2f'% r2_score(y_train, y_pred))\n",
        "r2 = r2_score(y_train,y_pred)\n",
        "print('R^2 score on tarining set =',r2)\n",
        "\n",
        "# Make predictions using the testing set\n",
        "y_pred = regr.predict(X_test)\n",
        "# The mean squared error\n",
        "print('Mean squared error: %.2f'% mean_squared_error(y_test, y_pred))\n",
        "# The coefficient of determination: 1 is perfect prediction\n",
        "print('Coefficient of determination: %.2f'% r2_score(y_test, y_pred))\n",
        "r2 = r2_score(y_test,y_pred)\n",
        "print('R^2 score on test set =',r2)"
      ],
      "metadata": {
        "colab": {
          "base_uri": "https://localhost:8080/"
        },
        "id": "FplNPVVohSC7",
        "outputId": "0ca29cba-b5d4-4bf8-b8f1-720e2d6cd380"
      },
      "execution_count": 1251,
      "outputs": [
        {
          "output_type": "stream",
          "name": "stdout",
          "text": [
            "Mean squared error: 0.05\n",
            "Coefficient of determination: 0.79\n",
            "R^2 score on tarining set = 0.7891406149614719\n",
            "Mean squared error: 0.05\n",
            "Coefficient of determination: 0.82\n",
            "R^2 score on test set = 0.8174808319879765\n"
          ]
        }
      ]
    },
    {
      "cell_type": "markdown",
      "source": [
        "#10% MEAN"
      ],
      "metadata": {
        "id": "IaTcvh-vh9Ha"
      }
    },
    {
      "cell_type": "code",
      "source": [
        "X_train, X_test, y_train, y_test = train_test_split(missing_tf_data_clean_1_fill_mean.iloc[:,0:14] , missing_tf_data_clean_1_fill_mean.iloc[:,-1] , test_size=0.15, random_state=1)"
      ],
      "metadata": {
        "id": "v8TSBx3_h71U"
      },
      "execution_count": 1252,
      "outputs": []
    },
    {
      "cell_type": "code",
      "source": [
        "# Create linear regression object\n",
        "regr = linear_model.LinearRegression()\n",
        "\n",
        "# Train the model using the training sets\n",
        "regr.fit(X_train,y_train)\n",
        "\n",
        "# Make predictions using the training set\n",
        "y_pred = regr.predict(X_train)\n",
        "# The mean squared error\n",
        "print('Mean squared error: %.2f'% mean_squared_error(y_train, y_pred))\n",
        "# The coefficient of determination: 1 is perfect prediction\n",
        "print('Coefficient of determination: %.2f'% r2_score(y_train, y_pred))\n",
        "r2 = r2_score(y_train,y_pred)\n",
        "print('R^2 score on tarining set =',r2)\n",
        "\n",
        "# Make predictions using the testing set\n",
        "y_pred = regr.predict(X_test)\n",
        "# The mean squared error\n",
        "print('Mean squared error: %.2f'% mean_squared_error(y_test, y_pred))\n",
        "# The coefficient of determination: 1 is perfect prediction\n",
        "print('Coefficient of determination: %.2f'% r2_score(y_test, y_pred))\n",
        "r2 = r2_score(y_test,y_pred)\n",
        "print('R^2 score on test set =',r2)"
      ],
      "metadata": {
        "colab": {
          "base_uri": "https://localhost:8080/"
        },
        "id": "UsQHjttuiD7R",
        "outputId": "6d128a6e-7cce-4d08-d531-224c26a87b05"
      },
      "execution_count": 1253,
      "outputs": [
        {
          "output_type": "stream",
          "name": "stdout",
          "text": [
            "Mean squared error: 0.04\n",
            "Coefficient of determination: 0.85\n",
            "R^2 score on tarining set = 0.8510266468894871\n",
            "Mean squared error: 0.04\n",
            "Coefficient of determination: 0.85\n",
            "R^2 score on test set = 0.8478888310329931\n"
          ]
        }
      ]
    },
    {
      "cell_type": "markdown",
      "source": [
        "#10% KNN\n"
      ],
      "metadata": {
        "id": "g4wkuxr8iRMi"
      }
    },
    {
      "cell_type": "code",
      "source": [
        "X_train, X_test, y_train, y_test = train_test_split(missing_tf_data_clean_1_KNN.iloc[:,0:14] , missing_tf_data_clean_1_KNN.iloc[:,-1] , test_size=0.15, random_state=1)"
      ],
      "metadata": {
        "id": "Zl35QSA1iO_M"
      },
      "execution_count": 1254,
      "outputs": []
    },
    {
      "cell_type": "code",
      "source": [
        "# Create linear regression object\n",
        "regr = linear_model.LinearRegression()\n",
        "\n",
        "# Train the model using the training sets\n",
        "regr.fit(X_train,y_train)\n",
        "\n",
        "# Make predictions using the training set\n",
        "y_pred = regr.predict(X_train)\n",
        "# The mean squared error\n",
        "print('Mean squared error: %.2f'% mean_squared_error(y_train, y_pred))\n",
        "# The coefficient of determination: 1 is perfect prediction\n",
        "print('Coefficient of determination: %.2f'% r2_score(y_train, y_pred))\n",
        "r2 = r2_score(y_train,y_pred)\n",
        "print('R^2 score on tarining set =',r2)\n",
        "\n",
        "# Make predictions using the testing set\n",
        "y_pred = regr.predict(X_test)\n",
        "# The mean squared error\n",
        "print('Mean squared error: %.2f'% mean_squared_error(y_test, y_pred))\n",
        "# The coefficient of determination: 1 is perfect prediction\n",
        "print('Coefficient of determination: %.2f'% r2_score(y_test, y_pred))\n",
        "r2 = r2_score(y_test,y_pred)\n",
        "print('R^2 score on test set =',r2)"
      ],
      "metadata": {
        "colab": {
          "base_uri": "https://localhost:8080/"
        },
        "id": "Ano5bHrxieD4",
        "outputId": "f0ac6cd8-1305-413a-d394-2fa01b1ba764"
      },
      "execution_count": 1255,
      "outputs": [
        {
          "output_type": "stream",
          "name": "stdout",
          "text": [
            "Mean squared error: 0.01\n",
            "Coefficient of determination: 0.94\n",
            "R^2 score on tarining set = 0.9434127369001792\n",
            "Mean squared error: 0.02\n",
            "Coefficient of determination: 0.92\n",
            "R^2 score on test set = 0.9221930450232808\n"
          ]
        }
      ]
    },
    {
      "cell_type": "markdown",
      "source": [
        "Mean , Median and KNN methods are used for the imputation and the % errors updated are shown above"
      ],
      "metadata": {
        "id": "y_gDrkwr4_43"
      }
    },
    {
      "cell_type": "markdown",
      "source": [
        "#Answer the listed Questions"
      ],
      "metadata": {
        "id": "qCKs5xQ_jddd"
      }
    },
    {
      "cell_type": "markdown",
      "source": [
        "Which independent variables are useful to predict a target (dependent variable)?\n",
        "\n",
        "A) The order of dependent variables is as follows\n",
        "\n",
        "Total ratings\n",
        "1 star ratings\n",
        "5 star ratings\n",
        "4 star ratings\n",
        "3 star ratings\n",
        "2 star ratings\n",
        "price\n",
        "growth (60 days)\n",
        "growth (30 days)\n",
        "rank\n",
        "\n",
        "\n",
        "Which independent variable have missing data? How much?\n",
        "\n",
        "A) There are no independent variables with missing data. All the variables have data which can be seen in checking missing data above.\n",
        "\n",
        "In the predictor variables independent of all the other predictor variables?\n",
        "\n",
        "No, They are dependent on each other and it can be shown based on the correlation in the plots like  heat map above. \n",
        "\n",
        "Do the training and test sets have the same data?\n",
        "\n",
        "A) Yes , Training and test sets have the same data based on the graphs plotted. Training and test sets lie almost in the same range according to them.\n",
        "\n",
        "\n",
        "Which predictor variables are the most important?\n",
        "\n",
        "A)\n",
        "  price\n",
        "\t2 star ratings\n",
        "\t3 star ratings\n",
        "\t4 star ratings\n",
        "\tcategory\n",
        "  installs\n",
        "  5 star ratings\n",
        "\t1 star ratings\n",
        "\tgrowth (30 days)\n",
        "\tgrowth (60 days)\n",
        "\ttotal ratings\n",
        "\ttitle\n",
        "\trank\n",
        "\taverage rating\n",
        "\n",
        "Do the ranges of the predictor variables make sense?\n",
        "\n",
        "A) Yes, The predictor variables are similiar in ranges after the min max scaling\n",
        "\n",
        "What are the distributions of the predictor variables?\n",
        "\n",
        "A) By the Q-Q plots plotted, Rank is following normal distribution and the other features are roughly following exponential distributions like the star ratings and the growth days "
      ],
      "metadata": {
        "id": "xEj2s8pnjhjw"
      }
    },
    {
      "cell_type": "markdown",
      "source": [
        "#REFERENCES\n",
        "\n",
        "https://vitalflux.com/pandas-impute-missing-values-mean-median-mode/\n",
        "\n",
        "Sckit learn offcial documentation\n",
        "\n",
        "Eli5 official documentation\n",
        "\n",
        "\n",
        "MIT License\n",
        "Copyright (c) 2023 Niharika Karri\n",
        "\n",
        "Permission is hereby granted, free of charge, to any person obtaining a copy of this software and associated documentation files (the \"Software\"), to deal in the Software without restriction, including without limitation the rights to use, copy, modify, merge, publish, distribute, sublicense, and/or sell copies of the Software, and to permit persons to whom the Software is furnished to do so, subject to the following conditions:\n",
        "\n",
        "The above copyright notice and this permission notice shall be included in all copies or substantial portions of the Software.\n",
        "\n",
        "THE SOFTWARE IS PROVIDED \"AS IS\", WITHOUT WARRANTY OF ANY KIND, EXPRESS OR IMPLIED, INCLUDING BUT NOT LIMITED TO THE WARRANTIES OF MERCHANTABILITY, FITNESS FOR A PARTICULAR PURPOSE AND NONINFRINGEMENT. IN NO EVENT SHALL THE AUTHORS OR COPYRIGHT HOLDERS BE LIABLE FOR ANY CLAIM, DAMAGES OR OTHER LIABILITY, WHETHER IN AN ACTION OF CONTRACT, TORT OR OTHERWISE, ARISING FROM, OUT OF OR IN CONNECTION WITH THE SOFTWARE OR THE USE OR OTHER DEALINGS IN THE SOFTWARE\n",
        "\n"
      ],
      "metadata": {
        "id": "JtDQ7RRvmxX8"
      }
    }
  ]
}